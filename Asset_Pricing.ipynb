{
 "cells": [
  {
   "cell_type": "code",
   "execution_count": 1,
   "metadata": {},
   "outputs": [
    {
     "ename": "ImportError",
     "evalue": "Qiskit is installed in an invalid environment that has both Qiskit >=1.0 and an earlier version. You should create a new virtual environment, and ensure that you do not mix dependencies between Qiskit <1.0 and >=1.0. Any packages that depend on 'qiskit-terra' are not compatible with Qiskit 1.0 and will need to be updated. Qiskit unfortunately cannot enforce this requirement during environment resolution. See https://qisk.it/packaging-1-0 for more detail.",
     "output_type": "error",
     "traceback": [
      "\u001b[1;31m---------------------------------------------------------------------------\u001b[0m",
      "\u001b[1;31mImportError\u001b[0m                               Traceback (most recent call last)",
      "Cell \u001b[1;32mIn[1], line 1\u001b[0m\n\u001b[1;32m----> 1\u001b[0m \u001b[38;5;28;01mfrom\u001b[39;00m \u001b[38;5;21;01mAssetPricing\u001b[39;00m \u001b[38;5;28;01mimport\u001b[39;00m (GenerateEmpiricalProblems, \n\u001b[0;32m      2\u001b[0m                           Generate_D_Minus_E_problem, \n\u001b[0;32m      3\u001b[0m                           calculate_d_vector, \n\u001b[0;32m      4\u001b[0m                           StackEmpiricalProblems,\n\u001b[0;32m      5\u001b[0m                           SolutionProjectionOpertator,\n\u001b[0;32m      6\u001b[0m                           MultipleAbcissaObservable,\n\u001b[0;32m      7\u001b[0m                           MultipleModelsObservable)\n\u001b[0;32m      8\u001b[0m \u001b[38;5;28;01mfrom\u001b[39;00m \u001b[38;5;21;01menhanced_hybrid_hhl\u001b[39;00m \u001b[38;5;28;01mimport\u001b[39;00m HHL, GrayCodeInversion, QuantumLinearSystemProblem, HHL_Result\n\u001b[0;32m      9\u001b[0m \u001b[38;5;28;01mfrom\u001b[39;00m \u001b[38;5;21;01mqiskit\u001b[39;00m\u001b[38;5;21;01m.\u001b[39;00m\u001b[38;5;21;01mquantum_info\u001b[39;00m \u001b[38;5;28;01mimport\u001b[39;00m Statevector\n",
      "File \u001b[1;32mc:\\Users\\19899\\Documents\\HHL\\HybridInversion\\Enhanced-Hybrid-HHL\\AssetPricing\\__init__.py:1\u001b[0m\n\u001b[1;32m----> 1\u001b[0m \u001b[38;5;28;01mfrom\u001b[39;00m \u001b[38;5;21;01m.\u001b[39;00m\u001b[38;5;21;01mGenerateEmpiricalProblems\u001b[39;00m \u001b[38;5;28;01mimport\u001b[39;00m (GenerateEmpiricalProblems, \n\u001b[0;32m      2\u001b[0m                                         Generate_D_Minus_E_problem, \n\u001b[0;32m      3\u001b[0m                                         stack_vector, \n\u001b[0;32m      4\u001b[0m                                         StackEmpiricalProblems, \n\u001b[0;32m      5\u001b[0m                                         calculate_d_vector)\n\u001b[0;32m      6\u001b[0m \u001b[38;5;28;01mfrom\u001b[39;00m \u001b[38;5;21;01m.\u001b[39;00m\u001b[38;5;21;01mGenerateObservables\u001b[39;00m \u001b[38;5;28;01mimport\u001b[39;00m (MultipleAbcissaObservable, \n\u001b[0;32m      7\u001b[0m                                   MultipleModelsObservable,\n\u001b[0;32m      8\u001b[0m                                   SolutionProjectionOpertator)\n\u001b[0;32m     10\u001b[0m __all__ \u001b[38;5;241m=\u001b[39m [\u001b[38;5;124m\"\u001b[39m\u001b[38;5;124mGenerateEmpiricalProblems\u001b[39m\u001b[38;5;124m\"\u001b[39m,\n\u001b[0;32m     11\u001b[0m            \u001b[38;5;124m\"\u001b[39m\u001b[38;5;124mGenerate_D_Minus_E_problem\u001b[39m\u001b[38;5;124m\"\u001b[39m,\n\u001b[0;32m     12\u001b[0m            \u001b[38;5;124m\"\u001b[39m\u001b[38;5;124mstack_vector\u001b[39m\u001b[38;5;124m\"\u001b[39m,\n\u001b[1;32m   (...)\u001b[0m\n\u001b[0;32m     17\u001b[0m            \u001b[38;5;124m\"\u001b[39m\u001b[38;5;124mSolutionProjectionOpertator\u001b[39m\u001b[38;5;124m\"\u001b[39m,\n\u001b[0;32m     18\u001b[0m            ]\n",
      "File \u001b[1;32mc:\\Users\\19899\\Documents\\HHL\\HybridInversion\\Enhanced-Hybrid-HHL\\AssetPricing\\GenerateEmpiricalProblems.py:14\u001b[0m\n\u001b[0;32m     11\u001b[0m \u001b[38;5;28;01mimport\u001b[39;00m \u001b[38;5;21;01mnumpy\u001b[39;00m \u001b[38;5;28;01mas\u001b[39;00m \u001b[38;5;21;01mnp\u001b[39;00m\n\u001b[0;32m     12\u001b[0m \u001b[38;5;28;01mfrom\u001b[39;00m \u001b[38;5;21;01mnumpy\u001b[39;00m\u001b[38;5;21;01m.\u001b[39;00m\u001b[38;5;21;01mtyping\u001b[39;00m \u001b[38;5;28;01mimport\u001b[39;00m ArrayLike\n\u001b[1;32m---> 14\u001b[0m \u001b[38;5;28;01mfrom\u001b[39;00m \u001b[38;5;21;01m.\u001b[39;00m\u001b[38;5;21;01mquantum_linear_system\u001b[39;00m \u001b[38;5;28;01mimport\u001b[39;00m QuantumLinearSystemProblem \u001b[38;5;28;01mas\u001b[39;00m QLSP\n\u001b[0;32m     16\u001b[0m \u001b[38;5;28;01mdef\u001b[39;00m \u001b[38;5;21mGenerateEmpiricalProblems\u001b[39m(utility_function: \u001b[38;5;28mstr\u001b[39m, gamma:\u001b[38;5;28mint\u001b[39m, size:\u001b[38;5;28mint\u001b[39m \u001b[38;5;241m=\u001b[39m \u001b[38;5;241m4\u001b[39m):\n\u001b[0;32m     17\u001b[0m \u001b[38;5;250m    \u001b[39m\u001b[38;5;124;03m\"\"\"\u001b[39;00m\n\u001b[0;32m     18\u001b[0m \u001b[38;5;124;03m    The function `GenerateEmpiricalProblems` generates a quantum linear system problem for the standard\u001b[39;00m\n\u001b[0;32m     19\u001b[0m \u001b[38;5;124;03m    Asset Pricing application with a given utility function and gamma value.\u001b[39;00m\n\u001b[1;32m   (...)\u001b[0m\n\u001b[0;32m     25\u001b[0m \u001b[38;5;124;03m    Hermitian matrix \"hermitian\" and the vector \"b\".\u001b[39;00m\n\u001b[0;32m     26\u001b[0m \u001b[38;5;124;03m    \"\"\"\u001b[39;00m\n",
      "File \u001b[1;32mc:\\Users\\19899\\Documents\\HHL\\HybridInversion\\Enhanced-Hybrid-HHL\\AssetPricing\\quantum_linear_system\\__init__.py:1\u001b[0m\n\u001b[1;32m----> 1\u001b[0m \u001b[38;5;28;01mfrom\u001b[39;00m \u001b[38;5;21;01m.\u001b[39;00m\u001b[38;5;21;01mgenerate_quantum_linear_system_problems\u001b[39;00m \u001b[38;5;28;01mimport\u001b[39;00m RandomQLSP, ExampleQLSP\n\u001b[0;32m      2\u001b[0m \u001b[38;5;28;01mfrom\u001b[39;00m \u001b[38;5;21;01m.\u001b[39;00m\u001b[38;5;21;01mQuantumLinearSystemSolver\u001b[39;00m \u001b[38;5;28;01mimport\u001b[39;00m QuantumLinearSystemSolver\n\u001b[0;32m      3\u001b[0m \u001b[38;5;28;01mfrom\u001b[39;00m \u001b[38;5;21;01m.\u001b[39;00m\u001b[38;5;21;01mquantum_linear_system\u001b[39;00m \u001b[38;5;28;01mimport\u001b[39;00m QuantumLinearSystemProblem, HHL_Result\n",
      "File \u001b[1;32mc:\\Users\\19899\\Documents\\HHL\\HybridInversion\\Enhanced-Hybrid-HHL\\AssetPricing\\quantum_linear_system\\generate_quantum_linear_system_problems.py:1\u001b[0m\n\u001b[1;32m----> 1\u001b[0m \u001b[38;5;28;01mfrom\u001b[39;00m \u001b[38;5;21;01m.\u001b[39;00m\u001b[38;5;21;01mquantum_linear_system\u001b[39;00m \u001b[38;5;28;01mimport\u001b[39;00m QuantumLinearSystemProblem\n\u001b[0;32m      2\u001b[0m \u001b[38;5;28;01mfrom\u001b[39;00m \u001b[38;5;21;01mqiskit\u001b[39;00m\u001b[38;5;21;01m.\u001b[39;00m\u001b[38;5;21;01mquantum_info\u001b[39;00m \u001b[38;5;28;01mimport\u001b[39;00m random_hermitian\n\u001b[0;32m      3\u001b[0m \u001b[38;5;28;01mimport\u001b[39;00m \u001b[38;5;21;01mnumpy\u001b[39;00m \u001b[38;5;28;01mas\u001b[39;00m \u001b[38;5;21;01mnp\u001b[39;00m\n",
      "File \u001b[1;32mc:\\Users\\19899\\Documents\\HHL\\HybridInversion\\Enhanced-Hybrid-HHL\\AssetPricing\\quantum_linear_system\\quantum_linear_system.py:5\u001b[0m\n\u001b[0;32m      2\u001b[0m \u001b[38;5;28;01mimport\u001b[39;00m \u001b[38;5;21;01mnumpy\u001b[39;00m \u001b[38;5;28;01mas\u001b[39;00m \u001b[38;5;21;01mnp\u001b[39;00m\n\u001b[0;32m      3\u001b[0m \u001b[38;5;28;01mfrom\u001b[39;00m \u001b[38;5;21;01mtyping\u001b[39;00m \u001b[38;5;28;01mimport\u001b[39;00m Union, List\n\u001b[1;32m----> 5\u001b[0m \u001b[38;5;28;01mfrom\u001b[39;00m \u001b[38;5;21;01mqiskit\u001b[39;00m \u001b[38;5;28;01mimport\u001b[39;00m QuantumCircuit\n\u001b[0;32m      6\u001b[0m \u001b[38;5;28;01mfrom\u001b[39;00m \u001b[38;5;21;01mcollections\u001b[39;00m\u001b[38;5;21;01m.\u001b[39;00m\u001b[38;5;21;01mabc\u001b[39;00m \u001b[38;5;28;01mimport\u001b[39;00m Callable\n\u001b[0;32m      7\u001b[0m \u001b[38;5;28;01mfrom\u001b[39;00m \u001b[38;5;21;01mqiskit_algorithms\u001b[39;00m \u001b[38;5;28;01mimport\u001b[39;00m AlgorithmResult\n",
      "File \u001b[1;32mc:\\Users\\19899\\anaconda3\\envs\\HHL\\lib\\site-packages\\qiskit\\__init__.py:36\u001b[0m\n\u001b[0;32m     34\u001b[0m     _suppress_error \u001b[38;5;241m=\u001b[39m os\u001b[38;5;241m.\u001b[39menviron\u001b[38;5;241m.\u001b[39mget(\u001b[38;5;124m\"\u001b[39m\u001b[38;5;124mQISKIT_SUPPRESS_1_0_IMPORT_ERROR\u001b[39m\u001b[38;5;124m\"\u001b[39m, \u001b[38;5;28;01mFalse\u001b[39;00m) \u001b[38;5;241m==\u001b[39m \u001b[38;5;124m\"\u001b[39m\u001b[38;5;124m1\u001b[39m\u001b[38;5;124m\"\u001b[39m\n\u001b[0;32m     35\u001b[0m     \u001b[38;5;28;01mif\u001b[39;00m \u001b[38;5;129;01mnot\u001b[39;00m _suppress_error \u001b[38;5;129;01mand\u001b[39;00m _has_tools:\n\u001b[1;32m---> 36\u001b[0m         \u001b[38;5;28;01mraise\u001b[39;00m \u001b[38;5;167;01mImportError\u001b[39;00m(\n\u001b[0;32m     37\u001b[0m             \u001b[38;5;124m\"\u001b[39m\u001b[38;5;124mQiskit is installed in an invalid environment that has both Qiskit >=1.0\u001b[39m\u001b[38;5;124m\"\u001b[39m\n\u001b[0;32m     38\u001b[0m             \u001b[38;5;124m\"\u001b[39m\u001b[38;5;124m and an earlier version.\u001b[39m\u001b[38;5;124m\"\u001b[39m\n\u001b[0;32m     39\u001b[0m             \u001b[38;5;124m\"\u001b[39m\u001b[38;5;124m You should create a new virtual environment, and ensure that you do not mix\u001b[39m\u001b[38;5;124m\"\u001b[39m\n\u001b[0;32m     40\u001b[0m             \u001b[38;5;124m\"\u001b[39m\u001b[38;5;124m dependencies between Qiskit <1.0 and >=1.0.\u001b[39m\u001b[38;5;124m\"\u001b[39m\n\u001b[0;32m     41\u001b[0m             \u001b[38;5;124m\"\u001b[39m\u001b[38;5;124m Any packages that depend on \u001b[39m\u001b[38;5;124m'\u001b[39m\u001b[38;5;124mqiskit-terra\u001b[39m\u001b[38;5;124m'\u001b[39m\u001b[38;5;124m are not compatible with Qiskit 1.0 and\u001b[39m\u001b[38;5;124m\"\u001b[39m\n\u001b[0;32m     42\u001b[0m             \u001b[38;5;124m\"\u001b[39m\u001b[38;5;124m will need to be updated.\u001b[39m\u001b[38;5;124m\"\u001b[39m\n\u001b[0;32m     43\u001b[0m             \u001b[38;5;124m\"\u001b[39m\u001b[38;5;124m Qiskit unfortunately cannot enforce this requirement during environment resolution.\u001b[39m\u001b[38;5;124m\"\u001b[39m\n\u001b[0;32m     44\u001b[0m             \u001b[38;5;124m\"\u001b[39m\u001b[38;5;124m See https://qisk.it/packaging-1-0 for more detail.\u001b[39m\u001b[38;5;124m\"\u001b[39m\n\u001b[0;32m     45\u001b[0m         )\n\u001b[0;32m     47\u001b[0m \u001b[38;5;28;01mimport\u001b[39;00m \u001b[38;5;21;01mqiskit\u001b[39;00m\u001b[38;5;21;01m.\u001b[39;00m\u001b[38;5;21;01m_accelerate\u001b[39;00m\n\u001b[0;32m     50\u001b[0m \u001b[38;5;66;03m# Globally define compiled submodules. The normal import mechanism will not find compiled submodules\u001b[39;00m\n\u001b[0;32m     51\u001b[0m \u001b[38;5;66;03m# in _accelerate because it relies on file paths, but PyO3 generates only one shared library file.\u001b[39;00m\n\u001b[0;32m     52\u001b[0m \u001b[38;5;66;03m# We manually define them on import so people can directly import qiskit._accelerate.* submodules\u001b[39;00m\n\u001b[0;32m     53\u001b[0m \u001b[38;5;66;03m# and not have to rely on attribute access.  No action needed for top-level extension packages.\u001b[39;00m\n",
      "\u001b[1;31mImportError\u001b[0m: Qiskit is installed in an invalid environment that has both Qiskit >=1.0 and an earlier version. You should create a new virtual environment, and ensure that you do not mix dependencies between Qiskit <1.0 and >=1.0. Any packages that depend on 'qiskit-terra' are not compatible with Qiskit 1.0 and will need to be updated. Qiskit unfortunately cannot enforce this requirement during environment resolution. See https://qisk.it/packaging-1-0 for more detail."
     ]
    }
   ],
   "source": [
    "from AssetPricing import (GenerateEmpiricalProblems, \n",
    "                          Generate_D_Minus_E_problem, \n",
    "                          calculate_d_vector, \n",
    "                          StackEmpiricalProblems,\n",
    "                          SolutionProjectionOpertator,\n",
    "                          MultipleAbcissaObservable,\n",
    "                          MultipleModelsObservable)\n",
    "from enhanced_hybrid_hhl import HHL, GrayCodeInversion, QuantumLinearSystemProblem, HHL_Result\n",
    "from qiskit.quantum_info import Statevector"
   ]
  },
  {
   "cell_type": "code",
   "execution_count": null,
   "metadata": {},
   "outputs": [],
   "source": []
  },
  {
   "cell_type": "code",
   "execution_count": 2,
   "metadata": {},
   "outputs": [],
   "source": [
    "# from qiskit_ibm_provider import IBMProvider\n",
    "from qiskit.providers.aer import AerSimulator\n",
    "\n",
    "# provider = IBMProvider(instance='ibm-q-ncsu/nc-state/amplitude-estima')\n",
    "# torino = provider.get_backend('ibm_torino')\n",
    "simulator = AerSimulator()\n",
    "# emulator = AerSimulator().from_backend(torino)"
   ]
  },
  {
   "cell_type": "code",
   "execution_count": 3,
   "metadata": {},
   "outputs": [],
   "source": [
    "inversion_circuit = HybridInversion\n",
    "clock = 3"
   ]
  },
  {
   "cell_type": "code",
   "execution_count": 4,
   "metadata": {},
   "outputs": [],
   "source": [
    "task2_problem = GenerateEmpiricalProblems('IES', 2, 4)\n",
    "d_vector = calculate_d_vector(4)\n",
    "d_operator = Statevector(d_vector).to_operator()\n",
    "maximum_eigenvalue = max(ideal_preprocessing(task2_problem)[0], key=abs)\n"
   ]
  },
  {
   "cell_type": "code",
   "execution_count": 5,
   "metadata": {},
   "outputs": [
    {
     "data": {
      "text/plain": [
       "3"
      ]
     },
     "execution_count": 5,
     "metadata": {},
     "output_type": "execute_result"
    }
   ],
   "source": [
    "d_operator.num_qubits"
   ]
  },
  {
   "cell_type": "code",
   "execution_count": 6,
   "metadata": {},
   "outputs": [],
   "source": [
    "eigenvalue_preprocessing = QCL_QPE_IBM(clock, simulator, max_eigenvalue=maximum_eigenvalue).estimate\n",
    "\n",
    "\n",
    "task2_hhl = HHL(get_result_function='get_simulator_result',\n",
    "                pre_processing=eigenvalue_preprocessing,\n",
    "                eigenvalue_inversion=inversion_circuit,\n",
    "                statevector = d_operator\n",
    "                )\n",
    "\n",
    "inner_product = task2_hhl.estimate(task2_problem,\n",
    "                   3,\n",
    "                   maximum_eigenvalue)"
   ]
  },
  {
   "cell_type": "code",
   "execution_count": 9,
   "metadata": {},
   "outputs": [],
   "source": [
    "task3_problem_list = [Generate_D_Minus_E_problem('IES', 2, 4), Generate_D_Minus_E_problem('CRRA', 2, 4)]\n",
    "task3_problem = StackEmpiricalProblems(task3_problem_list)\n",
    "\n",
    "task3_operator_problem = StackEmpiricalProblems([task3_problem_list[0] for _ in range(len(task3_problem_list))])\n",
    "task3_observable = SolutionProjectionOpertator(task3_operator_problem)\n",
    "\n",
    "maximum_eigenvalue = max(ideal_preprocessing(task3_problem)[0], key=abs)"
   ]
  },
  {
   "cell_type": "code",
   "execution_count": 10,
   "metadata": {},
   "outputs": [],
   "source": [
    "eigenvalue_preprocessing = QCL_QPE_IBM(clock, simulator, max_eigenvalue=maximum_eigenvalue).estimate\n",
    "\n",
    "\n",
    "task3_hhl = HHL(get_result_function='get_simulator_result',\n",
    "                pre_processing=eigenvalue_preprocessing,\n",
    "                eigenvalue_inversion=inversion_circuit,\n",
    "                statevector = task3_observable\n",
    "                )\n",
    "\n",
    "inner_product = task3_hhl.estimate(task3_problem,\n",
    "                   3,\n",
    "                   maximum_eigenvalue)"
   ]
  },
  {
   "cell_type": "code",
   "execution_count": 17,
   "metadata": {},
   "outputs": [],
   "source": [
    "task4_problem_list = [Generate_D_Minus_E_problem('IES', 2, 4), Generate_D_Minus_E_problem('CRRA', 2, 4)]\n",
    "task4_problem = StackEmpiricalProblems(task4_problem_list)\n",
    "\n",
    "task4_observable = MultipleAbcissaObservable(4, 0.3)"
   ]
  },
  {
   "cell_type": "code",
   "execution_count": null,
   "metadata": {},
   "outputs": [],
   "source": []
  },
  {
   "cell_type": "code",
   "execution_count": 10,
   "metadata": {},
   "outputs": [
    {
     "ename": "AttributeError",
     "evalue": "'matrix' object has no attribute 'to_operator'",
     "output_type": "error",
     "traceback": [
      "\u001b[1;31m---------------------------------------------------------------------------\u001b[0m",
      "\u001b[1;31mAttributeError\u001b[0m                            Traceback (most recent call last)",
      "Cell \u001b[1;32mIn[10], line 4\u001b[0m\n\u001b[0;32m      1\u001b[0m task5_problem_list \u001b[38;5;241m=\u001b[39m [Generate_D_Minus_E_problem(\u001b[38;5;124m'\u001b[39m\u001b[38;5;124mIES\u001b[39m\u001b[38;5;124m'\u001b[39m, \u001b[38;5;241m2\u001b[39m, \u001b[38;5;241m4\u001b[39m), Generate_D_Minus_E_problem(\u001b[38;5;124m'\u001b[39m\u001b[38;5;124mCRRA\u001b[39m\u001b[38;5;124m'\u001b[39m, \u001b[38;5;241m2\u001b[39m, \u001b[38;5;241m4\u001b[39m)]\n\u001b[0;32m      2\u001b[0m task5_problem \u001b[38;5;241m=\u001b[39m StackEmpiricalProblems(task5_problem_list)\n\u001b[1;32m----> 4\u001b[0m task5_observable \u001b[38;5;241m=\u001b[39m \u001b[43mMultipleModelsObservable\u001b[49m\u001b[43m(\u001b[49m\u001b[38;5;241;43m4\u001b[39;49m\u001b[43m,\u001b[49m\u001b[43m \u001b[49m\u001b[43m[\u001b[49m\u001b[38;5;124;43m'\u001b[39;49m\u001b[38;5;124;43mIES\u001b[39;49m\u001b[38;5;124;43m'\u001b[39;49m\u001b[43m,\u001b[49m\u001b[38;5;124;43m'\u001b[39;49m\u001b[38;5;124;43mCRRA\u001b[39;49m\u001b[38;5;124;43m'\u001b[39;49m\u001b[43m]\u001b[49m\u001b[43m,\u001b[49m\u001b[43m \u001b[49m\u001b[43m[\u001b[49m\u001b[38;5;241;43m2\u001b[39;49m\u001b[43m,\u001b[49m\u001b[38;5;241;43m2\u001b[39;49m\u001b[43m]\u001b[49m\u001b[43m,\u001b[49m\u001b[43m \u001b[49m\u001b[43m[\u001b[49m\u001b[38;5;241;43m0.9\u001b[39;49m\u001b[43m,\u001b[49m\u001b[43m \u001b[49m\u001b[38;5;241;43m0.1\u001b[39;49m\u001b[43m]\u001b[49m\u001b[43m)\u001b[49m\n",
      "File \u001b[1;32mc:\\Users\\19899\\Documents\\HHL\\enhanced_hybrid_hhl\\AssetPricing\\GenerateObservables.py:63\u001b[0m, in \u001b[0;36mMultipleModelsObservable\u001b[1;34m(size, cdf_list, gamma_list, probability_list)\u001b[0m\n\u001b[0;32m     61\u001b[0m     problem \u001b[38;5;241m=\u001b[39m GenerateEmpiricalProblems(utility_function\u001b[38;5;241m=\u001b[39mcdf, gamma\u001b[38;5;241m=\u001b[39mgamma, size\u001b[38;5;241m=\u001b[39msize)\n\u001b[0;32m     62\u001b[0m     v_e \u001b[38;5;241m=\u001b[39m np\u001b[38;5;241m.\u001b[39mlinalg\u001b[38;5;241m.\u001b[39minv(problem\u001b[38;5;241m.\u001b[39mA_matrix)\u001b[38;5;241m.\u001b[39mdot(problem\u001b[38;5;241m.\u001b[39mb_vector)\n\u001b[1;32m---> 63\u001b[0m     projection \u001b[38;5;241m=\u001b[39m \u001b[43mv_e\u001b[49m\u001b[38;5;241;43m.\u001b[39;49m\u001b[43mto_operator\u001b[49m()\u001b[38;5;241m.\u001b[39mdata\n\u001b[0;32m     64\u001b[0m     observable_matrix \u001b[38;5;241m+\u001b[39m\u001b[38;5;241m=\u001b[39m probability\u001b[38;5;241m*\u001b[39mprojection\n\u001b[0;32m     65\u001b[0m \u001b[38;5;28;01mreturn\u001b[39;00m Operator(observable_matrix)\n",
      "\u001b[1;31mAttributeError\u001b[0m: 'matrix' object has no attribute 'to_operator'"
     ]
    }
   ],
   "source": [
    "task5_problem_list = [Generate_D_Minus_E_problem('IES', 2, 4), Generate_D_Minus_E_problem('CRRA', 2, 4)]\n",
    "task5_problem = StackEmpiricalProblems(task5_problem_list)\n",
    "\n",
    "task5_observable = MultipleModelsObservable(4, ['IES','CRRA'], [2,2], [0.9, 0.1])"
   ]
  },
  {
   "cell_type": "code",
   "execution_count": null,
   "metadata": {},
   "outputs": [],
   "source": []
  }
 ],
 "metadata": {
  "kernelspec": {
   "display_name": "Python 3",
   "language": "python",
   "name": "python3"
  },
  "language_info": {
   "codemirror_mode": {
    "name": "ipython",
    "version": 3
   },
   "file_extension": ".py",
   "mimetype": "text/x-python",
   "name": "python",
   "nbconvert_exporter": "python",
   "pygments_lexer": "ipython3",
   "version": "3.9.18"
  }
 },
 "nbformat": 4,
 "nbformat_minor": 2
}
