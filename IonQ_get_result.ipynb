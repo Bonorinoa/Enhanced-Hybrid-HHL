{
 "cells": [
  {
   "cell_type": "code",
   "execution_count": 2,
   "metadata": {},
   "outputs": [],
   "source": [
    "from enhanced_hybrid_hhl import (RandomQLSP,\n",
    "                                QPE_preprocessing,\n",
    "                                QuantumLinearSystemSolver, \n",
    "                                ideal_preprocessing,\n",
    "                                ExampleQLSP,\n",
    "                                HHL,\n",
    "                                HybridInversion,\n",
    "                                HHL_Result)\n",
    "\n",
    "from qiskit import transpile, QuantumCircuit\n",
    "import numpy as np\n",
    "from qiskit.circuit.library import HamiltonianGate"
   ]
  },
  {
   "cell_type": "code",
   "execution_count": 12,
   "metadata": {},
   "outputs": [],
   "source": [
    "from qiskit_ionq.ionq_provider import IonQProvider\n",
    "from qiskit import QuantumCircuit, QuantumRegister, ClassicalRegister\n",
    "ionq_provider = IonQProvider(token='W8fkNnlIqaWDP83QCPTnP5HjoELVXMbP')\n",
    "ionq_simulator = ionq_provider.get_backend('ionq_simulator')\n",
    "\n",
    "def get_ionq_results_preprocessing(circ):\n",
    "    transp = transpile(circ, ionq_simulator)\n",
    "    result = ionq_simulator.run(transp).result()\n",
    "    return result"
   ]
  },
  {
   "cell_type": "code",
   "execution_count": 8,
   "metadata": {},
   "outputs": [],
   "source": [
    "problem = ExampleQLSP(0.33)\n",
    "maximum_eigenvalue = max(ideal_preprocessing(problem)[0], key=abs)\n",
    "clock = 3\n",
    "ideal_x_statevector = QuantumLinearSystemSolver(problem=problem).ideal_x_statevector"
   ]
  },
  {
   "cell_type": "code",
   "execution_count": 9,
   "metadata": {},
   "outputs": [],
   "source": [
    "preprocessing = QPE_preprocessing(clock, \n",
    "                                  maximum_eigenvalue, \n",
    "                                  get_ionq_results_preprocessing).estimate\n",
    "\n",
    "inversion_circuit = HybridInversion\n",
    "\n",
    "get_result = get_ionq_results_hhl()\n",
    "\n",
    "ionq_hhl = HHL(get_result_function = 'get_ionq_result',\n",
    "               pre_processing=preprocessing,\n",
    "               eigenvalue_inversion=inversion_circuit,\n",
    "               backend=ionq_simulator,\n",
    "               statevector = ideal_x_statevector)\n"
   ]
  },
  {
   "cell_type": "code",
   "execution_count": 10,
   "metadata": {},
   "outputs": [],
   "source": [
    "result = ionq_hhl.estimate(problem=problem,\n",
    "                  num_clock_qubits=clock,\n",
    "                  max_eigenvalue=maximum_eigenvalue,\n",
    "                  quantum_conditional_logic=False)"
   ]
  },
  {
   "cell_type": "code",
   "execution_count": 11,
   "metadata": {},
   "outputs": [
    {
     "name": "stdout",
     "output_type": "stream",
     "text": [
      "{   'circuit_results': {'0 0': 69, '0 1': 893, '1 0': 19, '1 1': 43},\n",
      "    'eigenbasis_projection_list': [0.177734375, 0.21484375, 0.5419921875],\n",
      "    'eigenvalue_list': [   0.4466666666666666,\n",
      "                           -0.8933333333333332,\n",
      "                           -0.4466666666666666],\n",
      "    'ideal_x_statevector': None,\n",
      "    'post_processing': None,\n",
      "    'results_processed': 0.9529531248281093,\n",
      "    'rotation_angle_list': None,\n",
      "    'shots': None}\n"
     ]
    }
   ],
   "source": [
    "print(result)"
   ]
  },
  {
   "cell_type": "code",
   "execution_count": 60,
   "metadata": {},
   "outputs": [
    {
     "data": {
      "text/plain": [
       "{'0 0': 946, '1 0': 78}"
      ]
     },
     "execution_count": 60,
     "metadata": {},
     "output_type": "execute_result"
    }
   ],
   "source": [
    "test_result.get_counts()"
   ]
  },
  {
   "cell_type": "code",
   "execution_count": null,
   "metadata": {},
   "outputs": [],
   "source": []
  }
 ],
 "metadata": {
  "kernelspec": {
   "display_name": "Python 3",
   "language": "python",
   "name": "python3"
  },
  "language_info": {
   "codemirror_mode": {
    "name": "ipython",
    "version": 3
   },
   "file_extension": ".py",
   "mimetype": "text/x-python",
   "name": "python",
   "nbconvert_exporter": "python",
   "pygments_lexer": "ipython3",
   "version": "3.9.18"
  }
 },
 "nbformat": 4,
 "nbformat_minor": 2
}
