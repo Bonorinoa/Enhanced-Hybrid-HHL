{
 "cells": [
  {
   "cell_type": "code",
   "execution_count": 1,
   "metadata": {},
   "outputs": [],
   "source": [
    "from AssetPricing import (GenerateEmpiricalProblems, \n",
    "                          Generate_D_Minus_E_problem, \n",
    "                          calculate_d_vector, \n",
    "                          StackEmpiricalProblems,\n",
    "                          SolutionProjectionOpertator,\n",
    "                          MultipleAbcissaObservable,\n",
    "                          MultipleModelsObservable)\n",
    "from enhanced_hybrid_hhl import HHL, QCL_QPE_IBM, HybridInversion, ideal_preprocessing, QuantumLinearSystemProblem, HHL_Result\n",
    "from qiskit.quantum_info import Statevector"
   ]
  },
  {
   "cell_type": "code",
   "execution_count": null,
   "metadata": {},
   "outputs": [],
   "source": []
  },
  {
   "cell_type": "code",
   "execution_count": 2,
   "metadata": {},
   "outputs": [],
   "source": [
    "# from qiskit_ibm_provider import IBMProvider\n",
    "from qiskit.providers.aer import AerSimulator\n",
    "\n",
    "# provider = IBMProvider(instance='ibm-q-ncsu/nc-state/amplitude-estima')\n",
    "# torino = provider.get_backend('ibm_torino')\n",
    "simulator = AerSimulator()\n",
    "# emulator = AerSimulator().from_backend(torino)"
   ]
  },
  {
   "cell_type": "code",
   "execution_count": 3,
   "metadata": {},
   "outputs": [],
   "source": [
    "inversion_circuit = HybridInversion\n",
    "clock = 3"
   ]
  },
  {
   "cell_type": "code",
   "execution_count": 4,
   "metadata": {},
   "outputs": [],
   "source": [
    "task2_problem = GenerateEmpiricalProblems('IES', 2, 4)\n",
    "d_vector = calculate_d_vector(4)\n",
    "d_operator = Statevector(d_vector).to_operator()\n",
    "maximum_eigenvalue = max(ideal_preprocessing(task2_problem)[0], key=abs)\n"
   ]
  },
  {
   "cell_type": "code",
   "execution_count": 5,
   "metadata": {},
   "outputs": [
    {
     "data": {
      "text/plain": [
       "3"
      ]
     },
     "execution_count": 5,
     "metadata": {},
     "output_type": "execute_result"
    }
   ],
   "source": [
    "d_operator.num_qubits"
   ]
  },
  {
   "cell_type": "code",
   "execution_count": 6,
   "metadata": {},
   "outputs": [
    {
     "ename": "QiskitError",
     "evalue": "\"Left and right compose dimensions don't match ((2, 2) != (2, 2, 2))\"",
     "output_type": "error",
     "traceback": [
      "\u001b[1;31m---------------------------------------------------------------------------\u001b[0m",
      "\u001b[1;31mQiskitError\u001b[0m                               Traceback (most recent call last)",
      "Cell \u001b[1;32mIn[6], line 10\u001b[0m\n\u001b[0;32m      1\u001b[0m eigenvalue_preprocessing \u001b[38;5;241m=\u001b[39m QCL_QPE_IBM(clock, simulator, max_eigenvalue\u001b[38;5;241m=\u001b[39mmaximum_eigenvalue)\u001b[38;5;241m.\u001b[39mestimate\n\u001b[0;32m      4\u001b[0m task2_hhl \u001b[38;5;241m=\u001b[39m HHL(get_result_function\u001b[38;5;241m=\u001b[39m\u001b[38;5;124m'\u001b[39m\u001b[38;5;124mget_simulator_result\u001b[39m\u001b[38;5;124m'\u001b[39m,\n\u001b[0;32m      5\u001b[0m                 pre_processing\u001b[38;5;241m=\u001b[39meigenvalue_preprocessing,\n\u001b[0;32m      6\u001b[0m                 eigenvalue_inversion\u001b[38;5;241m=\u001b[39minversion_circuit,\n\u001b[0;32m      7\u001b[0m                 statevector \u001b[38;5;241m=\u001b[39m d_operator\n\u001b[0;32m      8\u001b[0m                 )\n\u001b[1;32m---> 10\u001b[0m inner_product \u001b[38;5;241m=\u001b[39m \u001b[43mtask2_hhl\u001b[49m\u001b[38;5;241;43m.\u001b[39;49m\u001b[43mestimate\u001b[49m\u001b[43m(\u001b[49m\u001b[43mtask2_problem\u001b[49m\u001b[43m,\u001b[49m\n\u001b[0;32m     11\u001b[0m \u001b[43m                   \u001b[49m\u001b[38;5;241;43m3\u001b[39;49m\u001b[43m,\u001b[49m\n\u001b[0;32m     12\u001b[0m \u001b[43m                   \u001b[49m\u001b[43mmaximum_eigenvalue\u001b[49m\u001b[43m)\u001b[49m\n",
      "File \u001b[1;32mc:\\Users\\19899\\Documents\\HHL\\enhanced_hybrid_hhl\\enhanced_hybrid_hhl\\HHL.py:263\u001b[0m, in \u001b[0;36mHHL.estimate\u001b[1;34m(self, problem, num_clock_qubits, max_eigenvalue, quantum_conditional_logic)\u001b[0m\n\u001b[0;32m    256\u001b[0m circuit \u001b[38;5;241m=\u001b[39m \u001b[38;5;28mself\u001b[39m\u001b[38;5;241m.\u001b[39mconstruct_circuit(num_clock_qubits, \n\u001b[0;32m    257\u001b[0m                                  inversion_circuit, \n\u001b[0;32m    258\u001b[0m                                  state_preparation, \n\u001b[0;32m    259\u001b[0m                                  hamiltonian_simulation, \n\u001b[0;32m    260\u001b[0m                                  quantum_conditional_logic,\n\u001b[0;32m    261\u001b[0m                                  )\n\u001b[0;32m    262\u001b[0m \u001b[38;5;66;03m# get result\u001b[39;00m\n\u001b[1;32m--> 263\u001b[0m result \u001b[38;5;241m=\u001b[39m \u001b[38;5;28;43mself\u001b[39;49m\u001b[38;5;241;43m.\u001b[39;49m\u001b[43mget_result\u001b[49m\u001b[43m(\u001b[49m\u001b[43mcircuit\u001b[49m\u001b[43m,\u001b[49m\u001b[43m \u001b[49m\u001b[43mproblem\u001b[49m\u001b[43m)\u001b[49m\n\u001b[0;32m    265\u001b[0m \u001b[38;5;66;03m# Add preprocessing data to result\u001b[39;00m\n\u001b[0;32m    266\u001b[0m result\u001b[38;5;241m.\u001b[39meigenvalue_list \u001b[38;5;241m=\u001b[39m eigenvalue_list\n",
      "File \u001b[1;32mc:\\Users\\19899\\Documents\\HHL\\enhanced_hybrid_hhl\\enhanced_hybrid_hhl\\get_result.py:136\u001b[0m, in \u001b[0;36mget_simulator_result.<locals>.get_simulator_result_function\u001b[1;34m(hhl_circuit, problem)\u001b[0m\n\u001b[0;32m    133\u001b[0m partial_simulated_density_matrix \u001b[38;5;241m=\u001b[39m partial_trace(simulated_statevector, trace_qubits)\n\u001b[0;32m    135\u001b[0m \u001b[38;5;66;03m# square root of the expectation value is the fidelity\u001b[39;00m\n\u001b[1;32m--> 136\u001b[0m result_processed \u001b[38;5;241m=\u001b[39m np\u001b[38;5;241m.\u001b[39msqrt(\u001b[43mpartial_simulated_density_matrix\u001b[49m\u001b[38;5;241;43m.\u001b[39;49m\u001b[43mexpectation_value\u001b[49m\u001b[43m(\u001b[49m\u001b[43mobservable\u001b[49m\u001b[43m)\u001b[49m)\n\u001b[0;32m    138\u001b[0m result \u001b[38;5;241m=\u001b[39m HHL_Result()\n\u001b[0;32m    139\u001b[0m result\u001b[38;5;241m.\u001b[39mcircuit_results \u001b[38;5;241m=\u001b[39m circuit_results\n",
      "File \u001b[1;32mc:\\Users\\19899\\anaconda3\\envs\\HHL\\lib\\site-packages\\qiskit\\quantum_info\\states\\densitymatrix.py:423\u001b[0m, in \u001b[0;36mDensityMatrix.expectation_value\u001b[1;34m(self, oper, qargs)\u001b[0m\n\u001b[0;32m    421\u001b[0m \u001b[38;5;28;01mif\u001b[39;00m \u001b[38;5;129;01mnot\u001b[39;00m \u001b[38;5;28misinstance\u001b[39m(oper, Operator):\n\u001b[0;32m    422\u001b[0m     oper \u001b[38;5;241m=\u001b[39m Operator(oper)\n\u001b[1;32m--> 423\u001b[0m \u001b[38;5;28;01mreturn\u001b[39;00m np\u001b[38;5;241m.\u001b[39mtrace(\u001b[43mOperator\u001b[49m\u001b[43m(\u001b[49m\u001b[38;5;28;43mself\u001b[39;49m\u001b[43m)\u001b[49m\u001b[38;5;241;43m.\u001b[39;49m\u001b[43mdot\u001b[49m\u001b[43m(\u001b[49m\u001b[43moper\u001b[49m\u001b[43m,\u001b[49m\u001b[43m \u001b[49m\u001b[43mqargs\u001b[49m\u001b[38;5;241;43m=\u001b[39;49m\u001b[43mqargs\u001b[49m\u001b[43m)\u001b[49m\u001b[38;5;241m.\u001b[39mdata)\n",
      "File \u001b[1;32mc:\\Users\\19899\\anaconda3\\envs\\HHL\\lib\\site-packages\\qiskit\\quantum_info\\operators\\mixins\\group.py:149\u001b[0m, in \u001b[0;36mGroupMixin.dot\u001b[1;34m(self, other, qargs)\u001b[0m\n\u001b[0;32m    133\u001b[0m \u001b[38;5;28;01mdef\u001b[39;00m \u001b[38;5;21mdot\u001b[39m(\u001b[38;5;28mself\u001b[39m, other, qargs\u001b[38;5;241m=\u001b[39m\u001b[38;5;28;01mNone\u001b[39;00m) \u001b[38;5;241m-\u001b[39m\u001b[38;5;241m>\u001b[39m Self:\n\u001b[0;32m    134\u001b[0m \u001b[38;5;250m    \u001b[39m\u001b[38;5;124;03m\"\"\"Return the right multiplied operator self * other.\u001b[39;00m\n\u001b[0;32m    135\u001b[0m \n\u001b[0;32m    136\u001b[0m \u001b[38;5;124;03m    Args:\u001b[39;00m\n\u001b[1;32m   (...)\u001b[0m\n\u001b[0;32m    147\u001b[0m \u001b[38;5;124;03m        Hence ``a.dot(b)`` is equivalent to ``a @ b``.\u001b[39;00m\n\u001b[0;32m    148\u001b[0m \u001b[38;5;124;03m    \"\"\"\u001b[39;00m\n\u001b[1;32m--> 149\u001b[0m     \u001b[38;5;28;01mreturn\u001b[39;00m \u001b[38;5;28;43mself\u001b[39;49m\u001b[38;5;241;43m.\u001b[39;49m\u001b[43mcompose\u001b[49m\u001b[43m(\u001b[49m\u001b[43mother\u001b[49m\u001b[43m,\u001b[49m\u001b[43m \u001b[49m\u001b[43mqargs\u001b[49m\u001b[38;5;241;43m=\u001b[39;49m\u001b[43mqargs\u001b[49m\u001b[43m,\u001b[49m\u001b[43m \u001b[49m\u001b[43mfront\u001b[49m\u001b[38;5;241;43m=\u001b[39;49m\u001b[38;5;28;43;01mTrue\u001b[39;49;00m\u001b[43m)\u001b[49m\n",
      "File \u001b[1;32mc:\\Users\\19899\\anaconda3\\envs\\HHL\\lib\\site-packages\\qiskit\\quantum_info\\operators\\operator.py:469\u001b[0m, in \u001b[0;36mOperator.compose\u001b[1;34m(self, other, qargs, front)\u001b[0m\n\u001b[0;32m    465\u001b[0m     other \u001b[38;5;241m=\u001b[39m Operator(other)\n\u001b[0;32m    467\u001b[0m \u001b[38;5;66;03m# Validate dimensions are compatible and return the composed\u001b[39;00m\n\u001b[0;32m    468\u001b[0m \u001b[38;5;66;03m# operator dimensions\u001b[39;00m\n\u001b[1;32m--> 469\u001b[0m new_shape \u001b[38;5;241m=\u001b[39m \u001b[38;5;28;43mself\u001b[39;49m\u001b[38;5;241;43m.\u001b[39;49m\u001b[43m_op_shape\u001b[49m\u001b[38;5;241;43m.\u001b[39;49m\u001b[43mcompose\u001b[49m\u001b[43m(\u001b[49m\u001b[43mother\u001b[49m\u001b[38;5;241;43m.\u001b[39;49m\u001b[43m_op_shape\u001b[49m\u001b[43m,\u001b[49m\u001b[43m \u001b[49m\u001b[43mqargs\u001b[49m\u001b[43m,\u001b[49m\u001b[43m \u001b[49m\u001b[43mfront\u001b[49m\u001b[43m)\u001b[49m\n\u001b[0;32m    470\u001b[0m input_dims \u001b[38;5;241m=\u001b[39m new_shape\u001b[38;5;241m.\u001b[39mdims_r()\n\u001b[0;32m    471\u001b[0m output_dims \u001b[38;5;241m=\u001b[39m new_shape\u001b[38;5;241m.\u001b[39mdims_l()\n",
      "File \u001b[1;32mc:\\Users\\19899\\anaconda3\\envs\\HHL\\lib\\site-packages\\qiskit\\quantum_info\\operators\\op_shape.py:431\u001b[0m, in \u001b[0;36mOpShape.compose\u001b[1;34m(self, other, qargs, front)\u001b[0m\n\u001b[0;32m    429\u001b[0m \u001b[38;5;28;01mif\u001b[39;00m front:\n\u001b[0;32m    430\u001b[0m     \u001b[38;5;28;01mif\u001b[39;00m \u001b[38;5;28mself\u001b[39m\u001b[38;5;241m.\u001b[39m_num_qargs_r \u001b[38;5;241m!=\u001b[39m other\u001b[38;5;241m.\u001b[39m_num_qargs_l \u001b[38;5;129;01mor\u001b[39;00m \u001b[38;5;28mself\u001b[39m\u001b[38;5;241m.\u001b[39m_dims_r \u001b[38;5;241m!=\u001b[39m other\u001b[38;5;241m.\u001b[39m_dims_l:\n\u001b[1;32m--> 431\u001b[0m         \u001b[38;5;28;01mraise\u001b[39;00m QiskitError(\n\u001b[0;32m    432\u001b[0m             \u001b[38;5;124m\"\u001b[39m\u001b[38;5;124mLeft and right compose dimensions don\u001b[39m\u001b[38;5;124m'\u001b[39m\u001b[38;5;124mt match \u001b[39m\u001b[38;5;124m\"\u001b[39m\n\u001b[0;32m    433\u001b[0m             \u001b[38;5;124m\"\u001b[39m\u001b[38;5;124m(\u001b[39m\u001b[38;5;132;01m{}\u001b[39;00m\u001b[38;5;124m != \u001b[39m\u001b[38;5;132;01m{}\u001b[39;00m\u001b[38;5;124m)\u001b[39m\u001b[38;5;124m\"\u001b[39m\u001b[38;5;241m.\u001b[39mformat(\u001b[38;5;28mself\u001b[39m\u001b[38;5;241m.\u001b[39mdims_r(), other\u001b[38;5;241m.\u001b[39mdims_l())\n\u001b[0;32m    434\u001b[0m         )\n\u001b[0;32m    435\u001b[0m     ret\u001b[38;5;241m.\u001b[39m_dims_l \u001b[38;5;241m=\u001b[39m \u001b[38;5;28mself\u001b[39m\u001b[38;5;241m.\u001b[39m_dims_l\n\u001b[0;32m    436\u001b[0m     ret\u001b[38;5;241m.\u001b[39m_dims_r \u001b[38;5;241m=\u001b[39m other\u001b[38;5;241m.\u001b[39m_dims_r\n",
      "\u001b[1;31mQiskitError\u001b[0m: \"Left and right compose dimensions don't match ((2, 2) != (2, 2, 2))\""
     ]
    }
   ],
   "source": [
    "eigenvalue_preprocessing = QCL_QPE_IBM(clock, simulator, max_eigenvalue=maximum_eigenvalue).estimate\n",
    "\n",
    "\n",
    "task2_hhl = HHL(get_result_function='get_simulator_result',\n",
    "                pre_processing=eigenvalue_preprocessing,\n",
    "                eigenvalue_inversion=inversion_circuit,\n",
    "                statevector = d_operator\n",
    "                )\n",
    "\n",
    "inner_product = task2_hhl.estimate(task2_problem,\n",
    "                   3,\n",
    "                   maximum_eigenvalue)"
   ]
  },
  {
   "cell_type": "code",
   "execution_count": 16,
   "metadata": {},
   "outputs": [],
   "source": [
    "task3_problem_list = [Generate_D_Minus_E_problem('IES', 2, 4), Generate_D_Minus_E_problem('CRRA', 2, 4)]\n",
    "task3_problem = StackEmpiricalProblems(task3_problem_list)\n",
    "\n",
    "task3_operator_problem = StackEmpiricalProblems([task3_problem_list[0] for _ in range(len(task3_problem_list))])\n",
    "task3_observable = SolutionProjectionOpertator(task3_operator_problem)"
   ]
  },
  {
   "cell_type": "code",
   "execution_count": null,
   "metadata": {},
   "outputs": [],
   "source": []
  },
  {
   "cell_type": "code",
   "execution_count": 17,
   "metadata": {},
   "outputs": [],
   "source": [
    "task4_problem_list = [Generate_D_Minus_E_problem('IES', 2, 4), Generate_D_Minus_E_problem('CRRA', 2, 4)]\n",
    "task4_problem = StackEmpiricalProblems(task4_problem_list)\n",
    "\n",
    "task4_observable = MultipleAbcissaObservable(4, 0.3)"
   ]
  },
  {
   "cell_type": "code",
   "execution_count": null,
   "metadata": {},
   "outputs": [],
   "source": []
  },
  {
   "cell_type": "code",
   "execution_count": 10,
   "metadata": {},
   "outputs": [
    {
     "ename": "AttributeError",
     "evalue": "'matrix' object has no attribute 'to_operator'",
     "output_type": "error",
     "traceback": [
      "\u001b[1;31m---------------------------------------------------------------------------\u001b[0m",
      "\u001b[1;31mAttributeError\u001b[0m                            Traceback (most recent call last)",
      "Cell \u001b[1;32mIn[10], line 4\u001b[0m\n\u001b[0;32m      1\u001b[0m task5_problem_list \u001b[38;5;241m=\u001b[39m [Generate_D_Minus_E_problem(\u001b[38;5;124m'\u001b[39m\u001b[38;5;124mIES\u001b[39m\u001b[38;5;124m'\u001b[39m, \u001b[38;5;241m2\u001b[39m, \u001b[38;5;241m4\u001b[39m), Generate_D_Minus_E_problem(\u001b[38;5;124m'\u001b[39m\u001b[38;5;124mCRRA\u001b[39m\u001b[38;5;124m'\u001b[39m, \u001b[38;5;241m2\u001b[39m, \u001b[38;5;241m4\u001b[39m)]\n\u001b[0;32m      2\u001b[0m task5_problem \u001b[38;5;241m=\u001b[39m StackEmpiricalProblems(task5_problem_list)\n\u001b[1;32m----> 4\u001b[0m task5_observable \u001b[38;5;241m=\u001b[39m \u001b[43mMultipleModelsObservable\u001b[49m\u001b[43m(\u001b[49m\u001b[38;5;241;43m4\u001b[39;49m\u001b[43m,\u001b[49m\u001b[43m \u001b[49m\u001b[43m[\u001b[49m\u001b[38;5;124;43m'\u001b[39;49m\u001b[38;5;124;43mIES\u001b[39;49m\u001b[38;5;124;43m'\u001b[39;49m\u001b[43m,\u001b[49m\u001b[38;5;124;43m'\u001b[39;49m\u001b[38;5;124;43mCRRA\u001b[39;49m\u001b[38;5;124;43m'\u001b[39;49m\u001b[43m]\u001b[49m\u001b[43m,\u001b[49m\u001b[43m \u001b[49m\u001b[43m[\u001b[49m\u001b[38;5;241;43m2\u001b[39;49m\u001b[43m,\u001b[49m\u001b[38;5;241;43m2\u001b[39;49m\u001b[43m]\u001b[49m\u001b[43m,\u001b[49m\u001b[43m \u001b[49m\u001b[43m[\u001b[49m\u001b[38;5;241;43m0.9\u001b[39;49m\u001b[43m,\u001b[49m\u001b[43m \u001b[49m\u001b[38;5;241;43m0.1\u001b[39;49m\u001b[43m]\u001b[49m\u001b[43m)\u001b[49m\n",
      "File \u001b[1;32mc:\\Users\\19899\\Documents\\HHL\\enhanced_hybrid_hhl\\AssetPricing\\GenerateObservables.py:63\u001b[0m, in \u001b[0;36mMultipleModelsObservable\u001b[1;34m(size, cdf_list, gamma_list, probability_list)\u001b[0m\n\u001b[0;32m     61\u001b[0m     problem \u001b[38;5;241m=\u001b[39m GenerateEmpiricalProblems(utility_function\u001b[38;5;241m=\u001b[39mcdf, gamma\u001b[38;5;241m=\u001b[39mgamma, size\u001b[38;5;241m=\u001b[39msize)\n\u001b[0;32m     62\u001b[0m     v_e \u001b[38;5;241m=\u001b[39m np\u001b[38;5;241m.\u001b[39mlinalg\u001b[38;5;241m.\u001b[39minv(problem\u001b[38;5;241m.\u001b[39mA_matrix)\u001b[38;5;241m.\u001b[39mdot(problem\u001b[38;5;241m.\u001b[39mb_vector)\n\u001b[1;32m---> 63\u001b[0m     projection \u001b[38;5;241m=\u001b[39m \u001b[43mv_e\u001b[49m\u001b[38;5;241;43m.\u001b[39;49m\u001b[43mto_operator\u001b[49m()\u001b[38;5;241m.\u001b[39mdata\n\u001b[0;32m     64\u001b[0m     observable_matrix \u001b[38;5;241m+\u001b[39m\u001b[38;5;241m=\u001b[39m probability\u001b[38;5;241m*\u001b[39mprojection\n\u001b[0;32m     65\u001b[0m \u001b[38;5;28;01mreturn\u001b[39;00m Operator(observable_matrix)\n",
      "\u001b[1;31mAttributeError\u001b[0m: 'matrix' object has no attribute 'to_operator'"
     ]
    }
   ],
   "source": [
    "task5_problem_list = [Generate_D_Minus_E_problem('IES', 2, 4), Generate_D_Minus_E_problem('CRRA', 2, 4)]\n",
    "task5_problem = StackEmpiricalProblems(task5_problem_list)\n",
    "\n",
    "task5_observable = MultipleModelsObservable(4, ['IES','CRRA'], [2,2], [0.9, 0.1])"
   ]
  },
  {
   "cell_type": "code",
   "execution_count": null,
   "metadata": {},
   "outputs": [],
   "source": []
  }
 ],
 "metadata": {
  "kernelspec": {
   "display_name": "Python 3",
   "language": "python",
   "name": "python3"
  },
  "language_info": {
   "codemirror_mode": {
    "name": "ipython",
    "version": 3
   },
   "file_extension": ".py",
   "mimetype": "text/x-python",
   "name": "python",
   "nbconvert_exporter": "python",
   "pygments_lexer": "ipython3",
   "version": "3.9.18"
  }
 },
 "nbformat": 4,
 "nbformat_minor": 2
}
