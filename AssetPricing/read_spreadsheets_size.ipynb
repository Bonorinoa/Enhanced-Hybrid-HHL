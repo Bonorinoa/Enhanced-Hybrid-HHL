{
 "cells": [
  {
   "cell_type": "code",
   "execution_count": 1,
   "id": "0260cb38",
   "metadata": {},
   "outputs": [],
   "source": [
    "import numpy as np\n",
    "import pandas as pd\n",
    "import os\n",
    "path = os.getcwd()"
   ]
  },
  {
   "cell_type": "code",
   "execution_count": 2,
   "id": "05147eb9-83fa-4a27-957a-1b532dfa833e",
   "metadata": {},
   "outputs": [],
   "source": [
    "size = '4'\n",
    "path = './All_spreadsheet_'+size"
   ]
  },
  {
   "cell_type": "code",
   "execution_count": 3,
   "id": "63476bd6",
   "metadata": {},
   "outputs": [],
   "source": [
    "### read evenly-spaced discretiztion of empirical de-meaned CDF of div growth\n",
    "input_1 = pd.read_excel(path+'/1.xlsx',header=None)\n",
    "states_empirical_CDF = input_1.iloc[:-1,0].values\n",
    "\n",
    "### read quadrature abscissa for theta_hat\n",
    "states_theta_hat = input_1.iloc[:-1,1].values\n",
    "\n",
    "### read quadrature abscissa for theta_i,i=1...1000\n",
    "def states_from_simulations(i):\n",
    "    # set i from 1...1000\n",
    "    return input_1.iloc[:-1,i+1].values\n",
    "\n",
    "### read mean for div growth\n",
    "div_growth_mean = input_1.iloc[-1,0]\n",
    "\n",
    "### read KL_i,i=1...1000\n",
    "KL = input_1.iloc[-1,2:].values\n",
    "\n",
    "### read stationary distribution for markov chain approx from theta_hat\n",
    "input_2 = pd.read_excel(path+'/2.xlsx',header=None)\n",
    "dist_theta_hat = input_2.iloc[:,0].values\n",
    "\n",
    "### read stationary distribution for markov chain approx from theta_i,i=1...1000\n",
    "def dist_from_simulations(i):\n",
    "    # set i from 1...1000\n",
    "    return input_2.iloc[:,i].values\n",
    "\n",
    "### read transition matrix for markov chain approx from theta_hat\n",
    "transition_matrix_theta_hat = pd.read_excel(path+'/3.xlsx',header=None).values\n",
    "\n",
    "### read transition matrix for markov chain approx from theta_i,i=1...1000\n",
    "def trans_matrix_from_simulations(i):\n",
    "    # set i from 1...1000\n",
    "    return pd.read_excel(path+'/'+str(i+3)+'.xlsx',header=None).values"
   ]
  },
  {
   "cell_type": "code",
   "execution_count": 7,
   "id": "6c4547d3-0796-444e-b37c-0484053b2e7f",
   "metadata": {},
   "outputs": [
    {
     "data": {
      "text/plain": [
       "array([0.25, 0.25, 0.25, 0.25])"
      ]
     },
     "execution_count": 7,
     "metadata": {},
     "output_type": "execute_result"
    }
   ],
   "source": [
    "dist_from_simulations(0)"
   ]
  },
  {
   "cell_type": "code",
   "execution_count": 4,
   "id": "f778ee48",
   "metadata": {},
   "outputs": [
    {
     "data": {
      "text/plain": [
       "array([-0.03548438, -0.01127826,  0.01127826,  0.03548438])"
      ]
     },
     "execution_count": 4,
     "metadata": {},
     "output_type": "execute_result"
    }
   ],
   "source": [
    "states_theta_hat"
   ]
  },
  {
   "cell_type": "code",
   "execution_count": 5,
   "id": "75b970d1",
   "metadata": {},
   "outputs": [],
   "source": [
    "def states_to_dividend_growth(states : np.array, a = 0.01037):\n",
    "    dividend_growth = np.zeros((len(states),1))\n",
    "    for indx, element in np.ndenumerate(states):\n",
    "        dividend_growth[indx] += np.exp(a+element)\n",
    "    return dividend_growth\n",
    "\n",
    "dividend_growth = states_to_dividend_growth(states_theta_hat)"
   ]
  },
  {
   "cell_type": "code",
   "execution_count": 6,
   "id": "98477bed-82eb-4f39-97a3-501461fbcdab",
   "metadata": {},
   "outputs": [],
   "source": [
    "def growth_to_H(dividend_growth, b=0.03630):\n",
    "    b_matrix = np.array([[np.exp(b), np.exp(-b)],\n",
    "                         [np.exp(b), np.exp(-b)]])\n",
    "    one = np.ones((1,len(dividend_growth)))\n",
    "    H = np.kron(np.matmul(dividend_growth,one),\n",
    "                    b_matrix)\n",
    "    return H\n",
    "\n",
    "H = growth_to_H(dividend_growth)"
   ]
  },
  {
   "cell_type": "code",
   "execution_count": 7,
   "id": "e38649ff-5831-44a4-ab27-ab5e4fafadbd",
   "metadata": {},
   "outputs": [],
   "source": [
    "def sdf_equation(state):\n",
    "    return np.exp(-0.8970 + (1.2038*state))\n",
    "\n",
    "def states_to_sdf(states : np.array, sdf_equation : callable):\n",
    "    sdf = np.zeros((len(states),1))\n",
    "    for indx, element in np.ndenumerate(states):\n",
    "        sdf[indx] += sdf_equation(element)\n",
    "    return sdf\n",
    "\n",
    "sdf = states_to_sdf(states_theta_hat, sdf_equation)"
   ]
  },
  {
   "cell_type": "code",
   "execution_count": 8,
   "id": "26f36950-a868-43c5-9d37-537146d6142b",
   "metadata": {},
   "outputs": [],
   "source": [
    "def parameters_to_xi(gamma, function, b=0.03630):\n",
    "\n",
    "    if function == 'CRRA':\n",
    "        return -b*gamma\n",
    "    if function == 'IES':\n",
    "        return  0.0412 - (0.0775*gamma)\n",
    "    else:\n",
    "        raise Exception(\"Function must be either 'CRRA' or 'IES'\")\n",
    "        \n",
    "\n",
    "gamma=2\n",
    "function = 'CRRA'\n",
    "xi = parameters_to_xi(gamma, function, b=0.03630)"
   ]
  },
  {
   "cell_type": "code",
   "execution_count": 9,
   "id": "9c6a6537-2564-4b9f-8f60-ac7aabb59394",
   "metadata": {},
   "outputs": [],
   "source": [
    "def sdf_to_M(sdf: np.array, xi):\n",
    "    xi_matrix = np.array([[np.exp(xi), np.exp(-xi)],\n",
    "                         [np.exp(xi), np.exp(-xi)]])\n",
    "    \n",
    "    one = np.ones((1,len(dividend_growth)))\n",
    "    M = np.kron(np.matmul(sdf,one),\n",
    "                    xi_matrix)\n",
    "    \n",
    "    return M\n",
    "\n",
    "M = sdf_to_M(sdf, xi)"
   ]
  },
  {
   "cell_type": "code",
   "execution_count": 10,
   "id": "66be5c9b-fb54-45fa-9640-ded01e7b6a8e",
   "metadata": {},
   "outputs": [
    {
     "data": {
      "text/plain": [
       "(8, 8)"
      ]
     },
     "execution_count": 10,
     "metadata": {},
     "output_type": "execute_result"
    }
   ],
   "source": [
    "M.shape"
   ]
  },
  {
   "cell_type": "code",
   "execution_count": null,
   "id": "c38ccf64-2da6-427e-b8ba-8b20df194ec2",
   "metadata": {},
   "outputs": [],
   "source": []
  },
  {
   "cell_type": "code",
   "execution_count": 11,
   "id": "4c8020c8-989a-4985-82cc-73dd1b76dc4a",
   "metadata": {},
   "outputs": [],
   "source": [
    "def Psi_and_Pi_to_B(Psi, Pi):\n",
    "    size = Psi.shape[0]\n",
    "    B = np.zeros((size,size))\n",
    "    for row in range(size):\n",
    "        for pi, psi in zip(Pi[row], Psi[row]):\n",
    "            B[row][row] += pi*psi\n",
    "            \n",
    "        B[row][row] /= size\n",
    "    return B\n",
    "\n",
    "Pi = np.kron(transition_matrix_theta_hat, \n",
    "            np.array([[1/2, 1/2],[1/2, 1/2]]))\n",
    "Psi = np.multiply(H, M)\n",
    "B = Psi_and_Pi_to_B(Psi, Pi)"
   ]
  },
  {
   "cell_type": "code",
   "execution_count": 12,
   "id": "7948188e-5236-4785-9d6c-49694ef95516",
   "metadata": {},
   "outputs": [],
   "source": [
    "def H_M_and_Pi_to_A(H, M, Pi):\n",
    "\n",
    "    I = np.identity(H.shape[0])\n",
    "    A = np.multiply(H, M)\n",
    "    A = np.multiply(A, Pi)\n",
    "    A = I - A\n",
    "    return A\n",
    "\n",
    "A = H_M_and_Pi_to_A(H, M, Pi)"
   ]
  },
  {
   "cell_type": "code",
   "execution_count": 13,
   "id": "1b018e53-89ad-4504-acf9-83e61dac07d7",
   "metadata": {},
   "outputs": [],
   "source": [
    "C = np.matmul(np.linalg.inv(B),A)"
   ]
  },
  {
   "cell_type": "code",
   "execution_count": 14,
   "id": "8dd1877f-a552-4825-85bc-4632ffee74eb",
   "metadata": {},
   "outputs": [],
   "source": [
    "unit = np.ones((C.shape[0],1))\n",
    "unit /= C.shape[0]\n",
    "\n",
    "v_128 = np.matmul(np.linalg.inv(C), unit)\n",
    "v_128.sort()"
   ]
  },
  {
   "cell_type": "code",
   "execution_count": null,
   "id": "2baf362b-f2c9-46ff-8680-721c48a61c41",
   "metadata": {},
   "outputs": [],
   "source": []
  },
  {
   "cell_type": "code",
   "execution_count": 15,
   "id": "e2051bc5-94ef-4e0a-91c3-8213bd1efe01",
   "metadata": {},
   "outputs": [
    {
     "data": {
      "text/plain": [
       "(4,)"
      ]
     },
     "execution_count": 15,
     "metadata": {},
     "output_type": "execute_result"
    }
   ],
   "source": [
    "d_half = states_empirical_CDF + div_growth_mean\n",
    "d_half.shape"
   ]
  },
  {
   "cell_type": "code",
   "execution_count": 16,
   "id": "bf041efa-8f9c-40e3-aeaa-a331ff53ddcb",
   "metadata": {},
   "outputs": [],
   "source": [
    "def cdf_and_mean_to_d(states_empirical_CDF, div_growth_mean):\n",
    "\n",
    "    d_half = states_empirical_CDF + div_growth_mean\n",
    "\n",
    "    size = d_half.shape[0]\n",
    "    d_full = np.zeros((2*size,1))\n",
    "\n",
    "    for i, observation in enumerate(d_half):\n",
    "        index = 2*i\n",
    "        d_full[index] = observation\n",
    "        if i == size-1:\n",
    "            d_full[index+1] = observation\n",
    "        else:\n",
    "            ave = observation + d_half[i+1]\n",
    "            ave /= 2\n",
    "            d_full[index+1] = ave\n",
    "            \n",
    "    return d_full\n",
    "\n",
    "d_full = cdf_and_mean_to_d(states_empirical_CDF, div_growth_mean)"
   ]
  },
  {
   "cell_type": "code",
   "execution_count": 17,
   "id": "bc730ce6-ecf2-41cb-857c-16df1abc5c60",
   "metadata": {},
   "outputs": [
    {
     "data": {
      "text/plain": [
       "array([[-0.28428393],\n",
       "       [-0.19976881],\n",
       "       [-0.1152537 ],\n",
       "       [-0.03073858],\n",
       "       [ 0.05377653],\n",
       "       [ 0.13829165],\n",
       "       [ 0.22280677],\n",
       "       [ 0.22280677]])"
      ]
     },
     "execution_count": 17,
     "metadata": {},
     "output_type": "execute_result"
    }
   ],
   "source": [
    "d_full"
   ]
  },
  {
   "cell_type": "code",
   "execution_count": null,
   "id": "25560974-0425-44b2-97fa-8e2002609e98",
   "metadata": {},
   "outputs": [],
   "source": [
    "def C(gamma, utility_function):\n",
    "    \n",
    "    dividend_growth = states_to_dividend_growth(states_theta_hat)\n",
    "    H = growth_to_H(dividend_growth)\n",
    "    sdf = states_to_sdf(states_theta_hat, sdf_equation)\n",
    "    xi = parameters_to_xi(gamma, utility_function, b=0.03630)\n",
    "    M = sdf_to_M(sdf, xi)\n",
    "    \n",
    "    Pi = np.kron(transition_matrix_theta_hat, \n",
    "            np.array([[1/2, 1/2],[1/2, 1/2]]))\n",
    "    Psi = np.multiply(H, M)\n",
    "    B = Psi_and_Pi_to_B(Psi, Pi)\n",
    "    \n",
    "    A = H_M_and_Pi_to_A(H, M, Pi)\n",
    "    \n",
    "    C = np.matmul(np.linalg.inv(B),A)\n",
    "    return C"
   ]
  },
  {
   "cell_type": "code",
   "execution_count": 30,
   "id": "1d65b556-39d5-46a4-b1c6-8eac67dd7079",
   "metadata": {},
   "outputs": [],
   "source": [
    "folder = path+'/C_matrix/'\n",
    "\n",
    "for utility_function in ['CRRA','IES']:\n",
    "    for gamma in [2,5,10]:\n",
    "        matrix = C(gamma, utility_function)\n",
    "        df = pd.DataFrame(matrix)\n",
    "        matrix_name = utility_function+'_'+str(gamma)\n",
    "        df.to_excel(folder+matrix_name+'.xlsx',header=None,index=False)\n",
    "        \n",
    "        test_df = pd.read_excel(folder+matrix_name+'.xlsx', header=None)\n",
    "        test = test_df.to_numpy()\n",
    "        \n"
   ]
  },
  {
   "cell_type": "code",
   "execution_count": null,
   "id": "a9722077-0cfa-49bb-b3b9-75e4a810812d",
   "metadata": {},
   "outputs": [],
   "source": []
  },
  {
   "cell_type": "code",
   "execution_count": null,
   "id": "41119353-9956-4246-863c-e15d970b9602",
   "metadata": {},
   "outputs": [],
   "source": [
    "def model_growth(gamma, utility_function):\n",
    "    \n",
    "    dividend_growth = states_to_dividend_growth(states_theta_hat)\n",
    "    H = growth_to_H(dividend_growth)\n",
    "    sdf = states_to_sdf(states_theta_hat, sdf_equation)\n",
    "    xi = parameters_to_xi(gamma, utility_function, b=0.03630)\n",
    "    M = sdf_to_M(sdf, xi)\n",
    "    \n",
    "    Pi = np.kron(transition_matrix_theta_hat, \n",
    "            np.array([[1/2, 1/2],[1/2, 1/2]]))\n",
    "    Psi = np.multiply(H, M)\n",
    "    B = Psi_and_Pi_to_B(Psi, Pi)\n",
    "    \n",
    "    A = H_M_and_Pi_to_A(H, M, Pi)\n",
    "    \n",
    "    C = np.matmul(np.linalg.inv(B),A)\n",
    "    \n",
    "    unit = np.ones((C.shape[0],1))\n",
    "    unit /= np.linalg.norm(unit)\n",
    "    \n",
    "    v = np.matmul(np.linalg.inv(C),\n",
    "                      unit)\n",
    "    \n",
    "    d = cdf_and_mean_to_d(states_empirical_CDF, div_growth_mean)\n",
    "\n",
    "    solution = d-v\n",
    "    return np.matmul(solution.T, solution)"
   ]
  },
  {
   "cell_type": "code",
   "execution_count": null,
   "id": "b0452d1a-cab0-4a78-929a-0459e9d0dde5",
   "metadata": {},
   "outputs": [
    {
     "name": "stdout",
     "output_type": "stream",
     "text": [
      "utility_function =  CRRA , gamma =  2 , growth =  [[0.78690907]]\n",
      "utility_function =  CRRA , gamma =  5 , growth =  [[0.78688321]]\n",
      "utility_function =  CRRA , gamma =  10 , growth =  [[0.78676142]]\n",
      "utility_function =  IES , gamma =  2 , growth =  [[0.78690301]]\n",
      "utility_function =  IES , gamma =  5 , growth =  [[0.78677744]]\n",
      "utility_function =  IES , gamma =  10 , growth =  [[0.78597848]]\n"
     ]
    }
   ],
   "source": [
    "for utility_function in ['CRRA','IES']:\n",
    "    for gamma in [2,5,10]:\n",
    "        growth = model_growth(gamma, utility_function)\n",
    "        print('utility_function = ',utility_function,', gamma = ',gamma,', growth = ',growth)"
   ]
  },
  {
   "cell_type": "code",
   "execution_count": null,
   "id": "c6a5000c-80bb-4292-99f4-43864a2e20ad",
   "metadata": {},
   "outputs": [
    {
     "name": "stdout",
     "output_type": "stream",
     "text": [
      "utility_function =  CRRA , gamma =  2 , growth =  [[0.78690907]]\n",
      "utility_function =  CRRA , gamma =  5 , growth =  [[0.78688321]]\n",
      "utility_function =  CRRA , gamma =  10 , growth =  [[0.78676142]]\n",
      "utility_function =  IES , gamma =  2 , growth =  [[0.78690301]]\n",
      "utility_function =  IES , gamma =  5 , growth =  [[0.78677744]]\n",
      "utility_function =  IES , gamma =  10 , growth =  [[0.78597848]]\n"
     ]
    }
   ],
   "source": [
    "for utility_function in ['CRRA','IES']:\n",
    "    for gamma in [2,5,10]:\n",
    "        growth = model_growth(gamma, utility_function)\n",
    "        print('utility_function = ',utility_function,', gamma = ',gamma,', growth = ',growth)"
   ]
  },
  {
   "cell_type": "code",
   "execution_count": null,
   "id": "411cf251-021e-4eaa-bb51-a240f266cd51",
   "metadata": {},
   "outputs": [],
   "source": [
    "def HHL_parameters(gamma, utility_function):\n",
    "    dividend_growth = states_to_dividend_growth(states_theta_hat)\n",
    "    H = growth_to_H(dividend_growth)\n",
    "    sdf = states_to_sdf(states_theta_hat, sdf_equation)\n",
    "    xi = parameters_to_xi(gamma, utility_function, b=0.03630)\n",
    "    M = sdf_to_M(sdf, xi)\n",
    "    \n",
    "    Pi = np.kron(transition_matrix_theta_hat, \n",
    "            np.array([[1/2, 1/2],[1/2, 1/2]]))\n",
    "    Psi = np.multiply(H, M)\n",
    "    B = Psi_and_Pi_to_B(Psi, Pi)\n",
    "    \n",
    "    A = H_M_and_Pi_to_A(H, M, Pi)\n",
    "    \n",
    "    C = np.matmul(np.linalg.inv(B),A)\n",
    "    \n",
    "    unit = np.ones((C.shape[0],1))\n",
    "    unit /= np.linalg.norm(unit)\n",
    "    \n",
    "    v = np.matmul(np.linalg.inv(C),\n",
    "                      unit)\n",
    "\n",
    "    return C, unit, v"
   ]
  },
  {
   "cell_type": "code",
   "execution_count": null,
   "id": "c9c60b68-cd26-417d-9ae9-c292b2e0ffde",
   "metadata": {},
   "outputs": [],
   "source": [
    "gamma = 2\n",
    "utility_function = 'IES'\n",
    "C, unit, v = HHL_parameters(gamma, utility_function)\n",
    "#np.linalg.eigvals(C_128)"
   ]
  },
  {
   "cell_type": "code",
   "execution_count": null,
   "id": "cdd05e2c-4c07-4eb7-a312-6f7de688a570",
   "metadata": {},
   "outputs": [],
   "source": [
    "v"
   ]
  },
  {
   "cell_type": "code",
   "execution_count": null,
   "id": "6d95248c-1d5e-49a3-888f-46e0cb277c02",
   "metadata": {},
   "outputs": [],
   "source": [
    "c_mat = np.asmatrix(C)\n",
    "#c_mat /= np.linalg.norm(c_mat)\n",
    "size = c_mat.shape[0]\n",
    "\n",
    "hermitian = np.zeros((2*size,2*size))\n",
    "\n",
    "for index, entry in np.ndenumerate(c_mat):\n",
    "    hermitian[index[0],size+index[1]] = entry\n",
    "    #print(hermitian[index[0],size+index[1]])\n",
    "\n",
    "for index, entry in np.ndenumerate(c_mat.H):\n",
    "    hermitian[size+index[0],index[1]] = entry\n",
    "    \n",
    "unit = np.ones((C.shape[0],1))\n",
    "unit /= np.linalg.norm(unit)\n",
    "b = np.kron([[1],[0]], unit)\n",
    "x = np.kron([[0],[1]], v)\n",
    "\n",
    "scale = 0.5/abs(max(np.linalg.eigvals(hermitian), key=abs))\n",
    "#scale = np.linalg.norm(x)/np.linalg.norm(b)\n",
    "#hermitian*=scale\n"
   ]
  },
  {
   "cell_type": "code",
   "execution_count": null,
   "id": "8207d5a7-a91d-460f-b45c-93348316ae36",
   "metadata": {},
   "outputs": [],
   "source": [
    "b"
   ]
  },
  {
   "cell_type": "code",
   "execution_count": null,
   "id": "b5c17d8f-36d1-4f18-93cf-4c7303bedf1e",
   "metadata": {},
   "outputs": [],
   "source": [
    "unit = spla.expm(-2j*np.pi*hermitian)"
   ]
  },
  {
   "cell_type": "code",
   "execution_count": null,
   "id": "9690f841-e63b-430d-af63-7f386a2e1f95",
   "metadata": {},
   "outputs": [],
   "source": [
    "def project_eigenbasis(matrix, vector):\n",
    "    projection = np.zeros(vector.shape, dtype=complex)\n",
    "    eigen_values, eigen_vectors = np.linalg.eigh(matrix)\n",
    "    #unitary = spla.expm(-1j * matrix * np.pi/max(eigen_vals))\n",
    "    for i, e_vector in enumerate(eigen_vectors.T):\n",
    "        #e_vec= np.reshape(e_vector, vector.shape)\n",
    "        #print(np.linalg.norm(e_vec))\n",
    "        amplitude = np.dot(e_vector, vector)\n",
    "        #print(amplitude)\n",
    "        projection[i] = amplitude\n",
    "    return projection"
   ]
  },
  {
   "cell_type": "code",
   "execution_count": null,
   "id": "6b4a777b-7b6f-4315-89e5-2797237f2905",
   "metadata": {},
   "outputs": [],
   "source": [
    "b_projection = project_eigenbasis(hermitian, b)\n",
    "b_test = np.linalg.inv(np.linalg.eigh(hermitian)[1]).dot(b)\n",
    "print(np.allclose(b_projection, b_test))\n",
    "np.linalg.norm(b_projection)\n",
    "b_projection"
   ]
  },
  {
   "cell_type": "code",
   "execution_count": null,
   "id": "1b22114f-d843-4136-a6d0-c0318dcc376b",
   "metadata": {},
   "outputs": [],
   "source": [
    "def divide_eigen_vals(matrix, projection):\n",
    "    new_projection = np.zeros(projection.shape, dtype=complex)\n",
    "    eigen_vals = np.linalg.eigh(matrix)[0]\n",
    "    for i, (proj, ev) in enumerate(zip(projection, eigen_vals)):\n",
    "        #print(ev)\n",
    "        new_projection[i] = proj/ev\n",
    "    return new_projection"
   ]
  },
  {
   "cell_type": "code",
   "execution_count": null,
   "id": "6c8f5c0a-ea46-4431-b3b6-b0b1fc483509",
   "metadata": {},
   "outputs": [],
   "source": [
    "def return_normalbasis(matrix, projection):\n",
    "    normal = np.asmatrix(np.zeros(projection.shape, dtype=complex))\n",
    "    print(projection.shape)\n",
    "    eigen_vectors = np.linalg.eigh(matrix)[1].T\n",
    "    for proj, vec in zip(projection, eigen_vectors):\n",
    "        vec = vec.reshape(projection.shape)\n",
    "        normal += complex(proj)*vec\n",
    "    return normal"
   ]
  },
  {
   "cell_type": "code",
   "execution_count": null,
   "id": "5487da80-07fd-485e-b4aa-59d585faca8e",
   "metadata": {},
   "outputs": [],
   "source": [
    "x_projection = divide_eigen_vals(hermitian, b_projection)\n",
    "x_test = np.linalg.inv(np.linalg.eigh(hermitian)[1]).dot(x)\n",
    "np.linalg.norm(x_projection)"
   ]
  },
  {
   "cell_type": "code",
   "execution_count": null,
   "id": "07d3b784-cfcb-4d0c-9d9c-835f623e86d8",
   "metadata": {},
   "outputs": [],
   "source": [
    "x_solution = return_normalbasis(unit, x_projection)\n",
    "x_norm = np.linalg.norm(x_solution)"
   ]
  },
  {
   "cell_type": "code",
   "execution_count": null,
   "id": "bbed86d0-49ae-4914-9bd2-9a01a430c127",
   "metadata": {},
   "outputs": [],
   "source": [
    "np.allclose(x, x_solution/x_norm)"
   ]
  },
  {
   "cell_type": "code",
   "execution_count": 83,
   "id": "f1807d0f-9d8a-488f-b461-e3524135f27d",
   "metadata": {},
   "outputs": [
    {
     "name": "stdout",
     "output_type": "stream",
     "text": [
      "0.9999999999999996\n",
      "0.48889321998915647\n",
      "-0.4888932199891565\n"
     ]
    }
   ],
   "source": [
    "eigen_vals = np.linalg.eigh(hermitian)[0]\n",
    "eigen_vecs = np.linalg.eigh(hermitian)[1].T\n",
    "print(np.linalg.norm(eigen_vecs[1]))\n",
    "print(np.linalg.norm(hermitian.dot(eigen_vecs[1])))\n",
    "print(eigen_vals[1])"
   ]
  },
  {
   "cell_type": "code",
   "execution_count": 43,
   "id": "65ef4e0b-6016-4d00-a70a-bb14cad89ef7",
   "metadata": {},
   "outputs": [],
   "source": [
    "x_inv_projection = project_eigenbasis(np.linalg.inv(unit), x)"
   ]
  },
  {
   "cell_type": "code",
   "execution_count": 97,
   "id": "467885ca-5187-45aa-b1c9-8863038df9a9",
   "metadata": {},
   "outputs": [
    {
     "data": {
      "text/plain": [
       "1.0000000000000004"
      ]
     },
     "execution_count": 97,
     "metadata": {},
     "output_type": "execute_result"
    }
   ],
   "source": [
    "#norm = np.sqrt(np.linalg.norm(x_projection))\n",
    "x_projection = divide_eigen_vals(hermitian, b_projection)\n",
    "x_test = np.linalg.inv(np.linalg.eigh(hermitian)[1]).dot(x)\n",
    "np.linalg.norm(x_projection)"
   ]
  },
  {
   "cell_type": "code",
   "execution_count": 101,
   "id": "7b8a4b53-0db0-4bbb-b13e-2f08c85f7565",
   "metadata": {},
   "outputs": [
    {
     "data": {
      "text/plain": [
       "True"
      ]
     },
     "execution_count": 101,
     "metadata": {},
     "output_type": "execute_result"
    }
   ],
   "source": [
    "x_scaled = x/np.linalg.norm(x)\n",
    "np.allclose(x_scaled, x_solution)"
   ]
  },
  {
   "cell_type": "code",
   "execution_count": null,
   "id": "4cf09380-1160-433c-ac32-594f2cb0a5b3",
   "metadata": {
    "tags": []
   },
   "outputs": [],
   "source": [
    "unit = spla.expm(-2j*np.pi*hermitian)\n",
    "\n",
    "eigen_vals = np.linalg.eigh(unit)[0]\n",
    "for i in range(len(x_test)):\n",
    "    print(b_test[i]/x_test[i])\n",
    "    print(eigen_vals[i])"
   ]
  },
  {
   "cell_type": "code",
   "execution_count": null,
   "id": "f7a7ff08-f74f-46b4-80f9-3db1be03bf9f",
   "metadata": {},
   "outputs": [],
   "source": [
    "eigen_values, eigen_vectors = np.linalg.eigh(hermitian)\n",
    "print(np.dot(eigen_vectors[:,0],b))\n",
    "print(np.linalg.inv(eigen_vectors).dot(b)[0])\n"
   ]
  },
  {
   "cell_type": "code",
   "execution_count": 26,
   "id": "bad9b471-1b23-4b70-ab21-d9dd9d49726a",
   "metadata": {},
   "outputs": [
    {
     "ename": "NameError",
     "evalue": "name 'ham' is not defined",
     "output_type": "error",
     "traceback": [
      "\u001b[0;31m---------------------------------------------------------------------------\u001b[0m",
      "\u001b[0;31mNameError\u001b[0m                                 Traceback (most recent call last)",
      "\u001b[0;32m/tmp/ipykernel_216578/479160299.py\u001b[0m in \u001b[0;36m<module>\u001b[0;34m\u001b[0m\n\u001b[0;32m----> 1\u001b[0;31m \u001b[0munit\u001b[0m \u001b[0;34m=\u001b[0m \u001b[0mham\u001b[0m\u001b[0;34m.\u001b[0m\u001b[0m__array__\u001b[0m\u001b[0;34m(\u001b[0m\u001b[0;34m)\u001b[0m\u001b[0;34m\u001b[0m\u001b[0;34m\u001b[0m\u001b[0m\n\u001b[0m",
      "\u001b[0;31mNameError\u001b[0m: name 'ham' is not defined"
     ]
    }
   ],
   "source": [
    "unit = ham.__array__()"
   ]
  },
  {
   "cell_type": "code",
   "execution_count": 37,
   "id": "e57001ff-777d-4796-8df2-aa45758bfa21",
   "metadata": {},
   "outputs": [],
   "source": [
    "import scipy.linalg as spla\n",
    "from qiskit.extensions import HamiltonianGate\n",
    "from qiskit.quantum_info.operators.predicates import is_hermitian_matrix, is_unitary_matrix"
   ]
  },
  {
   "cell_type": "code",
   "execution_count": 28,
   "id": "0fef3ae4-58cd-4c39-b519-241804da8511",
   "metadata": {},
   "outputs": [
    {
     "data": {
      "text/plain": [
       "inf"
      ]
     },
     "execution_count": 28,
     "metadata": {},
     "output_type": "execute_result"
    }
   ],
   "source": [
    "spla.det(C_128, check_finite=True)"
   ]
  },
  {
   "cell_type": "code",
   "execution_count": 29,
   "id": "654ee6e9-39e0-493c-9c2e-9eb3ad9fbeac",
   "metadata": {},
   "outputs": [],
   "source": [
    "test = np.matmul(hermitian, x)"
   ]
  },
  {
   "cell_type": "code",
   "execution_count": 30,
   "id": "016a07bd-7914-4617-b15e-6a624ba81002",
   "metadata": {},
   "outputs": [],
   "source": [
    "scale = 1/abs(max(np.linalg.eigvals(hermitian), key=abs))"
   ]
  },
  {
   "cell_type": "code",
   "execution_count": 31,
   "id": "e014f8b5-fcf3-4dfb-940b-61417ad5b5ad",
   "metadata": {},
   "outputs": [],
   "source": [
    "unit = spla.expm(-1j * hermitian * 2 * np.pi / scale)"
   ]
  },
  {
   "cell_type": "code",
   "execution_count": null,
   "id": "532e2fde-0ca5-4327-a7b3-6fcf51952309",
   "metadata": {},
   "outputs": [],
   "source": []
  },
  {
   "cell_type": "code",
   "execution_count": 32,
   "id": "0f972058-82c1-45f9-ae2f-56f466d5ccb0",
   "metadata": {},
   "outputs": [],
   "source": [
    "def return_normalbasis(matrix, projection):\n",
    "    normal = np.asmatrix(np.zeros(projection.shape, dtype=complex))\n",
    "    print(projection.shape)\n",
    "    eigen_vectors = np.linalg.eigh(matrix)[1].T\n",
    "    for proj, vec in zip(projection, eigen_vectors):\n",
    "        vec = vec.reshape(projection.shape)\n",
    "        normal += complex(proj)*vec\n",
    "    return normal"
   ]
  },
  {
   "cell_type": "code",
   "execution_count": 33,
   "id": "ac7d5cc4-7ec4-4ace-8eda-d2bf154057a8",
   "metadata": {},
   "outputs": [
    {
     "ename": "NameError",
     "evalue": "name 'x_projection' is not defined",
     "output_type": "error",
     "traceback": [
      "\u001b[0;31m---------------------------------------------------------------------------\u001b[0m",
      "\u001b[0;31mNameError\u001b[0m                                 Traceback (most recent call last)",
      "\u001b[0;32m/tmp/ipykernel_216578/3357510423.py\u001b[0m in \u001b[0;36m<module>\u001b[0;34m\u001b[0m\n\u001b[0;32m----> 1\u001b[0;31m \u001b[0mx_normal\u001b[0m \u001b[0;34m=\u001b[0m \u001b[0mreturn_normalbasis\u001b[0m\u001b[0;34m(\u001b[0m\u001b[0mhermitian\u001b[0m\u001b[0;34m,\u001b[0m \u001b[0mx_projection\u001b[0m\u001b[0;34m)\u001b[0m\u001b[0;34m\u001b[0m\u001b[0;34m\u001b[0m\u001b[0m\n\u001b[0m",
      "\u001b[0;31mNameError\u001b[0m: name 'x_projection' is not defined"
     ]
    }
   ],
   "source": [
    "x_normal = return_normalbasis(hermitian, x_projection)"
   ]
  },
  {
   "cell_type": "code",
   "execution_count": null,
   "id": "e51a4c40-1110-47fb-9214-fa6b4b55b58c",
   "metadata": {},
   "outputs": [],
   "source": [
    "x_normal"
   ]
  },
  {
   "cell_type": "code",
   "execution_count": null,
   "id": "88a75e35-cfcc-4441-af8a-830b38f425ea",
   "metadata": {},
   "outputs": [],
   "source": [
    "def project_standardbasis(matrix, projection):\n",
    "    vector = np.zeros(projection.shape)\n",
    "    eigen = np.linalg.eigh(matrix)\n",
    "    e_vals = eigen[0]\n",
    "    e_vectors = eigen[1]\n",
    "    for i, e_vector in enumerate(e_vectors):\n",
    "        e_vec= np.reshape(e_vector, vector.shape)\n",
    "        vec = projection[i]*e_vec\n",
    "        #print(np.linalg.norm(e_vec))\n",
    "        \n",
    "        #print(amplitude)\n",
    "        vector += vec\n",
    "    return projection"
   ]
  },
  {
   "cell_type": "code",
   "execution_count": null,
   "id": "e0dc5119-3434-400f-b223-5ca13c22725e",
   "metadata": {},
   "outputs": [],
   "source": [
    "hermitian_norm = hermitian*norm"
   ]
  },
  {
   "cell_type": "code",
   "execution_count": null,
   "id": "829ecd72-c3fe-4386-8ac1-6d205b375a69",
   "metadata": {},
   "outputs": [],
   "source": [
    "projection_b = project_eigenbasis(hermitian_norm, b)\n",
    "np.linalg.norm(projection_b)"
   ]
  },
  {
   "cell_type": "code",
   "execution_count": null,
   "id": "23116cd3-91d5-4989-b05a-9e59509bee6d",
   "metadata": {},
   "outputs": [],
   "source": [
    "project_standardbasis(hermitian_norm, projection_b)"
   ]
  },
  {
   "cell_type": "code",
   "execution_count": null,
   "id": "49b9a26b-0f35-4798-b47f-34dc78ca3a46",
   "metadata": {},
   "outputs": [],
   "source": [
    "projection_x = project_eigenbasis(hermitian, x)\n",
    "np.linalg.norm(projection_x)"
   ]
  },
  {
   "cell_type": "code",
   "execution_count": null,
   "id": "c38efdb4-005b-4235-bf6a-7304bd895acb",
   "metadata": {},
   "outputs": [],
   "source": [
    "eigs = np.linalg.eigh(hermitian)[0]"
   ]
  },
  {
   "cell_type": "code",
   "execution_count": 34,
   "id": "17f48987-39ad-49e8-9e51-59c7d61332a4",
   "metadata": {
    "tags": []
   },
   "outputs": [
    {
     "ename": "NameError",
     "evalue": "name 'projection_b' is not defined",
     "output_type": "error",
     "traceback": [
      "\u001b[0;31m---------------------------------------------------------------------------\u001b[0m",
      "\u001b[0;31mNameError\u001b[0m                                 Traceback (most recent call last)",
      "\u001b[0;32m/tmp/ipykernel_216578/1168328335.py\u001b[0m in \u001b[0;36m<module>\u001b[0;34m\u001b[0m\n\u001b[1;32m      1\u001b[0m \u001b[0;32mfor\u001b[0m \u001b[0mi\u001b[0m \u001b[0;32min\u001b[0m \u001b[0mrange\u001b[0m\u001b[0;34m(\u001b[0m\u001b[0;36m256\u001b[0m\u001b[0;34m)\u001b[0m\u001b[0;34m:\u001b[0m\u001b[0;34m\u001b[0m\u001b[0;34m\u001b[0m\u001b[0m\n\u001b[0;32m----> 2\u001b[0;31m     \u001b[0mproj_eig\u001b[0m \u001b[0;34m=\u001b[0m \u001b[0mprojection_b\u001b[0m\u001b[0;34m[\u001b[0m\u001b[0mi\u001b[0m\u001b[0;34m]\u001b[0m\u001b[0;34m/\u001b[0m\u001b[0mprojection_x\u001b[0m\u001b[0;34m[\u001b[0m\u001b[0mi\u001b[0m\u001b[0;34m]\u001b[0m\u001b[0;34m\u001b[0m\u001b[0;34m\u001b[0m\u001b[0m\n\u001b[0m\u001b[1;32m      3\u001b[0m     \u001b[0mprint\u001b[0m\u001b[0;34m(\u001b[0m\u001b[0meigs\u001b[0m\u001b[0;34m[\u001b[0m\u001b[0mi\u001b[0m\u001b[0;34m]\u001b[0m\u001b[0;34m/\u001b[0m\u001b[0mproj_eig\u001b[0m\u001b[0;34m)\u001b[0m\u001b[0;34m\u001b[0m\u001b[0;34m\u001b[0m\u001b[0m\n",
      "\u001b[0;31mNameError\u001b[0m: name 'projection_b' is not defined"
     ]
    }
   ],
   "source": [
    "for i in range(256):\n",
    "    proj_eig = projection_b[i]/projection_x[i]\n",
    "    print(eigs[i]/proj_eig)"
   ]
  },
  {
   "cell_type": "code",
   "execution_count": 35,
   "id": "670f4793-c5e8-4fd6-b224-00d4dfd4ba14",
   "metadata": {},
   "outputs": [
    {
     "data": {
      "text/plain": [
       "6.580051807348764"
      ]
     },
     "execution_count": 35,
     "metadata": {},
     "output_type": "execute_result"
    }
   ],
   "source": [
    "backward_test = np.matmul(np.linalg.inv(hermitian), b)\n",
    "np.linalg.norm(backward_test)"
   ]
  },
  {
   "cell_type": "code",
   "execution_count": 36,
   "id": "69c1a85d-b889-467c-b6d2-bb712e2fa491",
   "metadata": {},
   "outputs": [
    {
     "ename": "NameError",
     "evalue": "name 'project_eigenbasis' is not defined",
     "output_type": "error",
     "traceback": [
      "\u001b[0;31m---------------------------------------------------------------------------\u001b[0m",
      "\u001b[0;31mNameError\u001b[0m                                 Traceback (most recent call last)",
      "\u001b[0;32m/tmp/ipykernel_216578/1575011778.py\u001b[0m in \u001b[0;36m<module>\u001b[0;34m\u001b[0m\n\u001b[0;32m----> 1\u001b[0;31m \u001b[0mprojection_backward_test\u001b[0m \u001b[0;34m=\u001b[0m \u001b[0mproject_eigenbasis\u001b[0m\u001b[0;34m(\u001b[0m\u001b[0mhermitian\u001b[0m\u001b[0;34m,\u001b[0m \u001b[0mbackward_test\u001b[0m\u001b[0;34m)\u001b[0m\u001b[0;34m\u001b[0m\u001b[0;34m\u001b[0m\u001b[0m\n\u001b[0m\u001b[1;32m      2\u001b[0m \u001b[0mnp\u001b[0m\u001b[0;34m.\u001b[0m\u001b[0mlinalg\u001b[0m\u001b[0;34m.\u001b[0m\u001b[0mnorm\u001b[0m\u001b[0;34m(\u001b[0m\u001b[0mprojection_backward_test\u001b[0m\u001b[0;34m)\u001b[0m\u001b[0;34m\u001b[0m\u001b[0;34m\u001b[0m\u001b[0m\n",
      "\u001b[0;31mNameError\u001b[0m: name 'project_eigenbasis' is not defined"
     ]
    }
   ],
   "source": [
    "projection_backward_test = project_eigenbasis(hermitian, backward_test)\n",
    "np.linalg.norm(projection_backward_test)"
   ]
  },
  {
   "cell_type": "code",
   "execution_count": 262,
   "id": "089703d0-3d95-43ed-a7db-860c4c32f378",
   "metadata": {},
   "outputs": [
    {
     "data": {
      "text/plain": [
       "True"
      ]
     },
     "execution_count": 262,
     "metadata": {},
     "output_type": "execute_result"
    }
   ],
   "source": [
    "np.allclose(projection, projection_forward_test)"
   ]
  },
  {
   "cell_type": "code",
   "execution_count": 257,
   "id": "d2c1e89c-1197-43ee-bbdd-fd9bc2f85962",
   "metadata": {
    "tags": []
   },
   "outputs": [
    {
     "data": {
      "text/plain": [
       "0.16008491002580405"
      ]
     },
     "execution_count": 257,
     "metadata": {},
     "output_type": "execute_result"
    }
   ],
   "source": [
    "np.linalg.norm(forward_projection)"
   ]
  },
  {
   "cell_type": "code",
   "execution_count": 255,
   "id": "ff688f9b-a011-455e-b23e-42d35e37fba2",
   "metadata": {
    "tags": []
   },
   "outputs": [],
   "source": [
    "for i, val in enumerate(np.linalg.eigh(hermitian)[0]):\n",
    "    forward_projection = val*projection_inv[i]\n",
    "    #print(projection[i]/projection_inv[i])\n",
    "    #print(projection[i])\n",
    "    #print(projection_change)\n",
    "    #print(eigvals2[i])\n",
    "    #print(val)"
   ]
  },
  {
   "cell_type": "code",
   "execution_count": 340,
   "id": "6530f35d-69f2-4f4f-afee-e2720d9b2706",
   "metadata": {},
   "outputs": [],
   "source": [
    "def classical_hhl(matrix, projection):\n",
    "    result = np.zeros(projection.shape)\n",
    "    e_vals = np.linalg.eigh(matrix)[0]\n",
    "    e_vectors = np.linalg.eigh(matrix)[1]\n",
    "    for i, e_vector in enumerate(e_vectors):\n",
    "        #print(amplitude)\n",
    "        #print(projection.shape)\n",
    "        vector = np.reshape(e_vector, projection.shape)\n",
    "        vector *= projection[i]\n",
    "        #print(e_vals[i])\n",
    "        vector /= e_vals[i]\n",
    "        #print(vector.shape)\n",
    "        result += vector\n",
    "        \n",
    "    return result"
   ]
  },
  {
   "cell_type": "code",
   "execution_count": 341,
   "id": "2efc8b89-a7ac-43e2-b9c2-3adc6165ab4f",
   "metadata": {
    "tags": []
   },
   "outputs": [],
   "source": [
    "forward_test = np.matmul(hermitian, projection_b)"
   ]
  },
  {
   "cell_type": "code",
   "execution_count": 356,
   "id": "12434c9f-c471-4787-b71a-ff8a228c7196",
   "metadata": {},
   "outputs": [],
   "source": [
    "result = classical_hhl(hermitian_norm, projection_b)\n",
    "res_norm = np.linalg.norm(result)"
   ]
  },
  {
   "cell_type": "code",
   "execution_count": 358,
   "id": "c03586f7-7872-4939-b3dd-3992cd836d3c",
   "metadata": {},
   "outputs": [
    {
     "data": {
      "text/plain": [
       "array([[0.        ],\n",
       "       [0.        ],\n",
       "       [0.        ],\n",
       "       [0.        ],\n",
       "       [0.        ],\n",
       "       [0.        ],\n",
       "       [0.        ],\n",
       "       [0.        ],\n",
       "       [0.        ],\n",
       "       [0.        ],\n",
       "       [0.        ],\n",
       "       [0.        ],\n",
       "       [0.        ],\n",
       "       [0.        ],\n",
       "       [0.        ],\n",
       "       [0.        ],\n",
       "       [0.        ],\n",
       "       [0.        ],\n",
       "       [0.        ],\n",
       "       [0.        ],\n",
       "       [0.        ],\n",
       "       [0.        ],\n",
       "       [0.        ],\n",
       "       [0.        ],\n",
       "       [0.        ],\n",
       "       [0.        ],\n",
       "       [0.        ],\n",
       "       [0.        ],\n",
       "       [0.        ],\n",
       "       [0.        ],\n",
       "       [0.        ],\n",
       "       [0.        ],\n",
       "       [0.        ],\n",
       "       [0.        ],\n",
       "       [0.        ],\n",
       "       [0.        ],\n",
       "       [0.        ],\n",
       "       [0.        ],\n",
       "       [0.        ],\n",
       "       [0.        ],\n",
       "       [0.        ],\n",
       "       [0.        ],\n",
       "       [0.        ],\n",
       "       [0.        ],\n",
       "       [0.        ],\n",
       "       [0.        ],\n",
       "       [0.        ],\n",
       "       [0.        ],\n",
       "       [0.        ],\n",
       "       [0.        ],\n",
       "       [0.        ],\n",
       "       [0.        ],\n",
       "       [0.        ],\n",
       "       [0.        ],\n",
       "       [0.        ],\n",
       "       [0.        ],\n",
       "       [0.        ],\n",
       "       [0.        ],\n",
       "       [0.        ],\n",
       "       [0.        ],\n",
       "       [0.        ],\n",
       "       [0.        ],\n",
       "       [0.        ],\n",
       "       [0.        ],\n",
       "       [0.        ],\n",
       "       [0.        ],\n",
       "       [0.        ],\n",
       "       [0.        ],\n",
       "       [0.        ],\n",
       "       [0.        ],\n",
       "       [0.        ],\n",
       "       [0.        ],\n",
       "       [0.        ],\n",
       "       [0.        ],\n",
       "       [0.        ],\n",
       "       [0.        ],\n",
       "       [0.        ],\n",
       "       [0.        ],\n",
       "       [0.        ],\n",
       "       [0.        ],\n",
       "       [0.        ],\n",
       "       [0.        ],\n",
       "       [0.        ],\n",
       "       [0.        ],\n",
       "       [0.        ],\n",
       "       [0.        ],\n",
       "       [0.        ],\n",
       "       [0.        ],\n",
       "       [0.        ],\n",
       "       [0.        ],\n",
       "       [0.        ],\n",
       "       [0.        ],\n",
       "       [0.        ],\n",
       "       [0.        ],\n",
       "       [0.        ],\n",
       "       [0.        ],\n",
       "       [0.        ],\n",
       "       [0.        ],\n",
       "       [0.        ],\n",
       "       [0.        ],\n",
       "       [0.        ],\n",
       "       [0.        ],\n",
       "       [0.        ],\n",
       "       [0.        ],\n",
       "       [0.        ],\n",
       "       [0.        ],\n",
       "       [0.        ],\n",
       "       [0.        ],\n",
       "       [0.        ],\n",
       "       [0.        ],\n",
       "       [0.        ],\n",
       "       [0.        ],\n",
       "       [0.        ],\n",
       "       [0.        ],\n",
       "       [0.        ],\n",
       "       [0.        ],\n",
       "       [0.        ],\n",
       "       [0.        ],\n",
       "       [0.        ],\n",
       "       [0.        ],\n",
       "       [0.        ],\n",
       "       [0.        ],\n",
       "       [0.        ],\n",
       "       [0.        ],\n",
       "       [0.        ],\n",
       "       [0.        ],\n",
       "       [0.        ],\n",
       "       [0.        ],\n",
       "       [0.04016441],\n",
       "       [0.04016441],\n",
       "       [0.04171168],\n",
       "       [0.04171168],\n",
       "       [0.04304242],\n",
       "       [0.04304242],\n",
       "       [0.04426977],\n",
       "       [0.04426977],\n",
       "       [0.04543634],\n",
       "       [0.04543634],\n",
       "       [0.04656388],\n",
       "       [0.04656388],\n",
       "       [0.04766538],\n",
       "       [0.04766538],\n",
       "       [0.04874941],\n",
       "       [0.04874941],\n",
       "       [0.04982201],\n",
       "       [0.04982201],\n",
       "       [0.0508877 ],\n",
       "       [0.0508877 ],\n",
       "       [0.05194998],\n",
       "       [0.05194998],\n",
       "       [0.05301165],\n",
       "       [0.05301165],\n",
       "       [0.05407507],\n",
       "       [0.05407507],\n",
       "       [0.05514221],\n",
       "       [0.05514221],\n",
       "       [0.05621481],\n",
       "       [0.05621481],\n",
       "       [0.0572944 ],\n",
       "       [0.0572944 ],\n",
       "       [0.05838238],\n",
       "       [0.05838238],\n",
       "       [0.05948003],\n",
       "       [0.05948003],\n",
       "       [0.06058855],\n",
       "       [0.06058855],\n",
       "       [0.0617091 ],\n",
       "       [0.0617091 ],\n",
       "       [0.06284276],\n",
       "       [0.06284276],\n",
       "       [0.06399061],\n",
       "       [0.06399061],\n",
       "       [0.06515372],\n",
       "       [0.06515372],\n",
       "       [0.06633311],\n",
       "       [0.06633311],\n",
       "       [0.06752985],\n",
       "       [0.06752985],\n",
       "       [0.06874499],\n",
       "       [0.06874499],\n",
       "       [0.06997963],\n",
       "       [0.06997963],\n",
       "       [0.07123485],\n",
       "       [0.07123485],\n",
       "       [0.07251182],\n",
       "       [0.07251182],\n",
       "       [0.0738117 ],\n",
       "       [0.0738117 ],\n",
       "       [0.07513573],\n",
       "       [0.07513573],\n",
       "       [0.07648519],\n",
       "       [0.07648519],\n",
       "       [0.07786145],\n",
       "       [0.07786145],\n",
       "       [0.07926593],\n",
       "       [0.07926593],\n",
       "       [0.08070014],\n",
       "       [0.08070014],\n",
       "       [0.0821657 ],\n",
       "       [0.0821657 ],\n",
       "       [0.08366433],\n",
       "       [0.08366433],\n",
       "       [0.08519788],\n",
       "       [0.08519788],\n",
       "       [0.08676833],\n",
       "       [0.08676833],\n",
       "       [0.08837784],\n",
       "       [0.08837784],\n",
       "       [0.09002873],\n",
       "       [0.09002873],\n",
       "       [0.09172356],\n",
       "       [0.09172356],\n",
       "       [0.0934651 ],\n",
       "       [0.0934651 ],\n",
       "       [0.09525642],\n",
       "       [0.09525642],\n",
       "       [0.09710091],\n",
       "       [0.09710091],\n",
       "       [0.09900232],\n",
       "       [0.09900232],\n",
       "       [0.10096489],\n",
       "       [0.10096489],\n",
       "       [0.10299333],\n",
       "       [0.10299333],\n",
       "       [0.10509303],\n",
       "       [0.10509303],\n",
       "       [0.10727014],\n",
       "       [0.10727014],\n",
       "       [0.10953171],\n",
       "       [0.10953171],\n",
       "       [0.11188601],\n",
       "       [0.11188601],\n",
       "       [0.11434274],\n",
       "       [0.11434274],\n",
       "       [0.1169135 ],\n",
       "       [0.1169135 ],\n",
       "       [0.11961234],\n",
       "       [0.11961234],\n",
       "       [0.12245663],\n",
       "       [0.12245663],\n",
       "       [0.1254683 ],\n",
       "       [0.1254683 ],\n",
       "       [0.12867586],\n",
       "       [0.12867586],\n",
       "       [0.13211764],\n",
       "       [0.13211764],\n",
       "       [0.13584763],\n",
       "       [0.13584763],\n",
       "       [0.13994689],\n",
       "       [0.13994689],\n",
       "       [0.14454889],\n",
       "       [0.14454889],\n",
       "       [0.14990911],\n",
       "       [0.14990911],\n",
       "       [0.15668541],\n",
       "       [0.15668541]])"
      ]
     },
     "execution_count": 358,
     "metadata": {},
     "output_type": "execute_result"
    }
   ],
   "source": [
    "x"
   ]
  },
  {
   "cell_type": "code",
   "execution_count": 23,
   "id": "fd813881-453a-4158-9e73-432e8a99b82e",
   "metadata": {},
   "outputs": [],
   "source": [
    "from qiskit.quantum_info import Statevector, ScalarOp"
   ]
  },
  {
   "cell_type": "code",
   "execution_count": 24,
   "id": "d320dacb-0f4a-4d19-888c-824d7b34dde9",
   "metadata": {},
   "outputs": [],
   "source": [
    "gamma = 5\n",
    "utility_function = 'IES'\n",
    "\n",
    "v, d = quantum_model_growth(gamma, utility_function)"
   ]
  },
  {
   "cell_type": "code",
   "execution_count": 25,
   "id": "dd9a4981-2ad4-4055-b273-e74ba574c5f0",
   "metadata": {},
   "outputs": [],
   "source": [
    "v_sv = Statevector(v)\n",
    "d_sv = Statevector(d)"
   ]
  },
  {
   "cell_type": "code",
   "execution_count": 26,
   "id": "2bfaa8db-6201-48fb-8f9a-029151d1cde8",
   "metadata": {},
   "outputs": [],
   "source": [
    "d_op = d_sv.to_operator()\n",
    "Act = ScalarOp(d_op.dim)"
   ]
  },
  {
   "cell_type": "code",
   "execution_count": 27,
   "id": "08efa35d-740f-45e5-bf34-b14b304abcda",
   "metadata": {},
   "outputs": [],
   "source": [
    "#v_sv.expectation_value(Act)"
   ]
  },
  {
   "cell_type": "code",
   "execution_count": 28,
   "id": "ffa969a4-fe4a-4915-94d4-24043a7014bc",
   "metadata": {},
   "outputs": [
    {
     "data": {
      "text/plain": [
       "(128, 128)"
      ]
     },
     "execution_count": 28,
     "metadata": {},
     "output_type": "execute_result"
    }
   ],
   "source": [
    "d_op.dim"
   ]
  },
  {
   "cell_type": "code",
   "execution_count": 29,
   "id": "af00ebb4-5c81-4b93-8761-32b25d2f1742",
   "metadata": {},
   "outputs": [
    {
     "data": {
      "text/plain": [
       "ScalarOp((128, 128), coeff=1)"
      ]
     },
     "execution_count": 29,
     "metadata": {},
     "output_type": "execute_result"
    }
   ],
   "source": [
    "Act"
   ]
  },
  {
   "cell_type": "code",
   "execution_count": null,
   "id": "62da1f59-baae-4a62-bb79-067f69864e9f",
   "metadata": {},
   "outputs": [],
   "source": []
  }
 ],
 "metadata": {
  "kernelspec": {
   "display_name": "Python 3 (ipykernel)",
   "language": "python",
   "name": "python3"
  },
  "language_info": {
   "codemirror_mode": {
    "name": "ipython",
    "version": 3
   },
   "file_extension": ".py",
   "mimetype": "text/x-python",
   "name": "python",
   "nbconvert_exporter": "python",
   "pygments_lexer": "ipython3",
   "version": "3.9.18"
  }
 },
 "nbformat": 4,
 "nbformat_minor": 5
}
