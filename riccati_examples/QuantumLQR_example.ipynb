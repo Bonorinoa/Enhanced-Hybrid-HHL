{
 "cells": [
  {
   "cell_type": "markdown",
   "metadata": {},
   "source": [
    "# Quantum Computing for the time-varying Linear Quadratic Regulator\n",
    "\n",
    "This notebook implements the example outlined in the `QuantumLQR.tex` file. We will follow the steps described in sections 4, 5, and 6 to solve the matrix Riccati equation and find the control function."
   ]
  },
  {
   "cell_type": "markdown",
   "metadata": {},
   "source": [
    "## Import necessary libraries\n",
    "\n",
    "We will start by importing the required libraries such as `numpy`, `qiskit`, and any other necessary modules from the repository."
   ]
  },
  {
   "cell_type": "code",
   "execution_count": 1,
   "metadata": {},
   "outputs": [],
   "source": [
    "import numpy as np\n",
    "from qiskit import QuantumCircuit, Aer, transpile, execute\n",
    "from qiskit.circuit.library import HamiltonianGate, PhaseEstimation, StatePreparation\n",
    "from qiskit.quantum_info import Statevector\n",
    "from enhanced_hybrid_hhl import HHL, Lee_preprocessing, EnhancedHybridInversion, QuantumLinearSystemProblem, QuantumLinearSystemSolver"
   ]
  },
  {
   "cell_type": "markdown",
   "metadata": {},
   "source": [
    "## Define the problem\n",
    "\n",
    "We will define the time-varying Linear Quadratic Regulator (LQR) problem and the associated matrix Riccati equation as described in the `QuantumLQR.tex` file."
   ]
  },
  {
   "cell_type": "code",
   "execution_count": 2,
   "metadata": {},
   "outputs": [],
   "source": [
    "# Define the matrices and parameters for the LQR problem\n",
    "A_matrix = np.array([[1, 0], [0, 1]])\n",
    "B_matrix = np.array([[np.exp(0.5), -np.exp(0.5)], [np.exp(0.5), np.exp(0.5)]])\n",
    "Q_matrix = np.array([[0.5 * np.exp(-t), 0], [0, 0.5 * np.exp(-t)]])\n",
    "R_matrix = np.identity(2)\n",
    "t_f = 1\n",
    "t_0 = 0\n",
    "x_0 = np.array([1, 0])\n",
    "x_f = np.array([0, 0])"
   ]
  },
  {
   "cell_type": "markdown",
   "metadata": {},
   "source": [
    "## Change of variable\n",
    "\n",
    "We will implement the change of variable to transform the matrix Riccati equation into a second-order matrix linear differential equation."
   ]
  },
  {
   "cell_type": "code",
   "execution_count": 3,
   "metadata": {},
   "outputs": [],
   "source": [
    "# Define the change of variable\n",
    "def change_of_variable(A, B, Q, R, t_f):\n",
    "    S = 2 * np.identity(2) + np.gradient(B @ B.T) @ np.linalg.inv(B @ B.T)\n",
    "    V = np.zeros((2, 2))\n",
    "    V_prime = np.zeros((2, 2))\n",
    "    V_double_prime = np.zeros((2, 2))\n",
    "    for t in np.linspace(t_0, t_f, 100):\n",
    "        V_double_prime = S @ V_prime + B @ B.T @ Q @ V\n",
    "        V_prime += V_double_prime * (t_f - t_0) / 100\n",
    "        V += V_prime * (t_f - t_0) / 100\n",
    "    return V"
   ]
  },
  {
   "cell_type": "markdown",
   "metadata": {},
   "source": [
    "## Solve the differential equation\n",
    "\n",
    "We will use the HHL algorithm to solve the matrix equations equivalent to the set of linear differential equations."
   ]
  },
  {
   "cell_type": "code",
   "execution_count": 4,
   "metadata": {},
   "outputs": [],
   "source": [
    "# Define the HHL algorithm parameters\n",
    "k = 3  # clock qubits for HHL\n",
    "l = k + 2  # clock qubits for enhanced preprocessing\n",
    "max_eigenvalue = 1  # Overestimate of largest eigenvalue in the system\n",
    "simulator = Aer.get_backend('qasm_simulator')\n",
    "\n",
    "# Define the preprocessing function\n",
    "enhanced_preprocessing = Lee_preprocessing(num_eval_qubits=l, max_eigenvalue=max_eigenvalue, backend=simulator).estimate\n",
    "enhanced_eigenvalue_inversion = EnhancedHybridInversion\n",
    "\n",
    "# Create the HHL class\n",
    "enhanced_hybrid_hhl = HHL(get_result_function='get_swap_test_result', preprocessing=enhanced_preprocessing, eigenvalue_inversion=enhanced_eigenvalue_inversion, backend=simulator)\n",
    "\n",
    "# Define the quantum linear system problem\n",
    "problem = QuantumLinearSystemProblem(A_matrix=A_matrix, b_vector=x_0)\n",
    "\n",
    "# Run the HHL algorithm\n",
    "enhanced_hybrid_hhl_result = enhanced_hybrid_hhl.estimate(problem=problem, num_clock_qubits=k, max_eigenvalue=max_eigenvalue)\n",
    "print(enhanced_hybrid_hhl_result)"
   ]
  },
  {
   "cell_type": "markdown",
   "metadata": {},
   "source": [
    "## Compute the control function\n",
    "\n",
    "We will derive the control function using the solution of the matrix Riccati equation."
   ]
  },
  {
   "cell_type": "code",
   "execution_count": 5,
   "metadata": {},
   "outputs": [],
   "source": [
    "# Compute the control function\n",
    "def compute_control_function(P, B, R, x):\n",
    "    return -np.linalg.inv(R) @ B.T @ P @ x\n",
    "\n",
    "P = enhanced_hybrid_hhl_result['P']\n",
    "u = compute_control_function(P, B_matrix, R_matrix, x_0)\n",
    "print('Control function:', u)"
   ]
  }
 ]
}
