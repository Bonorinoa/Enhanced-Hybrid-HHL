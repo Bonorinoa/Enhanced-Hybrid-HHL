{
 "cells": [
  {
   "cell_type": "code",
   "execution_count": 6,
   "metadata": {},
   "outputs": [
    {
     "data": {
      "text/plain": [
       "'c:\\\\Users\\\\19899\\\\Documents\\\\HHL\\\\enhanced_hybrid_hhl\\\\enhanced_hybrid_hhl\\\\Examples'"
      ]
     },
     "execution_count": 6,
     "metadata": {},
     "output_type": "execute_result"
    }
   ],
   "source": [
    "%pwd\n",
    "$env:PYTHONPATH = \"C:\\Users\\19899\\Documents\\HHL\\enhanced_hybrid_hhl\\enhanced_hybrid_hhl;$env:PYTHONPATH\""
   ]
  },
  {
   "cell_type": "code",
   "execution_count": 1,
   "metadata": {},
   "outputs": [
    {
     "ename": "ImportError",
     "evalue": "attempted relative import with no known parent package",
     "output_type": "error",
     "traceback": [
      "\u001b[1;31m---------------------------------------------------------------------------\u001b[0m",
      "\u001b[1;31mImportError\u001b[0m                               Traceback (most recent call last)",
      "Cell \u001b[1;32mIn[1], line 1\u001b[0m\n\u001b[1;32m----> 1\u001b[0m \u001b[38;5;28;01mfrom\u001b[39;00m \u001b[38;5;21;01m.\u001b[39;00m\u001b[38;5;21;01m.\u001b[39;00m\u001b[38;5;21;01mquantum_linear_system\u001b[39;00m \u001b[38;5;28;01mimport\u001b[39;00m QuantumLinearSystemProblem\n\u001b[0;32m      2\u001b[0m \u001b[38;5;28;01mfrom\u001b[39;00m \u001b[38;5;21;01mutils\u001b[39;00m \u001b[38;5;28;01mimport\u001b[39;00m QuantumLinearSystemSolver\n\u001b[0;32m      3\u001b[0m \u001b[38;5;28;01mfrom\u001b[39;00m \u001b[38;5;21;01mQuantumLinearSystemResult\u001b[39;00m \u001b[38;5;28;01mimport\u001b[39;00m HHL_Result\n",
      "\u001b[1;31mImportError\u001b[0m: attempted relative import with no known parent package"
     ]
    }
   ],
   "source": [
    "from ..quantum_linear_system import QuantumLinearSystemProblem\n",
    "from utils import QuantumLinearSystemSolver\n",
    "from QuantumLinearSystemResult import HHL_Result\n",
    "from HHL import HHL\n",
    "import numpy as np\n",
    "from get_result import get_fidelity_result, get_fidelity_result"
   ]
  },
  {
   "cell_type": "code",
   "execution_count": 3,
   "metadata": {},
   "outputs": [],
   "source": [
    "A = [[0.5,-0.25],[-0.25,0.5]]\n",
    "b = [1,0]"
   ]
  },
  {
   "cell_type": "code",
   "execution_count": 4,
   "metadata": {},
   "outputs": [],
   "source": [
    "test_problem = QuantumLinearSystemProblem(A, b)"
   ]
  },
  {
   "cell_type": "code",
   "execution_count": 5,
   "metadata": {},
   "outputs": [],
   "source": [
    "fidelity_HHL = HHL(get_fidelity_result)\n",
    "fidelity_result = HHL.estimate(fidelity_HHL, \n",
    "             test_problem, \n",
    "             num_clock_qubits=3, \n",
    "             max_eigenvalue=1)"
   ]
  },
  {
   "cell_type": "code",
   "execution_count": 5,
   "metadata": {},
   "outputs": [],
   "source": [
    "test_solution = QuantumLinearSystemSolver(test_problem)"
   ]
  },
  {
   "cell_type": "code",
   "execution_count": 6,
   "metadata": {},
   "outputs": [
    {
     "name": "stdout",
     "output_type": "stream",
     "text": [
      "{   'circuit_results': [matrix([[0.8]]), matrix([[0.2]])],\n",
      "    'eigenbasis_projection_list': [0.7071067811865476, 0.7071067811865476],\n",
      "    'eigenvalue_list': [0.25, 0.75],\n",
      "    'ideal_x_statevector': Statevector([0.89442719+0.j, 0.4472136 +0.j],\n",
      "            dims=(2,)),\n",
      "    'post_processing': None,\n",
      "    'rotation_angle_list': None,\n",
      "    'shots': None}\n"
     ]
    }
   ],
   "source": [
    "print(test_solution)"
   ]
  },
  {
   "cell_type": "code",
   "execution_count": null,
   "metadata": {},
   "outputs": [],
   "source": []
  }
 ],
 "metadata": {
  "kernelspec": {
   "display_name": "Python 3",
   "language": "python",
   "name": "python3"
  },
  "language_info": {
   "codemirror_mode": {
    "name": "ipython",
    "version": 3
   },
   "file_extension": ".py",
   "mimetype": "text/x-python",
   "name": "python",
   "nbconvert_exporter": "python",
   "pygments_lexer": "ipython3",
   "version": "3.9.18"
  }
 },
 "nbformat": 4,
 "nbformat_minor": 2
}
