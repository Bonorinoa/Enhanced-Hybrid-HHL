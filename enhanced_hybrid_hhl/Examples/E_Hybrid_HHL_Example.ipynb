{
 "cells": [
  {
   "cell_type": "code",
   "execution_count": null,
   "metadata": {},
   "outputs": [],
   "source": []
  },
  {
   "cell_type": "code",
   "execution_count": 2,
   "metadata": {},
   "outputs": [
    {
     "ename": "ModuleNotFoundError",
     "evalue": "No module named 'enhanced_hybrid_hhl'",
     "output_type": "error",
     "traceback": [
      "\u001b[1;31m---------------------------------------------------------------------------\u001b[0m",
      "\u001b[1;31mModuleNotFoundError\u001b[0m                       Traceback (most recent call last)",
      "Cell \u001b[1;32mIn[2], line 1\u001b[0m\n\u001b[1;32m----> 1\u001b[0m \u001b[38;5;28;01mfrom\u001b[39;00m \u001b[38;5;21;01menhanced_hybrid_hhl\u001b[39;00m\u001b[38;5;21;01m.\u001b[39;00m\u001b[38;5;21;01mquantum_linear_system\u001b[39;00m \u001b[38;5;28;01mimport\u001b[39;00m QuantumLinearSystemProblem\n\u001b[0;32m      2\u001b[0m \u001b[38;5;28;01mfrom\u001b[39;00m \u001b[38;5;21;01mutils\u001b[39;00m\u001b[38;5;21;01m.\u001b[39;00m\u001b[38;5;21;01mQuantumLinearSystemSolver\u001b[39;00m \u001b[38;5;28;01mimport\u001b[39;00m QuantumLinearSystemSolver\n\u001b[0;32m      3\u001b[0m \u001b[38;5;28;01mfrom\u001b[39;00m \u001b[38;5;21;01mHHL\u001b[39;00m \u001b[38;5;28;01mimport\u001b[39;00m HHL\n",
      "\u001b[1;31mModuleNotFoundError\u001b[0m: No module named 'enhanced_hybrid_hhl'"
     ]
    }
   ],
   "source": [
    "from enhanced_hybrid_hhl.quantum_linear_system import QuantumLinearSystemProblem\n",
    "from utils.QuantumLinearSystemSolver import QuantumLinearSystemSolver\n",
    "from HHL import HHL\n",
    "from get_result import get_fidelity_result, get_estimator_result\n",
    "from inversion_circuits import HybridInversion"
   ]
  },
  {
   "cell_type": "code",
   "execution_count": null,
   "metadata": {},
   "outputs": [],
   "source": []
  },
  {
   "cell_type": "code",
   "execution_count": 4,
   "metadata": {},
   "outputs": [],
   "source": [
    "A = [[0.5,0.1],[0.1,0.5]]\n",
    "b = [1,0]"
   ]
  },
  {
   "cell_type": "code",
   "execution_count": 5,
   "metadata": {},
   "outputs": [],
   "source": [
    "test_problem = QuantumLinearSystemProblem(A_matrix=A, b_vector=b)"
   ]
  },
  {
   "cell_type": "code",
   "execution_count": 6,
   "metadata": {},
   "outputs": [],
   "source": [
    "E_Hybrid_HHL = HHL(get_result=get_fidelity_result,\n",
    "                   pre_processing=ideal_preprocessing,\n",
    "                   eigenvalue_inversion=HybridInversion)"
   ]
  },
  {
   "cell_type": "code",
   "execution_count": 7,
   "metadata": {},
   "outputs": [],
   "source": [
    "hybrid_result = E_Hybrid_HHL.estimate(problem = test_problem,\n",
    "                      num_clock_qubits=3,\n",
    "                      )"
   ]
  },
  {
   "cell_type": "code",
   "execution_count": 8,
   "metadata": {},
   "outputs": [
    {
     "name": "stdout",
     "output_type": "stream",
     "text": [
      "{   'circuit_results': {'0': 431, '1': 593},\n",
      "    'eigenbasis_projection_list': [0.7071067811865476, 0.7071067811865476],\n",
      "    'eigenvalue_list': [0.4, 0.6],\n",
      "    'ideal_x_statevector': None,\n",
      "    'post_processing': None,\n",
      "    'results_processed': (0.9973337235915666+0j),\n",
      "    'rotation_angle_list': None,\n",
      "    'shots': None}\n"
     ]
    }
   ],
   "source": [
    "print(hybrid_result)"
   ]
  },
  {
   "cell_type": "code",
   "execution_count": 9,
   "metadata": {},
   "outputs": [],
   "source": [
    "cann_HHL = HHL(get_fidelity_result)\n",
    "cann_result = cann_HHL.estimate(problem = test_problem,\n",
    "                  num_clock_qubits=3,\n",
    "                  max_eigenvalue=1)"
   ]
  },
  {
   "cell_type": "code",
   "execution_count": 14,
   "metadata": {},
   "outputs": [
    {
     "name": "stdout",
     "output_type": "stream",
     "text": [
      "0.9789194176139707\n"
     ]
    }
   ],
   "source": [
    "print(abs(cann_result.results_processed))"
   ]
  },
  {
   "cell_type": "code",
   "execution_count": 24,
   "metadata": {},
   "outputs": [],
   "source": [
    "from qiskit_ibm_runtime import QiskitRuntimeService\n",
    " \n",
    "service = QiskitRuntimeService()\n",
    "backend = service.backend(\"ibmq_qasm_simulator\")\n",
    "\n",
    "#simulator = AerSimulator().from_backend(torino)"
   ]
  },
  {
   "cell_type": "code",
   "execution_count": 25,
   "metadata": {},
   "outputs": [
    {
     "name": "stdout",
     "output_type": "stream",
     "text": [
      "[ 0.98058068+0.j -0.19611614+0.j]\n",
      "[[ 0.96153846+0.j -0.19230769-0.j]\n",
      " [-0.19230769+0.j  0.03846154+0.j]]\n"
     ]
    }
   ],
   "source": [
    "x_statevector = QuantumLinearSystemSolver(problem=test_problem).ideal_x_statevector\n",
    "print(x_statevector.data)\n",
    "print(x_statevector.to_operator().data)"
   ]
  },
  {
   "cell_type": "code",
   "execution_count": 26,
   "metadata": {},
   "outputs": [
    {
     "name": "stdout",
     "output_type": "stream",
     "text": [
      "Operator([[0.        +0.j, 0.        +0.j, 0.        +0.j, ...,\n",
      "           0.        -0.j, 0.        -0.j, 0.        -0.j],\n",
      "          [0.        +0.j, 0.96153846+0.j, 0.        +0.j, ...,\n",
      "           0.        -0.j, 0.        -0.j, 0.        -0.j],\n",
      "          [0.        +0.j, 0.        +0.j, 0.        +0.j, ...,\n",
      "           0.        -0.j, 0.        -0.j, 0.        -0.j],\n",
      "          ...,\n",
      "          [0.        +0.j, 0.        +0.j, 0.        +0.j, ...,\n",
      "           0.        +0.j, 0.        +0.j, 0.        +0.j],\n",
      "          [0.        +0.j, 0.        +0.j, 0.        +0.j, ...,\n",
      "           0.        +0.j, 0.        +0.j, 0.        +0.j],\n",
      "          [0.        +0.j, 0.        +0.j, 0.        +0.j, ...,\n",
      "           0.        +0.j, 0.        +0.j, 0.        +0.j]],\n",
      "         input_dims=(2, 2, 2, 2, 2), output_dims=(2, 2, 2, 2, 2))\n"
     ]
    }
   ],
   "source": [
    "from qiskit.quantum_info import Statevector\n",
    "\n",
    "def statevector_to_observable(statevector, num_clock_qubits):\n",
    "\n",
    "    zero_statevector = Statevector([1, 0])\n",
    "    one_statevector = Statevector([0,1])\n",
    "\n",
    "    final_statevector = Statevector([0,1])\n",
    "    for _ in range(num_clock_qubits):\n",
    "        final_statevector = final_statevector.expand(zero_statevector)\n",
    "\n",
    "    final_statevector = final_statevector.expand(statevector)\n",
    "\n",
    "    return final_statevector.to_operator() \n",
    "\n",
    "print(statevector_to_observable(x_statevector,3))"
   ]
  },
  {
   "cell_type": "code",
   "execution_count": 27,
   "metadata": {},
   "outputs": [],
   "source": [
    "projection_operator = statevector_to_observable(x_statevector,3)\n",
    "\n",
    "estimator_hhl = HHL(get_result=get_estimator_result(backend=backend, observable=projection_operator))"
   ]
  },
  {
   "cell_type": "code",
   "execution_count": 28,
   "metadata": {},
   "outputs": [],
   "source": [
    "estimator_result = estimator_hhl.estimate(test_problem,\n",
    "                       3,\n",
    "                       1,\n",
    "                       quantum_conditional_logic=False)"
   ]
  },
  {
   "cell_type": "code",
   "execution_count": 29,
   "metadata": {},
   "outputs": [
    {
     "name": "stdout",
     "output_type": "stream",
     "text": [
      "{   'circuit_results': 0.5038461538461538,\n",
      "    'eigenbasis_projection_list': None,\n",
      "    'eigenvalue_list': None,\n",
      "    'ideal_x_statevector': None,\n",
      "    'post_processing': None,\n",
      "    'results_processed': -0.212,\n",
      "    'rotation_angle_list': None,\n",
      "    'shots': None}\n"
     ]
    }
   ],
   "source": [
    "print(estimator_result)"
   ]
  },
  {
   "cell_type": "code",
   "execution_count": null,
   "metadata": {},
   "outputs": [],
   "source": []
  },
  {
   "cell_type": "code",
   "execution_count": null,
   "metadata": {},
   "outputs": [],
   "source": []
  }
 ],
 "metadata": {
  "kernelspec": {
   "display_name": "Python 3",
   "language": "python",
   "name": "python3"
  },
  "language_info": {
   "codemirror_mode": {
    "name": "ipython",
    "version": 3
   },
   "file_extension": ".py",
   "mimetype": "text/x-python",
   "name": "python",
   "nbconvert_exporter": "python",
   "pygments_lexer": "ipython3",
   "version": "3.9.18"
  }
 },
 "nbformat": 4,
 "nbformat_minor": 2
}
