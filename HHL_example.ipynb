{
 "cells": [
  {
   "cell_type": "code",
   "execution_count": 1,
   "metadata": {},
   "outputs": [],
   "source": [
    "from enhanced_hybrid_hhl import HHL, QCL_QPE_IBM, ExampleQLSP, RandomQLSP, HybridInversion, ideal_preprocessing, QuantumLinearSystemSolver"
   ]
  },
  {
   "cell_type": "code",
   "execution_count": 2,
   "metadata": {},
   "outputs": [],
   "source": [
    "from qiskit_aer import AerSimulator\n",
    "\n",
    "simulator = AerSimulator()"
   ]
  },
  {
   "cell_type": "code",
   "execution_count": 3,
   "metadata": {},
   "outputs": [],
   "source": [
    "l = 0.32\n",
    "example_problem = ExampleQLSP(lam=l)\n",
    "ideal_eigenvalues, ideal_eigenbasis = ideal_preprocessing(example_problem)\n",
    "maximum_eigenvalue = max(ideal_eigenvalues)\n",
    "\n",
    "num_clock_qubits = 3"
   ]
  },
  {
   "cell_type": "code",
   "execution_count": null,
   "metadata": {},
   "outputs": [],
   "source": []
  },
  {
   "cell_type": "code",
   "execution_count": 4,
   "metadata": {},
   "outputs": [],
   "source": [
    "qpe = QCL_QPE_IBM(num_clock_qubits+2,max_eigenvalue= maximum_eigenvalue, backend=simulator).estimate\n",
    "inversion = HybridInversion\n",
    "get_result_type = 'get_simulator_result'\n",
    "ideal_x_observable = QuantumLinearSystemSolver(example_problem).ideal_x_statevector.to_operator()\n",
    "\n",
    "hhl = HHL(get_result_type,\n",
    "          qpe,\n",
    "          inversion,\n",
    "          backend=simulator,\n",
    "          statevector=ideal_x_observable)\n"
   ]
  },
  {
   "cell_type": "code",
   "execution_count": 5,
   "metadata": {},
   "outputs": [],
   "source": [
    "test_result = hhl.estimate(example_problem)"
   ]
  },
  {
   "cell_type": "code",
   "execution_count": 8,
   "metadata": {},
   "outputs": [
    {
     "name": "stdout",
     "output_type": "stream",
     "text": [
      "Operator([[ 0.88526912+0.j, -0.31869688-0.j],\n",
      "          [-0.31869688+0.j,  0.11473088+0.j]],\n",
      "         input_dims=(2,), output_dims=(2,))\n"
     ]
    }
   ],
   "source": [
    "ideal_x_observable"
   ]
  },
  {
   "cell_type": "code",
   "execution_count": null,
   "metadata": {},
   "outputs": [],
   "source": [
    "qpe = QPE_preprocessing(num_clock_qubits+2,max_eigenvalue= maximum_eigenvalue, backend=simulator).estimate\n",
    "inversion = HybridInversion\n",
    "get_result_type = 'get_ionq_result'\n",
    "\n",
    "hhl = HHL(get_result_type,\n",
    "          qpe,\n",
    "          inversion,\n",
    "          backend=simulator)"
   ]
  }
 ],
 "metadata": {
  "kernelspec": {
   "display_name": "Python 3",
   "language": "python",
   "name": "python3"
  },
  "language_info": {
   "codemirror_mode": {
    "name": "ipython",
    "version": 3
   },
   "file_extension": ".py",
   "mimetype": "text/x-python",
   "name": "python",
   "nbconvert_exporter": "python",
   "pygments_lexer": "ipython3",
   "version": "3.9.18"
  }
 },
 "nbformat": 4,
 "nbformat_minor": 2
}
