{
 "cells": [
  {
   "cell_type": "code",
   "execution_count": 1,
   "metadata": {},
   "outputs": [],
   "source": [
    "from enhanced_hybrid_hhl import RandomQLSP, QPE_preprocessing, QCL_QPE_IBM, QuantumLinearSystemSolver, ideal_preprocessing\n",
    "from qiskit import transpile, QuantumCircuit\n",
    "import numpy as np\n",
    "from qiskit.circuit.library import HamiltonianGate\n"
   ]
  },
  {
   "cell_type": "code",
   "execution_count": 2,
   "metadata": {},
   "outputs": [],
   "source": [
    "from qiskit_ibm_provider import IBMProvider\n",
    "from qiskit.providers.aer import AerSimulator\n",
    "\n",
    "provider = IBMProvider(instance='ibm-q-ncsu/nc-state/amplitude-estima')\n",
    "torino = provider.get_backend('ibm_torino')\n",
    "simulator = AerSimulator()\n",
    "emulator = AerSimulator().from_backend(torino)"
   ]
  },
  {
   "cell_type": "code",
   "execution_count": 3,
   "metadata": {},
   "outputs": [
    {
     "data": {
      "text/plain": [
       "([-2.4804041152739553,\n",
       "  -1.6624312014267035,\n",
       "  -0.654341361893473,\n",
       "  1.3677182966260804],\n",
       " [0.24540129943736844,\n",
       "  0.14770664141222953,\n",
       "  0.8449938816744625,\n",
       "  0.45160413001864236])"
      ]
     },
     "execution_count": 3,
     "metadata": {},
     "output_type": "execute_result"
    }
   ],
   "source": [
    "problem = RandomQLSP(2, 5)\n",
    "clock = 3\n",
    "\n",
    "ideal_lists = ideal_preprocessing(problem)\n",
    "\n",
    "max_eigenvalue = max(ideal_lists[0], key=abs)\n",
    "\n",
    "scale = abs((0.5-2**-clock)/max_eigenvalue)\n",
    "\n",
    "ideal_lists"
   ]
  },
  {
   "cell_type": "code",
   "execution_count": 4,
   "metadata": {},
   "outputs": [],
   "source": [
    "def get_results_preprocessing(circ):\n",
    "    transp = transpile(circ, simulator)\n",
    "    result = simulator.run(transp, shots=4000).result()\n",
    "    return result\n",
    "\n",
    "def fromat_results_preprocessing(result):\n",
    "    \n",
    "    min_prob = 2**(-clock)\n",
    "\n",
    "    counts=result.get_counts()\n",
    "\n",
    "    tot = sum(counts.values())\n",
    "    result_dict = {(int(key,2) if key[0]=='0' else (int(key,2) - (2**(len(key))))) : value / tot for key, value in counts.items()}\n",
    "\n",
    "\n",
    "    eigenvalue_list = [eig/(scale*2**(clock)) for eig in result_dict.keys() if result_dict[eig] > min_prob]\n",
    "    eigenbasis_projection_list = [result_dict[eig] for eig in result_dict.keys() if result_dict[eig] > min_prob]\n",
    "    return eigenvalue_list, eigenbasis_projection_list"
   ]
  },
  {
   "cell_type": "code",
   "execution_count": 5,
   "metadata": {},
   "outputs": [],
   "source": [
    "def construct_QCL_QPE_circuit(problem, scale, clock):\n",
    "    '''Constructs QPE_QCL circuit for a given time parameter'''\n",
    "    qubits = int(np.log2(problem.A_matrix.shape[0]))\n",
    "    circ = QuantumCircuit(qubits+1,clock)\n",
    "    circ.prepare_state(problem.b_vector.T.tolist()[0], list(range(1, circ.num_qubits)))\n",
    "    for clbit in range(clock):\n",
    "        if clbit!=0:\n",
    "            circ.initialize([1,0],[0])\n",
    "        circ.h(0)\n",
    "        power=2**(clock-clbit-1)\n",
    "        ham = HamiltonianGate(problem.A_matrix,-2*np.pi*scale).power(power).control()\n",
    "        circ.append(ham, circ.qubits)\n",
    "        \n",
    "        for i in reversed(range(clbit)):\n",
    "            #tb = QuantumCircuit(1,1)\n",
    "            if i < clock:   \n",
    "                N = (2**(i+2))\n",
    "                #tb.p(np.pi*2/N,0)\n",
    "                control = clbit-i-1\n",
    "                with circ.if_test((control,1)) as passed:\n",
    "                    circ.p(-np.pi*2/N,0)\n",
    "            #circ.if_else((control,1), true_body=tb, false_body=None, qubits=[0], clbits=[control])\n",
    "        circ.h(0)\n",
    "        circ.measure(0,[clbit])\n",
    "    return circ"
   ]
  },
  {
   "cell_type": "code",
   "execution_count": 6,
   "metadata": {},
   "outputs": [
    {
     "data": {
      "text/plain": [
       "([2.8174897026274968, -1.8783264684183314, -0.9391632342091657],\n",
       " [0.32925, 0.24175, 0.17075])"
      ]
     },
     "execution_count": 6,
     "metadata": {},
     "output_type": "execute_result"
    }
   ],
   "source": [
    "\n",
    "circ = construct_QCL_QPE_circuit(problem, scale, clock)\n",
    "\n",
    "baseline_result = get_results_preprocessing(circ=circ)\n",
    "baseline_lists = fromat_results_preprocessing(baseline_result)\n",
    "\n",
    "baseline_lists"
   ]
  },
  {
   "cell_type": "code",
   "execution_count": 5,
   "metadata": {},
   "outputs": [
    {
     "data": {
      "text/plain": [
       "([-0.8268013717579851, 1.6536027435159701], [0.62425, 0.14375])"
      ]
     },
     "execution_count": 5,
     "metadata": {},
     "output_type": "execute_result"
    }
   ],
   "source": [
    "qcl_qpe = QCL_QPE_IBM(clock, simulator, max_eigenvalue=max_eigenvalue)\n",
    "qcl_qpe_lists = qcl_qpe.estimate(problem)\n",
    "qcl_qpe_lists"
   ]
  },
  {
   "cell_type": "code",
   "execution_count": 6,
   "metadata": {},
   "outputs": [
    {
     "data": {
      "text/plain": [
       "([-0.8268013717579851, 1.6536027435159701], [0.62575, 0.1435])"
      ]
     },
     "execution_count": 6,
     "metadata": {},
     "output_type": "execute_result"
    }
   ],
   "source": [
    "qpe = QPE_preprocessing(num_eval_qubits=clock, max_eigenvalue=max_eigenvalue, get_result=get_results_preprocessing)\n",
    "qpe_lists = qpe.estimate(problem)\n",
    "qpe_lists"
   ]
  },
  {
   "cell_type": "code",
   "execution_count": 17,
   "metadata": {},
   "outputs": [],
   "source": [
    "from qiskit_ionq.ionq_provider import IonQProvider\n",
    "ionq_provider = IonQProvider(token='W8fkNnlIqaWDP83QCPTnP5HjoELVXMbP')\n",
    "ionq_simulator = ionq_provider.get_backend('qpu.harmony')\n",
    "\n",
    "def get_ionq_results_preprocessing(circ):\n",
    "    transp = transpile(circ, ionq_simulator)\n",
    "    print(transp.depth())\n",
    "    result = ionq_simulator.run(transp, shots=4000, noise='qpu.harmony').result()\n",
    "    return result\n"
   ]
  },
  {
   "cell_type": "code",
   "execution_count": 18,
   "metadata": {},
   "outputs": [
    {
     "data": {
      "text/plain": [
       "<IonQQPUBackend('ionq_qpu.harmony')>"
      ]
     },
     "execution_count": 18,
     "metadata": {},
     "output_type": "execute_result"
    }
   ],
   "source": [
    "test_ionq = QuantumCircuit(1,1)\n",
    "test_ionq.x(0)\n",
    "test_ionq.measure(0,0)\n",
    "\n",
    "ionq_simulator # .run(test_ionq, noise='qpu.harmony')"
   ]
  },
  {
   "cell_type": "code",
   "execution_count": null,
   "metadata": {},
   "outputs": [
    {
     "ename": "TranspilerError",
     "evalue": "\"The control-flow construct 'if_else' is not supported by the backend.\"",
     "output_type": "error",
     "traceback": [
      "\u001b[1;31m---------------------------------------------------------------------------\u001b[0m",
      "\u001b[1;31mTranspilerError\u001b[0m                           Traceback (most recent call last)",
      "File \u001b[1;32mc:\\Users\\19899\\anaconda3\\envs\\HHL\\lib\\site-packages\\qiskit\\transpiler\\runningpassmanager.py:161\u001b[0m, in \u001b[0;36m_replace_error.<locals>.wrapper\u001b[1;34m(*meth_args, **meth_kwargs)\u001b[0m\n\u001b[0;32m    160\u001b[0m \u001b[38;5;28;01mtry\u001b[39;00m:\n\u001b[1;32m--> 161\u001b[0m     \u001b[38;5;28;01mreturn\u001b[39;00m meth(\u001b[38;5;241m*\u001b[39mmeth_args, \u001b[38;5;241m*\u001b[39m\u001b[38;5;241m*\u001b[39mmeth_kwargs)\n\u001b[0;32m    162\u001b[0m \u001b[38;5;28;01mexcept\u001b[39;00m PassManagerError \u001b[38;5;28;01mas\u001b[39;00m ex:\n",
      "File \u001b[1;32mc:\\Users\\19899\\anaconda3\\envs\\HHL\\lib\\site-packages\\qiskit\\passmanager\\base_tasks.py:218\u001b[0m, in \u001b[0;36mBaseController.execute\u001b[1;34m(self, passmanager_ir, state, callback)\u001b[0m\n\u001b[0;32m    217\u001b[0m \u001b[38;5;28;01mwhile\u001b[39;00m \u001b[38;5;28;01mTrue\u001b[39;00m:\n\u001b[1;32m--> 218\u001b[0m     passmanager_ir, state \u001b[38;5;241m=\u001b[39m \u001b[43mnext_task\u001b[49m\u001b[38;5;241;43m.\u001b[39;49m\u001b[43mexecute\u001b[49m\u001b[43m(\u001b[49m\n\u001b[0;32m    219\u001b[0m \u001b[43m        \u001b[49m\u001b[43mpassmanager_ir\u001b[49m\u001b[38;5;241;43m=\u001b[39;49m\u001b[43mpassmanager_ir\u001b[49m\u001b[43m,\u001b[49m\n\u001b[0;32m    220\u001b[0m \u001b[43m        \u001b[49m\u001b[43mstate\u001b[49m\u001b[38;5;241;43m=\u001b[39;49m\u001b[43mstate\u001b[49m\u001b[43m,\u001b[49m\n\u001b[0;32m    221\u001b[0m \u001b[43m        \u001b[49m\u001b[43mcallback\u001b[49m\u001b[38;5;241;43m=\u001b[39;49m\u001b[43mcallback\u001b[49m\u001b[43m,\u001b[49m\n\u001b[0;32m    222\u001b[0m \u001b[43m    \u001b[49m\u001b[43m)\u001b[49m\n\u001b[0;32m    223\u001b[0m     \u001b[38;5;28;01mtry\u001b[39;00m:\n\u001b[0;32m    224\u001b[0m         \u001b[38;5;66;03m# Sending the object through the generator implies the custom controllers\u001b[39;00m\n\u001b[0;32m    225\u001b[0m         \u001b[38;5;66;03m# can always rely on the latest data to choose the next task to run.\u001b[39;00m\n",
      "File \u001b[1;32mc:\\Users\\19899\\anaconda3\\envs\\HHL\\lib\\site-packages\\qiskit\\passmanager\\base_tasks.py:218\u001b[0m, in \u001b[0;36mBaseController.execute\u001b[1;34m(self, passmanager_ir, state, callback)\u001b[0m\n\u001b[0;32m    217\u001b[0m \u001b[38;5;28;01mwhile\u001b[39;00m \u001b[38;5;28;01mTrue\u001b[39;00m:\n\u001b[1;32m--> 218\u001b[0m     passmanager_ir, state \u001b[38;5;241m=\u001b[39m \u001b[43mnext_task\u001b[49m\u001b[38;5;241;43m.\u001b[39;49m\u001b[43mexecute\u001b[49m\u001b[43m(\u001b[49m\n\u001b[0;32m    219\u001b[0m \u001b[43m        \u001b[49m\u001b[43mpassmanager_ir\u001b[49m\u001b[38;5;241;43m=\u001b[39;49m\u001b[43mpassmanager_ir\u001b[49m\u001b[43m,\u001b[49m\n\u001b[0;32m    220\u001b[0m \u001b[43m        \u001b[49m\u001b[43mstate\u001b[49m\u001b[38;5;241;43m=\u001b[39;49m\u001b[43mstate\u001b[49m\u001b[43m,\u001b[49m\n\u001b[0;32m    221\u001b[0m \u001b[43m        \u001b[49m\u001b[43mcallback\u001b[49m\u001b[38;5;241;43m=\u001b[39;49m\u001b[43mcallback\u001b[49m\u001b[43m,\u001b[49m\n\u001b[0;32m    222\u001b[0m \u001b[43m    \u001b[49m\u001b[43m)\u001b[49m\n\u001b[0;32m    223\u001b[0m     \u001b[38;5;28;01mtry\u001b[39;00m:\n\u001b[0;32m    224\u001b[0m         \u001b[38;5;66;03m# Sending the object through the generator implies the custom controllers\u001b[39;00m\n\u001b[0;32m    225\u001b[0m         \u001b[38;5;66;03m# can always rely on the latest data to choose the next task to run.\u001b[39;00m\n",
      "File \u001b[1;32mc:\\Users\\19899\\anaconda3\\envs\\HHL\\lib\\site-packages\\qiskit\\passmanager\\base_tasks.py:98\u001b[0m, in \u001b[0;36mGenericPass.execute\u001b[1;34m(self, passmanager_ir, state, callback)\u001b[0m\n\u001b[0;32m     97\u001b[0m \u001b[38;5;28;01mif\u001b[39;00m \u001b[38;5;28mself\u001b[39m \u001b[38;5;129;01mnot\u001b[39;00m \u001b[38;5;129;01min\u001b[39;00m state\u001b[38;5;241m.\u001b[39mworkflow_status\u001b[38;5;241m.\u001b[39mcompleted_passes:\n\u001b[1;32m---> 98\u001b[0m     ret \u001b[38;5;241m=\u001b[39m \u001b[38;5;28;43mself\u001b[39;49m\u001b[38;5;241;43m.\u001b[39;49m\u001b[43mrun\u001b[49m\u001b[43m(\u001b[49m\u001b[43mpassmanager_ir\u001b[49m\u001b[43m)\u001b[49m\n\u001b[0;32m     99\u001b[0m     run_state \u001b[38;5;241m=\u001b[39m RunState\u001b[38;5;241m.\u001b[39mSUCCESS\n",
      "File \u001b[1;32mc:\\Users\\19899\\anaconda3\\envs\\HHL\\lib\\site-packages\\qiskit\\transpiler\\passes\\utils\\error.py:62\u001b[0m, in \u001b[0;36mError.run\u001b[1;34m(self, _)\u001b[0m\n\u001b[0;32m     61\u001b[0m \u001b[38;5;28;01mif\u001b[39;00m \u001b[38;5;28mself\u001b[39m\u001b[38;5;241m.\u001b[39maction \u001b[38;5;241m==\u001b[39m \u001b[38;5;124m\"\u001b[39m\u001b[38;5;124mraise\u001b[39m\u001b[38;5;124m\"\u001b[39m:\n\u001b[1;32m---> 62\u001b[0m     \u001b[38;5;28;01mraise\u001b[39;00m TranspilerError(msg)\n\u001b[0;32m     63\u001b[0m \u001b[38;5;28;01mif\u001b[39;00m \u001b[38;5;28mself\u001b[39m\u001b[38;5;241m.\u001b[39maction \u001b[38;5;241m==\u001b[39m \u001b[38;5;124m\"\u001b[39m\u001b[38;5;124mwarn\u001b[39m\u001b[38;5;124m\"\u001b[39m:\n",
      "\u001b[1;31mTranspilerError\u001b[0m: \"The control-flow construct 'if_else' is not supported by the backend.\"",
      "\nThe above exception was the direct cause of the following exception:\n",
      "\u001b[1;31mTranspilerError\u001b[0m                           Traceback (most recent call last)",
      "File \u001b[1;32mc:\\Users\\19899\\anaconda3\\envs\\HHL\\lib\\site-packages\\qiskit\\transpiler\\passmanager.py:553\u001b[0m, in \u001b[0;36m_replace_error.<locals>.wrapper\u001b[1;34m(*meth_args, **meth_kwargs)\u001b[0m\n\u001b[0;32m    552\u001b[0m \u001b[38;5;28;01mtry\u001b[39;00m:\n\u001b[1;32m--> 553\u001b[0m     \u001b[38;5;28;01mreturn\u001b[39;00m meth(\u001b[38;5;241m*\u001b[39mmeth_args, \u001b[38;5;241m*\u001b[39m\u001b[38;5;241m*\u001b[39mmeth_kwargs)\n\u001b[0;32m    554\u001b[0m \u001b[38;5;28;01mexcept\u001b[39;00m PassManagerError \u001b[38;5;28;01mas\u001b[39;00m ex:\n",
      "File \u001b[1;32mc:\\Users\\19899\\anaconda3\\envs\\HHL\\lib\\site-packages\\qiskit\\transpiler\\passmanager.py:291\u001b[0m, in \u001b[0;36mPassManager.run\u001b[1;34m(self, circuits, output_name, callback)\u001b[0m\n\u001b[0;32m    289\u001b[0m     callback \u001b[38;5;241m=\u001b[39m _legacy_style_callback(callback)\n\u001b[1;32m--> 291\u001b[0m \u001b[38;5;28;01mreturn\u001b[39;00m \u001b[38;5;28;43msuper\u001b[39;49m\u001b[43m(\u001b[49m\u001b[43m)\u001b[49m\u001b[38;5;241;43m.\u001b[39;49m\u001b[43mrun\u001b[49m\u001b[43m(\u001b[49m\n\u001b[0;32m    292\u001b[0m \u001b[43m    \u001b[49m\u001b[43min_programs\u001b[49m\u001b[38;5;241;43m=\u001b[39;49m\u001b[43mcircuits\u001b[49m\u001b[43m,\u001b[49m\n\u001b[0;32m    293\u001b[0m \u001b[43m    \u001b[49m\u001b[43mcallback\u001b[49m\u001b[38;5;241;43m=\u001b[39;49m\u001b[43mcallback\u001b[49m\u001b[43m,\u001b[49m\n\u001b[0;32m    294\u001b[0m \u001b[43m    \u001b[49m\u001b[43moutput_name\u001b[49m\u001b[38;5;241;43m=\u001b[39;49m\u001b[43moutput_name\u001b[49m\u001b[43m,\u001b[49m\n\u001b[0;32m    295\u001b[0m \u001b[43m\u001b[49m\u001b[43m)\u001b[49m\n",
      "File \u001b[1;32mc:\\Users\\19899\\anaconda3\\envs\\HHL\\lib\\site-packages\\qiskit\\passmanager\\passmanager.py:222\u001b[0m, in \u001b[0;36mBasePassManager.run\u001b[1;34m(self, in_programs, callback, **kwargs)\u001b[0m\n\u001b[0;32m    221\u001b[0m \u001b[38;5;28;01mif\u001b[39;00m \u001b[38;5;28mlen\u001b[39m(in_programs) \u001b[38;5;241m==\u001b[39m \u001b[38;5;241m1\u001b[39m:\n\u001b[1;32m--> 222\u001b[0m     out_program \u001b[38;5;241m=\u001b[39m _run_workflow(\n\u001b[0;32m    223\u001b[0m         program\u001b[38;5;241m=\u001b[39min_programs[\u001b[38;5;241m0\u001b[39m],\n\u001b[0;32m    224\u001b[0m         pass_manager\u001b[38;5;241m=\u001b[39m\u001b[38;5;28mself\u001b[39m,\n\u001b[0;32m    225\u001b[0m         callback\u001b[38;5;241m=\u001b[39mcallback,\n\u001b[0;32m    226\u001b[0m         \u001b[38;5;241m*\u001b[39m\u001b[38;5;241m*\u001b[39mkwargs,\n\u001b[0;32m    227\u001b[0m     )\n\u001b[0;32m    228\u001b[0m     \u001b[38;5;28;01mif\u001b[39;00m is_list:\n",
      "File \u001b[1;32mc:\\Users\\19899\\anaconda3\\envs\\HHL\\lib\\site-packages\\qiskit\\passmanager\\passmanager.py:284\u001b[0m, in \u001b[0;36m_run_workflow\u001b[1;34m(program, pass_manager, **kwargs)\u001b[0m\n\u001b[0;32m    280\u001b[0m passmanager_ir \u001b[38;5;241m=\u001b[39m pass_manager\u001b[38;5;241m.\u001b[39m_passmanager_frontend(\n\u001b[0;32m    281\u001b[0m     input_program\u001b[38;5;241m=\u001b[39mprogram,\n\u001b[0;32m    282\u001b[0m     \u001b[38;5;241m*\u001b[39m\u001b[38;5;241m*\u001b[39mkwargs,\n\u001b[0;32m    283\u001b[0m )\n\u001b[1;32m--> 284\u001b[0m passmanager_ir, _ \u001b[38;5;241m=\u001b[39m \u001b[43mflow_controller\u001b[49m\u001b[38;5;241;43m.\u001b[39;49m\u001b[43mexecute\u001b[49m\u001b[43m(\u001b[49m\n\u001b[0;32m    285\u001b[0m \u001b[43m    \u001b[49m\u001b[43mpassmanager_ir\u001b[49m\u001b[38;5;241;43m=\u001b[39;49m\u001b[43mpassmanager_ir\u001b[49m\u001b[43m,\u001b[49m\n\u001b[0;32m    286\u001b[0m \u001b[43m    \u001b[49m\u001b[43mstate\u001b[49m\u001b[38;5;241;43m=\u001b[39;49m\u001b[43mPassManagerState\u001b[49m\u001b[43m(\u001b[49m\n\u001b[0;32m    287\u001b[0m \u001b[43m        \u001b[49m\u001b[43mworkflow_status\u001b[49m\u001b[38;5;241;43m=\u001b[39;49m\u001b[43minitial_status\u001b[49m\u001b[43m,\u001b[49m\n\u001b[0;32m    288\u001b[0m \u001b[43m        \u001b[49m\u001b[43mproperty_set\u001b[49m\u001b[38;5;241;43m=\u001b[39;49m\u001b[43mpass_manager\u001b[49m\u001b[38;5;241;43m.\u001b[39;49m\u001b[43mproperty_set\u001b[49m\u001b[43m,\u001b[49m\n\u001b[0;32m    289\u001b[0m \u001b[43m    \u001b[49m\u001b[43m)\u001b[49m\u001b[43m,\u001b[49m\n\u001b[0;32m    290\u001b[0m \u001b[43m    \u001b[49m\u001b[43mcallback\u001b[49m\u001b[38;5;241;43m=\u001b[39;49m\u001b[43mkwargs\u001b[49m\u001b[38;5;241;43m.\u001b[39;49m\u001b[43mget\u001b[49m\u001b[43m(\u001b[49m\u001b[38;5;124;43m\"\u001b[39;49m\u001b[38;5;124;43mcallback\u001b[39;49m\u001b[38;5;124;43m\"\u001b[39;49m\u001b[43m,\u001b[49m\u001b[43m \u001b[49m\u001b[38;5;28;43;01mNone\u001b[39;49;00m\u001b[43m)\u001b[49m\u001b[43m,\u001b[49m\n\u001b[0;32m    291\u001b[0m \u001b[43m\u001b[49m\u001b[43m)\u001b[49m\n\u001b[0;32m    292\u001b[0m out_program \u001b[38;5;241m=\u001b[39m pass_manager\u001b[38;5;241m.\u001b[39m_passmanager_backend(\n\u001b[0;32m    293\u001b[0m     passmanager_ir\u001b[38;5;241m=\u001b[39mpassmanager_ir,\n\u001b[0;32m    294\u001b[0m     in_program\u001b[38;5;241m=\u001b[39mprogram,\n\u001b[0;32m    295\u001b[0m     \u001b[38;5;241m*\u001b[39m\u001b[38;5;241m*\u001b[39mkwargs,\n\u001b[0;32m    296\u001b[0m )\n",
      "File \u001b[1;32mc:\\Users\\19899\\anaconda3\\envs\\HHL\\lib\\site-packages\\qiskit\\transpiler\\runningpassmanager.py:163\u001b[0m, in \u001b[0;36m_replace_error.<locals>.wrapper\u001b[1;34m(*meth_args, **meth_kwargs)\u001b[0m\n\u001b[0;32m    162\u001b[0m \u001b[38;5;28;01mexcept\u001b[39;00m PassManagerError \u001b[38;5;28;01mas\u001b[39;00m ex:\n\u001b[1;32m--> 163\u001b[0m     \u001b[38;5;28;01mraise\u001b[39;00m TranspilerError(ex\u001b[38;5;241m.\u001b[39mmessage) \u001b[38;5;28;01mfrom\u001b[39;00m \u001b[38;5;21;01mex\u001b[39;00m\n",
      "\u001b[1;31mTranspilerError\u001b[0m: \"The control-flow construct 'if_else' is not supported by the backend.\"",
      "\nThe above exception was the direct cause of the following exception:\n",
      "\u001b[1;31mTranspilerError\u001b[0m                           Traceback (most recent call last)",
      "Cell \u001b[1;32mIn[11], line 3\u001b[0m\n\u001b[0;32m      1\u001b[0m circ \u001b[38;5;241m=\u001b[39m construct_QCL_QPE_circuit(problem, scale, clock)\n\u001b[1;32m----> 3\u001b[0m ionq_qcl_result \u001b[38;5;241m=\u001b[39m \u001b[43mget_results_preprocessing\u001b[49m\u001b[43m(\u001b[49m\u001b[43mcirc\u001b[49m\u001b[38;5;241;43m=\u001b[39;49m\u001b[43mcirc\u001b[49m\u001b[43m)\u001b[49m\n\u001b[0;32m      4\u001b[0m ionq_qcl_lists \u001b[38;5;241m=\u001b[39m fromat_results_preprocessing(ionq_qcl_result)\n\u001b[0;32m      5\u001b[0m ionq_qcl_lists\n",
      "Cell \u001b[1;32mIn[4], line 2\u001b[0m, in \u001b[0;36mget_results_preprocessing\u001b[1;34m(circ)\u001b[0m\n\u001b[0;32m      1\u001b[0m \u001b[38;5;28;01mdef\u001b[39;00m \u001b[38;5;21mget_results_preprocessing\u001b[39m(circ):\n\u001b[1;32m----> 2\u001b[0m     transp \u001b[38;5;241m=\u001b[39m \u001b[43mtranspile\u001b[49m\u001b[43m(\u001b[49m\u001b[43mcirc\u001b[49m\u001b[43m,\u001b[49m\u001b[43m \u001b[49m\u001b[43msimulator\u001b[49m\u001b[43m)\u001b[49m\n\u001b[0;32m      3\u001b[0m     result \u001b[38;5;241m=\u001b[39m simulator\u001b[38;5;241m.\u001b[39mrun(transp, shots\u001b[38;5;241m=\u001b[39m\u001b[38;5;241m4000\u001b[39m)\u001b[38;5;241m.\u001b[39mresult()\n\u001b[0;32m      4\u001b[0m     \u001b[38;5;28;01mreturn\u001b[39;00m result\n",
      "File \u001b[1;32mc:\\Users\\19899\\anaconda3\\envs\\HHL\\lib\\site-packages\\qiskit\\compiler\\transpiler.py:428\u001b[0m, in \u001b[0;36mtranspile\u001b[1;34m(circuits, backend, basis_gates, inst_map, coupling_map, backend_properties, initial_layout, layout_method, routing_method, translation_method, scheduling_method, instruction_durations, dt, approximation_degree, timing_constraints, seed_transpiler, optimization_level, callback, output_name, unitary_synthesis_method, unitary_synthesis_plugin_config, target, hls_config, init_method, optimization_method, ignore_backend_supplied_default_methods)\u001b[0m\n\u001b[0;32m    400\u001b[0m         instruction_durations \u001b[38;5;241m=\u001b[39m _parse_instruction_durations(\n\u001b[0;32m    401\u001b[0m             backend, instruction_durations, dt, circuits[\u001b[38;5;241m0\u001b[39m]\n\u001b[0;32m    402\u001b[0m         )\n\u001b[0;32m    404\u001b[0m pm \u001b[38;5;241m=\u001b[39m generate_preset_pass_manager(\n\u001b[0;32m    405\u001b[0m     optimization_level,\n\u001b[0;32m    406\u001b[0m     backend\u001b[38;5;241m=\u001b[39mbackend,\n\u001b[1;32m   (...)\u001b[0m\n\u001b[0;32m    426\u001b[0m     _skip_target\u001b[38;5;241m=\u001b[39m_skip_target,\n\u001b[0;32m    427\u001b[0m )\n\u001b[1;32m--> 428\u001b[0m out_circuits \u001b[38;5;241m=\u001b[39m \u001b[43mpm\u001b[49m\u001b[38;5;241;43m.\u001b[39;49m\u001b[43mrun\u001b[49m\u001b[43m(\u001b[49m\u001b[43mcircuits\u001b[49m\u001b[43m,\u001b[49m\u001b[43m \u001b[49m\u001b[43mcallback\u001b[49m\u001b[38;5;241;43m=\u001b[39;49m\u001b[43mcallback\u001b[49m\u001b[43m)\u001b[49m\n\u001b[0;32m    429\u001b[0m \u001b[38;5;28;01mfor\u001b[39;00m name, circ \u001b[38;5;129;01min\u001b[39;00m \u001b[38;5;28mzip\u001b[39m(output_name, out_circuits):\n\u001b[0;32m    430\u001b[0m     circ\u001b[38;5;241m.\u001b[39mname \u001b[38;5;241m=\u001b[39m name\n",
      "File \u001b[1;32mc:\\Users\\19899\\anaconda3\\envs\\HHL\\lib\\site-packages\\qiskit\\transpiler\\passmanager.py:534\u001b[0m, in \u001b[0;36mStagedPassManager.run\u001b[1;34m(self, circuits, output_name, callback)\u001b[0m\n\u001b[0;32m    527\u001b[0m \u001b[38;5;28;01mdef\u001b[39;00m \u001b[38;5;21mrun\u001b[39m(\n\u001b[0;32m    528\u001b[0m     \u001b[38;5;28mself\u001b[39m,\n\u001b[0;32m    529\u001b[0m     circuits: _CircuitsT,\n\u001b[0;32m    530\u001b[0m     output_name: \u001b[38;5;28mstr\u001b[39m \u001b[38;5;241m|\u001b[39m \u001b[38;5;28;01mNone\u001b[39;00m \u001b[38;5;241m=\u001b[39m \u001b[38;5;28;01mNone\u001b[39;00m,\n\u001b[0;32m    531\u001b[0m     callback: Callable \u001b[38;5;241m|\u001b[39m \u001b[38;5;28;01mNone\u001b[39;00m \u001b[38;5;241m=\u001b[39m \u001b[38;5;28;01mNone\u001b[39;00m,\n\u001b[0;32m    532\u001b[0m ) \u001b[38;5;241m-\u001b[39m\u001b[38;5;241m>\u001b[39m _CircuitsT:\n\u001b[0;32m    533\u001b[0m     \u001b[38;5;28mself\u001b[39m\u001b[38;5;241m.\u001b[39m_update_passmanager()\n\u001b[1;32m--> 534\u001b[0m     \u001b[38;5;28;01mreturn\u001b[39;00m \u001b[38;5;28;43msuper\u001b[39;49m\u001b[43m(\u001b[49m\u001b[43m)\u001b[49m\u001b[38;5;241;43m.\u001b[39;49m\u001b[43mrun\u001b[49m\u001b[43m(\u001b[49m\u001b[43mcircuits\u001b[49m\u001b[43m,\u001b[49m\u001b[43m \u001b[49m\u001b[43moutput_name\u001b[49m\u001b[43m,\u001b[49m\u001b[43m \u001b[49m\u001b[43mcallback\u001b[49m\u001b[43m)\u001b[49m\n",
      "File \u001b[1;32mc:\\Users\\19899\\anaconda3\\envs\\HHL\\lib\\site-packages\\qiskit\\transpiler\\passmanager.py:555\u001b[0m, in \u001b[0;36m_replace_error.<locals>.wrapper\u001b[1;34m(*meth_args, **meth_kwargs)\u001b[0m\n\u001b[0;32m    553\u001b[0m     \u001b[38;5;28;01mreturn\u001b[39;00m meth(\u001b[38;5;241m*\u001b[39mmeth_args, \u001b[38;5;241m*\u001b[39m\u001b[38;5;241m*\u001b[39mmeth_kwargs)\n\u001b[0;32m    554\u001b[0m \u001b[38;5;28;01mexcept\u001b[39;00m PassManagerError \u001b[38;5;28;01mas\u001b[39;00m ex:\n\u001b[1;32m--> 555\u001b[0m     \u001b[38;5;28;01mraise\u001b[39;00m TranspilerError(ex\u001b[38;5;241m.\u001b[39mmessage) \u001b[38;5;28;01mfrom\u001b[39;00m \u001b[38;5;21;01mex\u001b[39;00m\n",
      "\u001b[1;31mTranspilerError\u001b[0m: \"The control-flow construct 'if_else' is not supported by the backend.\""
     ]
    }
   ],
   "source": [
    "circ = construct_QCL_QPE_circuit(problem, scale, clock)\n",
    "\n",
    "ionq_qcl_result = get_results_preprocessing(circ=circ)\n",
    "ionq_qcl_lists = fromat_results_preprocessing(ionq_qcl_result)\n",
    "ionq_qcl_lists"
   ]
  },
  {
   "cell_type": "code",
   "execution_count": 15,
   "metadata": {},
   "outputs": [
    {
     "name": "stdout",
     "output_type": "stream",
     "text": [
      "302\n"
     ]
    },
    {
     "data": {
      "text/plain": [
       "([2.8174897026274968, -1.8783264684183314, -0.9391632342091657],\n",
       " [0.2455, 0.32425, 0.16475])"
      ]
     },
     "execution_count": 15,
     "metadata": {},
     "output_type": "execute_result"
    }
   ],
   "source": [
    "ionq_qpe = QPE_preprocessing(clock, max_eigenvalue, get_ionq_results_preprocessing)\n",
    "ionq_qpe_lists = ionq_qpe.estimate(problem)\n",
    "ionq_qpe_lists"
   ]
  },
  {
   "cell_type": "code",
   "execution_count": null,
   "metadata": {},
   "outputs": [],
   "source": []
  },
  {
   "cell_type": "code",
   "execution_count": null,
   "metadata": {},
   "outputs": [],
   "source": []
  }
 ],
 "metadata": {
  "kernelspec": {
   "display_name": "Python 3",
   "language": "python",
   "name": "python3"
  },
  "language_info": {
   "codemirror_mode": {
    "name": "ipython",
    "version": 3
   },
   "file_extension": ".py",
   "mimetype": "text/x-python",
   "name": "python",
   "nbconvert_exporter": "python",
   "pygments_lexer": "ipython3",
   "version": "3.9.18"
  }
 },
 "nbformat": 4,
 "nbformat_minor": 2
}
