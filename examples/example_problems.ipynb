{
 "cells": [
  {
   "cell_type": "code",
   "execution_count": 1,
   "metadata": {},
   "outputs": [],
   "source": [
    "import sys\n",
    "sys.path.append('C:/Users/19899/Documents/HHL/HybridInversion/Enhanced-Hybrid-HHL')"
   ]
  },
  {
   "cell_type": "code",
   "execution_count": 2,
   "metadata": {},
   "outputs": [],
   "source": [
    "from enhanced_hybrid_hhl import (HHL, \n",
    "                                 RandomQLSP, \n",
    "                                 HybridInversion,\n",
    "                                 CannonicalInversion,\n",
    "                                 Lee_preprocessing,\n",
    "                                 QuantumLinearSystemProblem)\n",
    "import numpy as np\n",
    "from qiskit.quantum_info import random_hermitian\n"
   ]
  },
  {
   "cell_type": "code",
   "execution_count": 3,
   "metadata": {},
   "outputs": [],
   "source": [
    "def hermitian_matrix(eigenvalues):\n",
    "    # Generate a random unitary matrix\n",
    "    unitary_matrix = np.linalg.qr(np.random.randn(len(eigenvalues), len(eigenvalues)))[0]\n",
    "\n",
    "    # Construct the Hermitian matrix using the spectral decomposition\n",
    "    hermitian = np.dot(np.dot(unitary_matrix, np.diag(eigenvalues)), np.conj(unitary_matrix.T))\n",
    "    \n",
    "    return hermitian"
   ]
  },
  {
   "cell_type": "code",
   "execution_count": 4,
   "metadata": {},
   "outputs": [],
   "source": [
    "def MorganExampleQLSP(eigenvalues: list):\n",
    "    test_eigenvalues = [-1, -5/7, -2/7, 1/4, 1/3, 11/16, 3/4, 1]\n",
    "    test_A_matrix = hermitian_matrix(eigenvalues=test_eigenvalues)\n",
    "    eigh = np.linalg.eigh(test_A_matrix)\n",
    "    eigenvalue_indexes = [np.where(np.isclose(eigh[0], ev)) for ev in eigenvalues]\n",
    "\n",
    "    relevant_eigenvectors = [eigh[1][index] for index in eigenvalue_indexes]\n",
    "    b_vector_example = np.zeros(relevant_eigenvectors[0].shape)\n",
    "    for vector in relevant_eigenvectors:\n",
    "        b_vector_example += vector\n",
    "    b_vector_example /= np.linalg.norm(b_vector_example)\n",
    "\n",
    "    return QuantumLinearSystemProblem(test_A_matrix, b_vector_example)"
   ]
  },
  {
   "cell_type": "code",
   "execution_count": 5,
   "metadata": {},
   "outputs": [],
   "source": [
    "problem = MorganExampleQLSP([-1, 1/3])"
   ]
  },
  {
   "cell_type": "code",
   "execution_count": 7,
   "metadata": {},
   "outputs": [
    {
     "ename": "QiskitError",
     "evalue": "\"Left and right compose dimensions don't match ((2,) != (2, 2, 2))\"",
     "output_type": "error",
     "traceback": [
      "\u001b[1;31m---------------------------------------------------------------------------\u001b[0m",
      "\u001b[1;31mQiskitError\u001b[0m                               Traceback (most recent call last)",
      "Cell \u001b[1;32mIn[7], line 5\u001b[0m\n\u001b[0;32m      1\u001b[0m Cannonical_HHL \u001b[38;5;241m=\u001b[39m HHL(get_result_function\u001b[38;5;241m=\u001b[39m\u001b[38;5;124m'\u001b[39m\u001b[38;5;124mget_fidelity_result\u001b[39m\u001b[38;5;124m'\u001b[39m,\n\u001b[0;32m      2\u001b[0m                      eigenvalue_inversion\u001b[38;5;241m=\u001b[39mCannonicalInversion\n\u001b[0;32m      3\u001b[0m                      )\n\u001b[1;32m----> 5\u001b[0m fidelity \u001b[38;5;241m=\u001b[39m \u001b[43mCannonical_HHL\u001b[49m\u001b[38;5;241;43m.\u001b[39;49m\u001b[43mestimate\u001b[49m\u001b[43m(\u001b[49m\u001b[43mproblem\u001b[49m\u001b[38;5;241;43m=\u001b[39;49m\u001b[43mproblem\u001b[49m\u001b[43m,\u001b[49m\u001b[43m \u001b[49m\u001b[43mmax_eigenvalue\u001b[49m\u001b[38;5;241;43m=\u001b[39;49m\u001b[38;5;241;43m1\u001b[39;49m\u001b[43m)\u001b[49m\n",
      "File \u001b[1;32mC:\\Users/19899/Documents/HHL/HybridInversion/Enhanced-Hybrid-HHL\\enhanced_hybrid_hhl\\HHL.py:280\u001b[0m, in \u001b[0;36mHHL.estimate\u001b[1;34m(self, problem, num_clock_qubits, max_eigenvalue, quantum_conditional_logic)\u001b[0m\n\u001b[0;32m    273\u001b[0m circuit \u001b[38;5;241m=\u001b[39m \u001b[38;5;28mself\u001b[39m\u001b[38;5;241m.\u001b[39mconstruct_circuit(num_clock_qubits, \n\u001b[0;32m    274\u001b[0m                                  inversion_circuit, \n\u001b[0;32m    275\u001b[0m                                  state_preparation, \n\u001b[0;32m    276\u001b[0m                                  hamiltonian_simulation, \n\u001b[0;32m    277\u001b[0m                                  quantum_conditional_logic,\n\u001b[0;32m    278\u001b[0m                                  )\n\u001b[0;32m    279\u001b[0m \u001b[38;5;66;03m# get result\u001b[39;00m\n\u001b[1;32m--> 280\u001b[0m result \u001b[38;5;241m=\u001b[39m \u001b[38;5;28;43mself\u001b[39;49m\u001b[38;5;241;43m.\u001b[39;49m\u001b[43mget_result\u001b[49m\u001b[43m(\u001b[49m\u001b[43mcircuit\u001b[49m\u001b[43m,\u001b[49m\u001b[43m \u001b[49m\u001b[43mproblem\u001b[49m\u001b[43m)\u001b[49m\n\u001b[0;32m    282\u001b[0m \u001b[38;5;66;03m# Add preprocessing data to result\u001b[39;00m\n\u001b[0;32m    283\u001b[0m result\u001b[38;5;241m.\u001b[39meigenvalue_list \u001b[38;5;241m=\u001b[39m eigenvalue_list\n",
      "File \u001b[1;32mC:\\Users/19899/Documents/HHL/HybridInversion/Enhanced-Hybrid-HHL\\enhanced_hybrid_hhl\\get_result.py:119\u001b[0m, in \u001b[0;36mget_fidelity_result\u001b[1;34m(hhl_circuit, problem)\u001b[0m\n\u001b[0;32m    116\u001b[0m partial_simulated_density_matrix \u001b[38;5;241m=\u001b[39m partial_trace(simulated_statevector, trace_qubits)\n\u001b[0;32m    118\u001b[0m \u001b[38;5;66;03m# square root of the expectation value is the fidelity\u001b[39;00m\n\u001b[1;32m--> 119\u001b[0m result_processed \u001b[38;5;241m=\u001b[39m np\u001b[38;5;241m.\u001b[39msqrt(\u001b[43mpartial_simulated_density_matrix\u001b[49m\u001b[38;5;241;43m.\u001b[39;49m\u001b[43mexpectation_value\u001b[49m\u001b[43m(\u001b[49m\u001b[43mideal_x_operator\u001b[49m\u001b[43m)\u001b[49m)\n\u001b[0;32m    121\u001b[0m result \u001b[38;5;241m=\u001b[39m HHL_Result()\n\u001b[0;32m    122\u001b[0m result\u001b[38;5;241m.\u001b[39mcircuit_results \u001b[38;5;241m=\u001b[39m circuit_results\n",
      "File \u001b[1;32mc:\\Users\\19899\\anaconda3\\envs\\HHL\\lib\\site-packages\\qiskit\\quantum_info\\states\\densitymatrix.py:423\u001b[0m, in \u001b[0;36mDensityMatrix.expectation_value\u001b[1;34m(self, oper, qargs)\u001b[0m\n\u001b[0;32m    421\u001b[0m \u001b[38;5;28;01mif\u001b[39;00m \u001b[38;5;129;01mnot\u001b[39;00m \u001b[38;5;28misinstance\u001b[39m(oper, Operator):\n\u001b[0;32m    422\u001b[0m     oper \u001b[38;5;241m=\u001b[39m Operator(oper)\n\u001b[1;32m--> 423\u001b[0m \u001b[38;5;28;01mreturn\u001b[39;00m np\u001b[38;5;241m.\u001b[39mtrace(\u001b[43mOperator\u001b[49m\u001b[43m(\u001b[49m\u001b[38;5;28;43mself\u001b[39;49m\u001b[43m)\u001b[49m\u001b[38;5;241;43m.\u001b[39;49m\u001b[43mdot\u001b[49m\u001b[43m(\u001b[49m\u001b[43moper\u001b[49m\u001b[43m,\u001b[49m\u001b[43m \u001b[49m\u001b[43mqargs\u001b[49m\u001b[38;5;241;43m=\u001b[39;49m\u001b[43mqargs\u001b[49m\u001b[43m)\u001b[49m\u001b[38;5;241m.\u001b[39mdata)\n",
      "File \u001b[1;32mc:\\Users\\19899\\anaconda3\\envs\\HHL\\lib\\site-packages\\qiskit\\quantum_info\\operators\\mixins\\group.py:149\u001b[0m, in \u001b[0;36mGroupMixin.dot\u001b[1;34m(self, other, qargs)\u001b[0m\n\u001b[0;32m    133\u001b[0m \u001b[38;5;28;01mdef\u001b[39;00m \u001b[38;5;21mdot\u001b[39m(\u001b[38;5;28mself\u001b[39m, other, qargs\u001b[38;5;241m=\u001b[39m\u001b[38;5;28;01mNone\u001b[39;00m) \u001b[38;5;241m-\u001b[39m\u001b[38;5;241m>\u001b[39m Self:\n\u001b[0;32m    134\u001b[0m \u001b[38;5;250m    \u001b[39m\u001b[38;5;124;03m\"\"\"Return the right multiplied operator self * other.\u001b[39;00m\n\u001b[0;32m    135\u001b[0m \n\u001b[0;32m    136\u001b[0m \u001b[38;5;124;03m    Args:\u001b[39;00m\n\u001b[1;32m   (...)\u001b[0m\n\u001b[0;32m    147\u001b[0m \u001b[38;5;124;03m        Hence ``a.dot(b)`` is equivalent to ``a @ b``.\u001b[39;00m\n\u001b[0;32m    148\u001b[0m \u001b[38;5;124;03m    \"\"\"\u001b[39;00m\n\u001b[1;32m--> 149\u001b[0m     \u001b[38;5;28;01mreturn\u001b[39;00m \u001b[38;5;28;43mself\u001b[39;49m\u001b[38;5;241;43m.\u001b[39;49m\u001b[43mcompose\u001b[49m\u001b[43m(\u001b[49m\u001b[43mother\u001b[49m\u001b[43m,\u001b[49m\u001b[43m \u001b[49m\u001b[43mqargs\u001b[49m\u001b[38;5;241;43m=\u001b[39;49m\u001b[43mqargs\u001b[49m\u001b[43m,\u001b[49m\u001b[43m \u001b[49m\u001b[43mfront\u001b[49m\u001b[38;5;241;43m=\u001b[39;49m\u001b[38;5;28;43;01mTrue\u001b[39;49;00m\u001b[43m)\u001b[49m\n",
      "File \u001b[1;32mc:\\Users\\19899\\anaconda3\\envs\\HHL\\lib\\site-packages\\qiskit\\quantum_info\\operators\\operator.py:469\u001b[0m, in \u001b[0;36mOperator.compose\u001b[1;34m(self, other, qargs, front)\u001b[0m\n\u001b[0;32m    465\u001b[0m     other \u001b[38;5;241m=\u001b[39m Operator(other)\n\u001b[0;32m    467\u001b[0m \u001b[38;5;66;03m# Validate dimensions are compatible and return the composed\u001b[39;00m\n\u001b[0;32m    468\u001b[0m \u001b[38;5;66;03m# operator dimensions\u001b[39;00m\n\u001b[1;32m--> 469\u001b[0m new_shape \u001b[38;5;241m=\u001b[39m \u001b[38;5;28;43mself\u001b[39;49m\u001b[38;5;241;43m.\u001b[39;49m\u001b[43m_op_shape\u001b[49m\u001b[38;5;241;43m.\u001b[39;49m\u001b[43mcompose\u001b[49m\u001b[43m(\u001b[49m\u001b[43mother\u001b[49m\u001b[38;5;241;43m.\u001b[39;49m\u001b[43m_op_shape\u001b[49m\u001b[43m,\u001b[49m\u001b[43m \u001b[49m\u001b[43mqargs\u001b[49m\u001b[43m,\u001b[49m\u001b[43m \u001b[49m\u001b[43mfront\u001b[49m\u001b[43m)\u001b[49m\n\u001b[0;32m    470\u001b[0m input_dims \u001b[38;5;241m=\u001b[39m new_shape\u001b[38;5;241m.\u001b[39mdims_r()\n\u001b[0;32m    471\u001b[0m output_dims \u001b[38;5;241m=\u001b[39m new_shape\u001b[38;5;241m.\u001b[39mdims_l()\n",
      "File \u001b[1;32mc:\\Users\\19899\\anaconda3\\envs\\HHL\\lib\\site-packages\\qiskit\\quantum_info\\operators\\op_shape.py:431\u001b[0m, in \u001b[0;36mOpShape.compose\u001b[1;34m(self, other, qargs, front)\u001b[0m\n\u001b[0;32m    429\u001b[0m \u001b[38;5;28;01mif\u001b[39;00m front:\n\u001b[0;32m    430\u001b[0m     \u001b[38;5;28;01mif\u001b[39;00m \u001b[38;5;28mself\u001b[39m\u001b[38;5;241m.\u001b[39m_num_qargs_r \u001b[38;5;241m!=\u001b[39m other\u001b[38;5;241m.\u001b[39m_num_qargs_l \u001b[38;5;129;01mor\u001b[39;00m \u001b[38;5;28mself\u001b[39m\u001b[38;5;241m.\u001b[39m_dims_r \u001b[38;5;241m!=\u001b[39m other\u001b[38;5;241m.\u001b[39m_dims_l:\n\u001b[1;32m--> 431\u001b[0m         \u001b[38;5;28;01mraise\u001b[39;00m QiskitError(\n\u001b[0;32m    432\u001b[0m             \u001b[38;5;124m\"\u001b[39m\u001b[38;5;124mLeft and right compose dimensions don\u001b[39m\u001b[38;5;124m'\u001b[39m\u001b[38;5;124mt match \u001b[39m\u001b[38;5;124m\"\u001b[39m\n\u001b[0;32m    433\u001b[0m             \u001b[38;5;124m\"\u001b[39m\u001b[38;5;124m(\u001b[39m\u001b[38;5;132;01m{}\u001b[39;00m\u001b[38;5;124m != \u001b[39m\u001b[38;5;132;01m{}\u001b[39;00m\u001b[38;5;124m)\u001b[39m\u001b[38;5;124m\"\u001b[39m\u001b[38;5;241m.\u001b[39mformat(\u001b[38;5;28mself\u001b[39m\u001b[38;5;241m.\u001b[39mdims_r(), other\u001b[38;5;241m.\u001b[39mdims_l())\n\u001b[0;32m    434\u001b[0m         )\n\u001b[0;32m    435\u001b[0m     ret\u001b[38;5;241m.\u001b[39m_dims_l \u001b[38;5;241m=\u001b[39m \u001b[38;5;28mself\u001b[39m\u001b[38;5;241m.\u001b[39m_dims_l\n\u001b[0;32m    436\u001b[0m     ret\u001b[38;5;241m.\u001b[39m_dims_r \u001b[38;5;241m=\u001b[39m other\u001b[38;5;241m.\u001b[39m_dims_r\n",
      "\u001b[1;31mQiskitError\u001b[0m: \"Left and right compose dimensions don't match ((2,) != (2, 2, 2))\""
     ]
    }
   ],
   "source": [
    "Cannonical_HHL = HHL(get_result_function='get_fidelity_result',\n",
    "                     eigenvalue_inversion=CannonicalInversion\n",
    "                     )\n",
    "\n",
    "fidelity = Cannonical_HHL.estimate(problem=problem, max_eigenvalue=1)"
   ]
  },
  {
   "cell_type": "code",
   "execution_count": null,
   "metadata": {},
   "outputs": [],
   "source": []
  },
  {
   "cell_type": "code",
   "execution_count": 23,
   "metadata": {},
   "outputs": [],
   "source": [
    "A_matrix = np.array([[ 0.55674858+0.j        ,  0.06819371-0.06691135j,\n",
    "         0.05383387+0.18652181j, -0.05218435-0.01308767j,\n",
    "         0.05974524-0.01645094j, -0.01323612+0.08902002j,\n",
    "         0.11961919-0.02492862j,  0.29628951+0.11168439j],\n",
    "       [ 0.06819371-0.06691135j,  0.02933954-0.14213114j,\n",
    "        -0.11892782+0.10656923j,  0.25421605-0.52912957j,\n",
    "        -0.12523281-0.07744475j,  0.09453882-0.09668136j,\n",
    "         0.04049573-0.09947075j,  0.01778374+0.11535098j],\n",
    "       [ 0.05383387+0.18652181j, -0.11892782+0.10656923j,\n",
    "        -0.0869938 +0.31039207j,  0.01211284-0.02683273j,\n",
    "         0.37427086-0.10987797j,  0.31697959+0.1710917j ,\n",
    "        -0.01064268+0.09423575j,  0.28954989-0.06863724j],\n",
    "       [-0.05218435-0.01308767j,  0.25421605-0.52912957j,\n",
    "         0.01211284-0.02683273j, -0.02559589-0.07233876j,\n",
    "         0.12092182+0.16214584j, -0.1326023 -0.0544885j ,\n",
    "        -0.26747262-0.19771477j,  0.06470217-0.14746982j],\n",
    "       [ 0.05974524-0.01645094j, -0.12523281-0.07744475j,\n",
    "         0.37427086-0.10987797j,  0.12092182+0.16214584j,\n",
    "        -0.41735398-0.22399881j, -0.02303912+0.29302205j,\n",
    "        -0.0451708 -0.06498938j,  0.10157876+0.03113853j],\n",
    "       [-0.01323612+0.08902002j,  0.09453882-0.09668136j,\n",
    "         0.31697959+0.1710917j , -0.1326023 -0.0544885j ,\n",
    "        -0.02303912+0.29302205j, -0.17078293+0.09496614j,\n",
    "        -0.01146615+0.17821135j,  0.22071926-0.18735024j],\n",
    "       [ 0.11961919-0.02492862j,  0.04049573-0.09947075j,\n",
    "        -0.01064268+0.09423575j, -0.26747262-0.19771477j,\n",
    "        -0.0451708 -0.06498938j, -0.01146615+0.17821135j,\n",
    "         0.00751777+0.25036472j,  0.15202422+0.17789562j],\n",
    "       [ 0.29628951+0.11168439j,  0.01778374+0.11535098j,\n",
    "         0.28954989-0.06863724j,  0.06470217-0.14746982j,\n",
    "         0.10157876+0.03113853j,  0.22071926-0.18735024j,\n",
    "         0.15202422+0.17789562j, -0.23302541+0.22482115j]])"
   ]
  },
  {
   "cell_type": "code",
   "execution_count": 30,
   "metadata": {},
   "outputs": [],
   "source": [
    "def hermitian_matrix(eigenvalues):\n",
    "    n = len(eigenvalues)\n",
    "    # Generate a random matrix with the desired eigenvalues on the diagonal\n",
    "    diagonal = np.diag(eigenvalues)\n",
    "    # Create a random complex matrix\n",
    "    random_matrix = np.random.randn(n, n) + 1j * np.random.randn(n, n)\n",
    "    # Construct the Hermitian matrix by making it equal to its conjugate transpose\n",
    "    hermitian = (random_matrix + random_matrix.conj().T) / 2\n",
    "    # Adjust the eigenvalues to match the specified eigenvalues\n",
    "    hermitian += diagonal - np.diag(np.diag(hermitian))\n",
    "    return hermitian"
   ]
  },
  {
   "cell_type": "code",
   "execution_count": 31,
   "metadata": {},
   "outputs": [],
   "source": [
    "A_test = hermitian_matrix(test_eigenvalues)"
   ]
  },
  {
   "cell_type": "code",
   "execution_count": 33,
   "metadata": {},
   "outputs": [
    {
     "data": {
      "text/plain": [
       "[-1,\n",
       " -0.7142857142857143,\n",
       " -0.2857142857142857,\n",
       " 0.25,\n",
       " 0.3333333333333333,\n",
       " 0.6875,\n",
       " 0.75,\n",
       " 1]"
      ]
     },
     "execution_count": 33,
     "metadata": {},
     "output_type": "execute_result"
    }
   ],
   "source": [
    "test_eigenvalues"
   ]
  },
  {
   "cell_type": "code",
   "execution_count": 35,
   "metadata": {},
   "outputs": [],
   "source": [
    "def hermitian_matrix(eigenvalues):\n",
    "    # Generate a random unitary matrix\n",
    "    unitary_matrix = np.linalg.qr(np.random.randn(len(eigenvalues), len(eigenvalues)))[0]\n",
    "\n",
    "    # Construct the Hermitian matrix using the spectral decomposition\n",
    "    hermitian = np.dot(np.dot(unitary_matrix, np.diag(eigenvalues)), np.conj(unitary_matrix.T))\n",
    "    \n",
    "    return hermitian"
   ]
  },
  {
   "cell_type": "code",
   "execution_count": 38,
   "metadata": {},
   "outputs": [],
   "source": [
    "test = np.linalg.eigh(hermitian_matrix(test_eigenvalues))"
   ]
  },
  {
   "cell_type": "code",
   "execution_count": 39,
   "metadata": {},
   "outputs": [
    {
     "data": {
      "text/plain": [
       "EighResult(eigenvalues=array([-1.        , -0.71428571, -0.28571429,  0.25      ,  0.33333333,\n",
       "        0.6875    ,  0.75      ,  1.        ]), eigenvectors=array([[ 0.1542432 ,  0.61695848,  0.09972564,  0.06331875, -0.42018997,\n",
       "        -0.40726494,  0.23709018, -0.42776244],\n",
       "       [-0.02776908,  0.08630745,  0.00536219, -0.75850862, -0.30335884,\n",
       "        -0.26481395, -0.11147472,  0.49176844],\n",
       "       [-0.21993988,  0.5023598 ,  0.30034853,  0.11976818,  0.11234004,\n",
       "         0.41270737,  0.43562517,  0.47115866],\n",
       "       [-0.04724191,  0.45475305, -0.57893945, -0.34039583,  0.5130046 ,\n",
       "         0.14047137, -0.07609447, -0.22634348],\n",
       "       [-0.20043426, -0.22252412,  0.5012491 , -0.40666891,  0.42555287,\n",
       "        -0.19236432,  0.38273517, -0.35929569],\n",
       "       [-0.36056985, -0.27692706, -0.5528368 ,  0.06198549, -0.20314689,\n",
       "        -0.16362445,  0.6418346 ,  0.06194178],\n",
       "       [-0.11501612, -0.09192296,  0.02666949, -0.32074363, -0.47748742,\n",
       "         0.69672547,  0.01489531, -0.40136172],\n",
       "       [ 0.86105711, -0.13450704, -0.08399682, -0.13543781,  0.07253735,\n",
       "         0.15730823,  0.4208827 ,  0.08910581]]))"
      ]
     },
     "execution_count": 39,
     "metadata": {},
     "output_type": "execute_result"
    }
   ],
   "source": [
    "test"
   ]
  },
  {
   "cell_type": "code",
   "execution_count": 8,
   "metadata": {},
   "outputs": [],
   "source": [
    "def MorganExampleQLSP(eigenvalues: list):\n",
    "    eigh = np.linalg.eigh(A_test)\n",
    "    eigenvalue_indexes = [np.where(eigh[0] == ev) for ev in eigenvalues]\n",
    "\n",
    "    relevant_eigenvectors = [eigh(1)[index] for index in eigenvalue_indexes]\n",
    "    b_vector_example = np.zeros(relevant_eigenvectors.shape())\n",
    "    for vector in relevant_eigenvectors:\n",
    "        b_vector_example += vector\n",
    "    b_vector_example /= np.linalg.norm(b_vector_example)\n",
    "\n",
    "    return QuantumLinearSystemProblem(A_test, b_vector_example)"
   ]
  },
  {
   "cell_type": "code",
   "execution_count": 9,
   "metadata": {},
   "outputs": [
    {
     "ename": "NameError",
     "evalue": "name 'A_test' is not defined",
     "output_type": "error",
     "traceback": [
      "\u001b[1;31m---------------------------------------------------------------------------\u001b[0m",
      "\u001b[1;31mNameError\u001b[0m                                 Traceback (most recent call last)",
      "Cell \u001b[1;32mIn[9], line 1\u001b[0m\n\u001b[1;32m----> 1\u001b[0m \u001b[43mMorganExampleQLSP\u001b[49m\u001b[43m(\u001b[49m\u001b[43m[\u001b[49m\u001b[38;5;241;43m-\u001b[39;49m\u001b[38;5;241;43m1\u001b[39;49m\u001b[43m,\u001b[49m\u001b[38;5;241;43m0.25\u001b[39;49m\u001b[43m]\u001b[49m\u001b[43m)\u001b[49m\n",
      "Cell \u001b[1;32mIn[8], line 2\u001b[0m, in \u001b[0;36mMorganExampleQLSP\u001b[1;34m(eigenvalues)\u001b[0m\n\u001b[0;32m      1\u001b[0m \u001b[38;5;28;01mdef\u001b[39;00m \u001b[38;5;21mMorganExampleQLSP\u001b[39m(eigenvalues: \u001b[38;5;28mlist\u001b[39m):\n\u001b[1;32m----> 2\u001b[0m     eigh \u001b[38;5;241m=\u001b[39m np\u001b[38;5;241m.\u001b[39mlinalg\u001b[38;5;241m.\u001b[39meigh(\u001b[43mA_test\u001b[49m)\n\u001b[0;32m      3\u001b[0m     eigenvalue_indexes \u001b[38;5;241m=\u001b[39m [np\u001b[38;5;241m.\u001b[39mwhere(eigh[\u001b[38;5;241m0\u001b[39m] \u001b[38;5;241m==\u001b[39m ev) \u001b[38;5;28;01mfor\u001b[39;00m ev \u001b[38;5;129;01min\u001b[39;00m eigenvalues]\n\u001b[0;32m      5\u001b[0m     relevant_eigenvectors \u001b[38;5;241m=\u001b[39m [eigh(\u001b[38;5;241m1\u001b[39m)[index] \u001b[38;5;28;01mfor\u001b[39;00m index \u001b[38;5;129;01min\u001b[39;00m eigenvalue_indexes]\n",
      "\u001b[1;31mNameError\u001b[0m: name 'A_test' is not defined"
     ]
    }
   ],
   "source": [
    "MorganExampleQLSP([-1,0.25])"
   ]
  },
  {
   "cell_type": "code",
   "execution_count": null,
   "metadata": {},
   "outputs": [],
   "source": []
  }
 ],
 "metadata": {
  "kernelspec": {
   "display_name": "Python 3",
   "language": "python",
   "name": "python3"
  },
  "language_info": {
   "codemirror_mode": {
    "name": "ipython",
    "version": 3
   },
   "file_extension": ".py",
   "mimetype": "text/x-python",
   "name": "python",
   "nbconvert_exporter": "python",
   "pygments_lexer": "ipython3",
   "version": "3.9.18"
  }
 },
 "nbformat": 4,
 "nbformat_minor": 2
}
