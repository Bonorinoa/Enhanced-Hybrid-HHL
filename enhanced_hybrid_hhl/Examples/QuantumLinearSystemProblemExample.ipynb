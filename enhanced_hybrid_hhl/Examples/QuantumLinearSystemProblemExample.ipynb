{
 "cells": [
  {
   "cell_type": "code",
   "execution_count": 1,
   "metadata": {},
   "outputs": [],
   "source": [
    "import sys\n",
    "from pathlib import Path\n",
    "\n",
    "# Get the parent directory of the notebook\n",
    "current_notebook_directory = Path().resolve()\n",
    "parent_directory = current_notebook_directory.parent\n",
    "\n",
    "# Add the parent directory to sys.path\n",
    "sys.path.append(str(parent_directory))"
   ]
  },
  {
   "cell_type": "code",
   "execution_count": 2,
   "metadata": {},
   "outputs": [],
   "source": [
    "from QuantumLinearSystemProblem import QuantumLinearSystemProblem\n",
    "from QuantumLinearSystemSolver import QuantumLinearSystemSolver\n",
    "from QuantumLinearSystemResult import HHL_Result\n",
    "from HHL import HHL\n",
    "import numpy as np"
   ]
  },
  {
   "cell_type": "code",
   "execution_count": 3,
   "metadata": {},
   "outputs": [],
   "source": [
    "A = [[0.5,-0.25],[-0.25,0.5]]\n",
    "b = [1,0]"
   ]
  },
  {
   "cell_type": "code",
   "execution_count": 4,
   "metadata": {},
   "outputs": [],
   "source": [
    "test = QuantumLinearSystemProblem(A, b)"
   ]
  },
  {
   "cell_type": "code",
   "execution_count": 5,
   "metadata": {},
   "outputs": [],
   "source": [
    "from QuantumLinearSystemResult import HHL_Result\n",
    "from QuantumLinearSystemSolver import QuantumLinearSystemSolver\n",
    "from qiskit.quantum_info import partial_trace\n",
    "\n",
    "from qiskit import Aer\n",
    "simulator = Aer.get_backend('aer_simulator')\n",
    "\n",
    "def get_result(hhl_circuit, problem) -> HHL_Result:\n",
    "\n",
    "    ideal_x_statevector = QuantumLinearSystemSolver(problem).ideal_x_statevector\n",
    "    b_qubits = list(range(-ideal_x_statevector.dims()[0], 0))\n",
    "\n",
    "    circ = transpile(hhl_circuit, simulator)\n",
    "    simulated_result = simulator.run(circ).result()\n",
    "\n",
    "    circuit_results = simulated_result.get_distribution()\n",
    "\n",
    "    simulated_statevector = simulated_result.get_statevector()\n",
    "    partial_simulated_statevector = partial_trace(simulated_statevector, b_qubits)\n",
    "    result = HHL_result()\n",
    "    return 1"
   ]
  },
  {
   "cell_type": "code",
   "execution_count": 6,
   "metadata": {},
   "outputs": [
    {
     "ename": "QiskitError",
     "evalue": "'StatePreparation parameter vector has 2 elements, therefore expects 1 qubits. However, 0 were provided.'",
     "output_type": "error",
     "traceback": [
      "\u001b[1;31m---------------------------------------------------------------------------\u001b[0m",
      "\u001b[1;31mQiskitError\u001b[0m                               Traceback (most recent call last)",
      "Cell \u001b[1;32mIn[6], line 2\u001b[0m\n\u001b[0;32m      1\u001b[0m test_HHL \u001b[38;5;241m=\u001b[39m HHL(get_result)\n\u001b[1;32m----> 2\u001b[0m \u001b[43mHHL\u001b[49m\u001b[38;5;241;43m.\u001b[39;49m\u001b[43mestimate\u001b[49m\u001b[43m(\u001b[49m\u001b[43mtest_HHL\u001b[49m\u001b[43m,\u001b[49m\u001b[43m \u001b[49m\u001b[43mtest\u001b[49m\u001b[43m,\u001b[49m\u001b[38;5;241;43m3\u001b[39;49m\u001b[43m,\u001b[49m\u001b[38;5;241;43m1\u001b[39;49m\u001b[43m)\u001b[49m\n",
      "File \u001b[1;32m~\\Documents\\HHL\\enhanced_hybrid_hhl\\enhanced_hybrid_hhl\\HHL.py:126\u001b[0m, in \u001b[0;36mHHL.estimate\u001b[1;34m(self, problem, num_clock_qubits, max_eigenvalue, quantum_conditional_logic)\u001b[0m\n\u001b[0;32m    123\u001b[0m     state_preparation \u001b[38;5;241m=\u001b[39m problem\u001b[38;5;241m.\u001b[39mstate_preparation\n\u001b[0;32m    125\u001b[0m \u001b[38;5;66;03m#print('scale=',self.scale)\u001b[39;00m\n\u001b[1;32m--> 126\u001b[0m circuit \u001b[38;5;241m=\u001b[39m \u001b[38;5;28;43mself\u001b[39;49m\u001b[38;5;241;43m.\u001b[39;49m\u001b[43mconstruct_circuit\u001b[49m\u001b[43m(\u001b[49m\u001b[43mnum_clock_qubits\u001b[49m\u001b[43m,\u001b[49m\u001b[43m \u001b[49m\n\u001b[0;32m    127\u001b[0m \u001b[43m                                 \u001b[49m\u001b[43minversion_circuit\u001b[49m\u001b[43m,\u001b[49m\u001b[43m \u001b[49m\n\u001b[0;32m    128\u001b[0m \u001b[43m                                 \u001b[49m\u001b[43mstate_preparation\u001b[49m\u001b[43m,\u001b[49m\u001b[43m \u001b[49m\n\u001b[0;32m    129\u001b[0m \u001b[43m                                 \u001b[49m\u001b[43mhamiltonian_simulation\u001b[49m\u001b[43m,\u001b[49m\u001b[43m \u001b[49m\n\u001b[0;32m    130\u001b[0m \u001b[43m                                 \u001b[49m\u001b[43mquantum_conditional_logic\u001b[49m\u001b[43m,\u001b[49m\n\u001b[0;32m    131\u001b[0m \u001b[43m                                 \u001b[49m\u001b[43m)\u001b[49m\n\u001b[0;32m    132\u001b[0m result \u001b[38;5;241m=\u001b[39m \u001b[38;5;28mself\u001b[39m\u001b[38;5;241m.\u001b[39mget_result(circuit)\n\u001b[0;32m    134\u001b[0m \u001b[38;5;28;01mreturn\u001b[39;00m result\n",
      "File \u001b[1;32m~\\Documents\\HHL\\enhanced_hybrid_hhl\\enhanced_hybrid_hhl\\HHL.py:76\u001b[0m, in \u001b[0;36mHHL.construct_circuit\u001b[1;34m(self, num_clock_qubits, eigenvalue_inversion, state_preparation, hamiltonian_simulation, quantum_conditional_logic)\u001b[0m\n\u001b[0;32m     74\u001b[0m circ\u001b[38;5;241m.\u001b[39madd_register(clock_reg)\n\u001b[0;32m     75\u001b[0m circ\u001b[38;5;241m.\u001b[39madd_register(b_reg)\n\u001b[1;32m---> 76\u001b[0m \u001b[43mcirc\u001b[49m\u001b[38;5;241;43m.\u001b[39;49m\u001b[43mappend\u001b[49m\u001b[43m(\u001b[49m\u001b[43mstate_preparation\u001b[49m\u001b[43m,\u001b[49m\u001b[43m \u001b[49m\u001b[43mb_reg\u001b[49m\u001b[43m)\u001b[49m\n\u001b[0;32m     77\u001b[0m circ\u001b[38;5;241m.\u001b[39mappend(qpe, clock_reg[:]\u001b[38;5;241m+\u001b[39mb_reg[:])\n\u001b[0;32m     78\u001b[0m circ\u001b[38;5;241m.\u001b[39mappend(eigenvalue_inversion, clock_reg[::\u001b[38;5;241m-\u001b[39m\u001b[38;5;241m1\u001b[39m]\u001b[38;5;241m+\u001b[39mflag[\u001b[38;5;241m0\u001b[39m])\n",
      "File \u001b[1;32mc:\\Users\\19899\\anaconda3\\envs\\HHL\\lib\\site-packages\\qiskit\\circuit\\quantumcircuit.py:1284\u001b[0m, in \u001b[0;36mQuantumCircuit.append\u001b[1;34m(self, instruction, qargs, cargs)\u001b[0m\n\u001b[0;32m   1282\u001b[0m instructions \u001b[38;5;241m=\u001b[39m InstructionSet(resource_requester\u001b[38;5;241m=\u001b[39mrequester)\n\u001b[0;32m   1283\u001b[0m \u001b[38;5;28;01mif\u001b[39;00m \u001b[38;5;28misinstance\u001b[39m(operation, Instruction):\n\u001b[1;32m-> 1284\u001b[0m     \u001b[38;5;28;01mfor\u001b[39;00m qarg, carg \u001b[38;5;129;01min\u001b[39;00m operation\u001b[38;5;241m.\u001b[39mbroadcast_arguments(expanded_qargs, expanded_cargs):\n\u001b[0;32m   1285\u001b[0m         \u001b[38;5;28mself\u001b[39m\u001b[38;5;241m.\u001b[39m_check_dups(qarg)\n\u001b[0;32m   1286\u001b[0m         instruction \u001b[38;5;241m=\u001b[39m CircuitInstruction(operation, qarg, carg)\n",
      "File \u001b[1;32mc:\\Users\\19899\\anaconda3\\envs\\HHL\\lib\\site-packages\\qiskit\\circuit\\library\\data_preparation\\state_preparation.py:226\u001b[0m, in \u001b[0;36mStatePreparation.broadcast_arguments\u001b[1;34m(self, qargs, cargs)\u001b[0m\n\u001b[0;32m    223\u001b[0m flat_qargs \u001b[38;5;241m=\u001b[39m [qarg \u001b[38;5;28;01mfor\u001b[39;00m sublist \u001b[38;5;129;01min\u001b[39;00m qargs \u001b[38;5;28;01mfor\u001b[39;00m qarg \u001b[38;5;129;01min\u001b[39;00m sublist]\n\u001b[0;32m    225\u001b[0m \u001b[38;5;28;01mif\u001b[39;00m \u001b[38;5;28mself\u001b[39m\u001b[38;5;241m.\u001b[39mnum_qubits \u001b[38;5;241m!=\u001b[39m \u001b[38;5;28mlen\u001b[39m(flat_qargs):\n\u001b[1;32m--> 226\u001b[0m     \u001b[38;5;28;01mraise\u001b[39;00m QiskitError(\n\u001b[0;32m    227\u001b[0m         \u001b[38;5;124m\"\u001b[39m\u001b[38;5;124mStatePreparation parameter vector has \u001b[39m\u001b[38;5;132;01m%d\u001b[39;00m\u001b[38;5;124m elements, therefore expects \u001b[39m\u001b[38;5;132;01m%s\u001b[39;00m\u001b[38;5;124m \u001b[39m\u001b[38;5;124m\"\u001b[39m\n\u001b[0;32m    228\u001b[0m         \u001b[38;5;124m\"\u001b[39m\u001b[38;5;124mqubits. However, \u001b[39m\u001b[38;5;132;01m%s\u001b[39;00m\u001b[38;5;124m were provided.\u001b[39m\u001b[38;5;124m\"\u001b[39m\n\u001b[0;32m    229\u001b[0m         \u001b[38;5;241m%\u001b[39m (\u001b[38;5;241m2\u001b[39m\u001b[38;5;241m*\u001b[39m\u001b[38;5;241m*\u001b[39m\u001b[38;5;28mself\u001b[39m\u001b[38;5;241m.\u001b[39mnum_qubits, \u001b[38;5;28mself\u001b[39m\u001b[38;5;241m.\u001b[39mnum_qubits, \u001b[38;5;28mlen\u001b[39m(flat_qargs))\n\u001b[0;32m    230\u001b[0m     )\n\u001b[0;32m    231\u001b[0m \u001b[38;5;28;01myield\u001b[39;00m flat_qargs, []\n",
      "\u001b[1;31mQiskitError\u001b[0m: 'StatePreparation parameter vector has 2 elements, therefore expects 1 qubits. However, 0 were provided.'"
     ]
    }
   ],
   "source": [
    "test_HHL = HHL(get_result)\n",
    "HHL.estimate(test_HHL, test,3,1)"
   ]
  },
  {
   "cell_type": "code",
   "execution_count": 8,
   "metadata": {},
   "outputs": [
    {
     "ename": "CircuitError",
     "evalue": "\"Circuit args must be Registers or integers. (['list', 'int'] '([QuantumRegister(1, 'q57'), QuantumRegister(3, 'q58'), QuantumRegister(0, 'q59')], 1)' was provided)\"",
     "output_type": "error",
     "traceback": [
      "\u001b[1;31m---------------------------------------------------------------------------\u001b[0m",
      "\u001b[1;31mCircuitError\u001b[0m                              Traceback (most recent call last)",
      "Cell \u001b[1;32mIn[8], line 2\u001b[0m\n\u001b[0;32m      1\u001b[0m test_HHL \u001b[38;5;241m=\u001b[39m HHL(get_result)\n\u001b[1;32m----> 2\u001b[0m \u001b[43mHHL\u001b[49m\u001b[38;5;241;43m.\u001b[39;49m\u001b[43mestimate\u001b[49m\u001b[43m(\u001b[49m\u001b[43mtest_HHL\u001b[49m\u001b[43m,\u001b[49m\u001b[43m \u001b[49m\u001b[43mtest\u001b[49m\u001b[43m,\u001b[49m\u001b[38;5;241;43m3\u001b[39;49m\u001b[43m,\u001b[49m\u001b[38;5;241;43m1\u001b[39;49m\u001b[43m)\u001b[49m\n",
      "File \u001b[1;32m~\\Documents\\HHL\\enhanced_hybrid_hhl\\enhanced_hybrid_hhl\\HHL.py:123\u001b[0m, in \u001b[0;36mHHL.estimate\u001b[1;34m(self, problem, num_clock_qubits, max_eigenvalue, quantum_conditional_logic)\u001b[0m\n\u001b[0;32m    120\u001b[0m     state_preparation \u001b[38;5;241m=\u001b[39m problem\u001b[38;5;241m.\u001b[39mstate_preparation\n\u001b[0;32m    122\u001b[0m \u001b[38;5;66;03m#print('scale=',self.scale)\u001b[39;00m\n\u001b[1;32m--> 123\u001b[0m circuit \u001b[38;5;241m=\u001b[39m \u001b[38;5;28;43mself\u001b[39;49m\u001b[38;5;241;43m.\u001b[39;49m\u001b[43mconstruct_circuit\u001b[49m\u001b[43m(\u001b[49m\u001b[43mnum_clock_qubits\u001b[49m\u001b[43m,\u001b[49m\u001b[43m \u001b[49m\n\u001b[0;32m    124\u001b[0m \u001b[43m                                 \u001b[49m\u001b[43minversion_circuit\u001b[49m\u001b[43m,\u001b[49m\u001b[43m \u001b[49m\n\u001b[0;32m    125\u001b[0m \u001b[43m                                 \u001b[49m\u001b[43mstate_preparation\u001b[49m\u001b[43m,\u001b[49m\u001b[43m \u001b[49m\n\u001b[0;32m    126\u001b[0m \u001b[43m                                 \u001b[49m\u001b[43mhamiltonian_simulation\u001b[49m\u001b[43m,\u001b[49m\u001b[43m \u001b[49m\n\u001b[0;32m    127\u001b[0m \u001b[43m                                 \u001b[49m\u001b[43mquantum_conditional_logic\u001b[49m\u001b[43m,\u001b[49m\n\u001b[0;32m    128\u001b[0m \u001b[43m                                 \u001b[49m\u001b[43m)\u001b[49m\n\u001b[0;32m    129\u001b[0m result \u001b[38;5;241m=\u001b[39m \u001b[38;5;28mself\u001b[39m\u001b[38;5;241m.\u001b[39mget_result(circuit)\n\u001b[0;32m    131\u001b[0m \u001b[38;5;28;01mreturn\u001b[39;00m result\n",
      "File \u001b[1;32m~\\Documents\\HHL\\enhanced_hybrid_hhl\\enhanced_hybrid_hhl\\HHL.py:72\u001b[0m, in \u001b[0;36mHHL.construct_circuit\u001b[1;34m(self, num_clock_qubits, eigenvalue_inversion, state_preparation, hamiltonian_simulation, quantum_conditional_logic)\u001b[0m\n\u001b[0;32m     69\u001b[0m clock_reg \u001b[38;5;241m=\u001b[39m QuantumRegister(num_clock_qubits)\n\u001b[0;32m     70\u001b[0m b_reg \u001b[38;5;241m=\u001b[39m QuantumRegister(qpe\u001b[38;5;241m.\u001b[39mnum_qubits \u001b[38;5;241m-\u001b[39m \u001b[38;5;241m1\u001b[39m \u001b[38;5;241m-\u001b[39m num_clock_qubits)\n\u001b[1;32m---> 72\u001b[0m circ \u001b[38;5;241m=\u001b[39m \u001b[43mQuantumCircuit\u001b[49m\u001b[43m(\u001b[49m\u001b[43m[\u001b[49m\u001b[43mflag\u001b[49m\u001b[43m,\u001b[49m\u001b[43mclock_reg\u001b[49m\u001b[43m,\u001b[49m\u001b[43mb_reg\u001b[49m\u001b[43m]\u001b[49m\u001b[43m,\u001b[49m\u001b[43m \u001b[49m\u001b[38;5;28;43mint\u001b[39;49m\u001b[43m(\u001b[49m\u001b[43mquantum_conditional_logic\u001b[49m\u001b[43m)\u001b[49m\u001b[43m,\u001b[49m\u001b[43m \u001b[49m\u001b[43mname\u001b[49m\u001b[38;5;241;43m=\u001b[39;49m\u001b[38;5;124;43m'\u001b[39;49m\u001b[38;5;124;43mhhl_circ\u001b[39;49m\u001b[38;5;124;43m'\u001b[39;49m\u001b[43m)\u001b[49m\n\u001b[0;32m     73\u001b[0m circ\u001b[38;5;241m.\u001b[39mappend(state_preparation, b_reg, label \u001b[38;5;241m=\u001b[39m \u001b[38;5;124m'\u001b[39m\u001b[38;5;124m|b>\u001b[39m\u001b[38;5;124m'\u001b[39m)\n\u001b[0;32m     74\u001b[0m circ\u001b[38;5;241m.\u001b[39mappend(qpe, clock_reg[:]\u001b[38;5;241m+\u001b[39mb_reg[:])\n",
      "File \u001b[1;32mc:\\Users\\19899\\anaconda3\\envs\\HHL\\lib\\site-packages\\qiskit\\circuit\\quantumcircuit.py:213\u001b[0m, in \u001b[0;36mQuantumCircuit.__init__\u001b[1;34m(self, name, global_phase, metadata, *regs)\u001b[0m\n\u001b[0;32m    210\u001b[0m         valid_reg_size \u001b[38;5;241m=\u001b[39m \u001b[38;5;28;01mFalse\u001b[39;00m\n\u001b[0;32m    212\u001b[0m     \u001b[38;5;28;01mif\u001b[39;00m \u001b[38;5;129;01mnot\u001b[39;00m valid_reg_size:\n\u001b[1;32m--> 213\u001b[0m         \u001b[38;5;28;01mraise\u001b[39;00m CircuitError(\n\u001b[0;32m    214\u001b[0m             \u001b[38;5;124m\"\u001b[39m\u001b[38;5;124mCircuit args must be Registers or integers. (\u001b[39m\u001b[38;5;132;01m%s\u001b[39;00m\u001b[38;5;124m \u001b[39m\u001b[38;5;124m'\u001b[39m\u001b[38;5;132;01m%s\u001b[39;00m\u001b[38;5;124m'\u001b[39m\u001b[38;5;124m was \u001b[39m\u001b[38;5;124m\"\u001b[39m\n\u001b[0;32m    215\u001b[0m             \u001b[38;5;124m\"\u001b[39m\u001b[38;5;124mprovided)\u001b[39m\u001b[38;5;124m\"\u001b[39m \u001b[38;5;241m%\u001b[39m ([\u001b[38;5;28mtype\u001b[39m(reg)\u001b[38;5;241m.\u001b[39m\u001b[38;5;18m__name__\u001b[39m \u001b[38;5;28;01mfor\u001b[39;00m reg \u001b[38;5;129;01min\u001b[39;00m regs], regs)\n\u001b[0;32m    216\u001b[0m         )\n\u001b[0;32m    218\u001b[0m     regs \u001b[38;5;241m=\u001b[39m \u001b[38;5;28mtuple\u001b[39m(\u001b[38;5;28mint\u001b[39m(reg) \u001b[38;5;28;01mfor\u001b[39;00m reg \u001b[38;5;129;01min\u001b[39;00m regs)  \u001b[38;5;66;03m# cast to int\u001b[39;00m\n\u001b[0;32m    219\u001b[0m \u001b[38;5;28mself\u001b[39m\u001b[38;5;241m.\u001b[39m_base_name \u001b[38;5;241m=\u001b[39m \u001b[38;5;28;01mNone\u001b[39;00m\n",
      "\u001b[1;31mCircuitError\u001b[0m: \"Circuit args must be Registers or integers. (['list', 'int'] '([QuantumRegister(1, 'q57'), QuantumRegister(3, 'q58'), QuantumRegister(0, 'q59')], 1)' was provided)\""
     ]
    }
   ],
   "source": []
  },
  {
   "cell_type": "code",
   "execution_count": 7,
   "metadata": {},
   "outputs": [],
   "source": [
    "from QuantumLinearSystemResult import HHL_Result\n",
    "from QuantumLinearSystemSolver import QuantumLinearSystemSolver\n",
    "from qiskit.quantum_info import partial_trace\n",
    "\n",
    "from qiskit import Aer\n",
    "simulator = Aer.get_backend('aer_simulator')\n",
    "\n",
    "def get_result(hhl_circuit, problem) -> HHL_Result:\n",
    "\n",
    "    ideal_x_statevector = QuantumLinearSystemSolver(problem).ideal_x_statevector\n",
    "    b_qubits = list(range(-ideal_x_statevector.dims()[0], 0))\n",
    "\n",
    "    circ = transpile(hhl_circuit, simulator)\n",
    "    simulated_result = simulator.run(circ).result()\n",
    "\n",
    "    circuit_results = simulated_result.get_distribution()\n",
    "\n",
    "    simulated_statevector = simulated_result.get_statevector()\n",
    "    partial_simulated_statevector = partial_trace(simulated_statevector, b_qubits)\n",
    "    result = HHL_result()\n",
    "\n",
    "    "
   ]
  },
  {
   "cell_type": "code",
   "execution_count": 16,
   "metadata": {},
   "outputs": [],
   "source": [
    "test.A_matrix = [[0.5, -0.25],[0.25,0.5]]"
   ]
  },
  {
   "cell_type": "code",
   "execution_count": 6,
   "metadata": {},
   "outputs": [],
   "source": [
    "result = QuantumLinearSystemSolver(test)"
   ]
  },
  {
   "cell_type": "code",
   "execution_count": 7,
   "metadata": {},
   "outputs": [
    {
     "name": "stdout",
     "output_type": "stream",
     "text": [
      "{   'circuit_results': [matrix([[0.8]]), matrix([[0.2]])],\n",
      "    'eigenbasis_projection_list': (0.75, 0.5000000000000001),\n",
      "    'eigenvalue_list': (0.25, 0.5000000000000001),\n",
      "    'ideal_x_statevector': Statevector([0.89442719+0.j, 0.4472136 +0.j],\n",
      "            dims=(2,)),\n",
      "    'post_processing': None,\n",
      "    'shots': None}\n"
     ]
    }
   ],
   "source": [
    "print(result)"
   ]
  },
  {
   "cell_type": "code",
   "execution_count": 36,
   "metadata": {},
   "outputs": [
    {
     "data": {
      "text/plain": [
       "True"
      ]
     },
     "execution_count": 36,
     "metadata": {},
     "output_type": "execute_result"
    }
   ],
   "source": [
    "A = random_hermitian(2).data\n",
    "A_matrix = np.asmatrix(A)\n",
    "\n",
    "np.allclose(A_matrix, np.conj(A_matrix).T)"
   ]
  },
  {
   "cell_type": "code",
   "execution_count": 37,
   "metadata": {},
   "outputs": [],
   "source": [
    "from qiskit.quantum_info import random_hermitian\n",
    "\n",
    "a = random_hermitian(3).data"
   ]
  },
  {
   "cell_type": "code",
   "execution_count": 38,
   "metadata": {},
   "outputs": [
    {
     "data": {
      "text/plain": [
       "array([[-1.11159804+0.j        , -0.28732079-0.42142166j,\n",
       "         0.25517152-0.1358301j ],\n",
       "       [-0.28732079+0.42142166j, -0.20427974+0.j        ,\n",
       "         0.07023417+0.26861566j],\n",
       "       [ 0.25517152+0.1358301j ,  0.07023417-0.26861566j,\n",
       "         2.20003348+0.j        ]])"
      ]
     },
     "execution_count": 38,
     "metadata": {},
     "output_type": "execute_result"
    }
   ],
   "source": [
    "np.asarray(a)"
   ]
  },
  {
   "cell_type": "code",
   "execution_count": null,
   "metadata": {},
   "outputs": [],
   "source": []
  }
 ],
 "metadata": {
  "kernelspec": {
   "display_name": "Python 3",
   "language": "python",
   "name": "python3"
  },
  "language_info": {
   "codemirror_mode": {
    "name": "ipython",
    "version": 3
   },
   "file_extension": ".py",
   "mimetype": "text/x-python",
   "name": "python",
   "nbconvert_exporter": "python",
   "pygments_lexer": "ipython3",
   "version": "3.9.18"
  }
 },
 "nbformat": 4,
 "nbformat_minor": 2
}
