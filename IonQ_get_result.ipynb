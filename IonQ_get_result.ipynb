{
 "cells": [
  {
   "cell_type": "code",
   "execution_count": 25,
   "metadata": {},
   "outputs": [],
   "source": [
    "from enhanced_hybrid_hhl import (RandomQLSP,\n",
    "                                QPE_preprocessing,\n",
    "                                QuantumLinearSystemSolver, \n",
    "                                ideal_preprocessing,\n",
    "                                ExampleQLSP,\n",
    "                                HHL,\n",
    "                                HybridInversion,\n",
    "                                HHL_Result)\n",
    "\n",
    "from qiskit import transpile, QuantumCircuit\n",
    "import numpy as np\n",
    "from qiskit.circuit.library import HamiltonianGate"
   ]
  },
  {
   "cell_type": "code",
   "execution_count": 80,
   "metadata": {},
   "outputs": [],
   "source": [
    "from qiskit_ionq.ionq_provider import IonQProvider\n",
    "from qiskit import QuantumCircuit, QuantumRegister, ClassicalRegister\n",
    "ionq_provider = IonQProvider(token='W8fkNnlIqaWDP83QCPTnP5HjoELVXMbP')\n",
    "ionq_simulator = ionq_provider.get_backend('ionq_simulator')\n",
    "\n",
    "def get_ionq_results_preprocessing(circ):\n",
    "    transp = transpile(circ, ionq_simulator)\n",
    "    result = ionq_simulator.run(transp).result()\n",
    "    return result\n",
    "\n",
    "def get_ionq_results_hhl():\n",
    "    def SwapTest(num_state_qubits):\n",
    "        num_qubits = 2*num_state_qubits+1\n",
    "        st_circ = QuantumCircuit(num_qubits)\n",
    "        st_circ.h(-1)\n",
    "        for i in range(num_state_qubits):\n",
    "            st_circ.cswap(-1,i,num_state_qubits+i)\n",
    "        st_circ.h(-1)\n",
    "        return st_circ\n",
    "\n",
    "    def st_post_processing(result = None, counts_01=None, counts_11=None):\n",
    "        if not result==None:\n",
    "            if '0 1' in result.keys():\n",
    "                counts_01 = result['0 1']\n",
    "            else:\n",
    "                counts_01 = 0\n",
    "                \n",
    "            if '1 1' in result.keys():\n",
    "                counts_11 = result['1 1']\n",
    "            else:\n",
    "                if counts_01 == 0:\n",
    "                    counts_11 = 1\n",
    "                else:\n",
    "                    counts_11 = 0\n",
    "        \n",
    "        prob_0 = counts_01/(counts_01+counts_11)\n",
    "        if prob_0 == 0:\n",
    "            return 0\n",
    "        return np.sqrt(2*prob_0 - 1)\n",
    "\n",
    "    def get_result(hhl_circ, problem) -> HHL_Result:\n",
    "        num_b_qubits = int(np.log2(len(problem.b_vector)))\n",
    "\n",
    "        st = SwapTest(num_b_qubits)\n",
    "        q_reg = QuantumRegister(st.num_qubits-num_b_qubits)\n",
    "        c_reg = ClassicalRegister(1)\n",
    "\n",
    "        hhl_circ.add_register(q_reg)\n",
    "        hhl_circ.add_register(c_reg)\n",
    "\n",
    "        statevector = QuantumLinearSystemSolver(problem=problem).ideal_x_statevector\n",
    "\n",
    "        hhl_circ.prepare_state(statevector, q_reg[:-1])\n",
    "        hhl_circ.append(st, list(range(-st.num_qubits,0)))\n",
    "        hhl_circ.measure(0,0)\n",
    "        hhl_circ.measure(-1,c_reg[0])\n",
    "\n",
    "        circuit = transpile(hhl_circ, ionq_simulator)\n",
    "        \n",
    "        circuit_result = ionq_simulator.run(circuit).result().get_counts()\n",
    "        result_processed = st_post_processing(result = circuit_result)\n",
    "\n",
    "        result = HHL_Result()\n",
    "        result.circuit_results = circuit_result\n",
    "        result.results_processed = result_processed\n",
    "        return result\n",
    "    return get_result"
   ]
  },
  {
   "cell_type": "code",
   "execution_count": 81,
   "metadata": {},
   "outputs": [],
   "source": [
    "problem = ExampleQLSP(0.33)\n",
    "maximum_eigenvalue = max(ideal_preprocessing(problem)[0], key=abs)\n",
    "clock = 3"
   ]
  },
  {
   "cell_type": "code",
   "execution_count": 82,
   "metadata": {},
   "outputs": [],
   "source": [
    "preprocessing = QPE_preprocessing(clock, \n",
    "                                  maximum_eigenvalue, \n",
    "                                  get_ionq_results_preprocessing).estimate\n",
    "\n",
    "inversion_circuit = HybridInversion\n",
    "\n",
    "get_result = get_ionq_results_hhl()\n",
    "\n",
    "ionq_hhl = HHL(get_result = get_result,\n",
    "               pre_processing=preprocessing,\n",
    "               eigenvalue_inversion=inversion_circuit)\n"
   ]
  },
  {
   "cell_type": "code",
   "execution_count": 83,
   "metadata": {},
   "outputs": [],
   "source": [
    "result = ionq_hhl.estimate(problem=problem,\n",
    "                  num_clock_qubits=clock,\n",
    "                  max_eigenvalue=maximum_eigenvalue,\n",
    "                  quantum_conditional_logic=False)"
   ]
  },
  {
   "cell_type": "code",
   "execution_count": 84,
   "metadata": {},
   "outputs": [
    {
     "name": "stdout",
     "output_type": "stream",
     "text": [
      "{   'circuit_results': {'0 0': 66, '0 1': 877, '1 0': 35, '1 1': 46},\n",
      "    'eigenbasis_projection_list': [0.16796875, 0.2158203125, 0.53125],\n",
      "    'eigenvalue_list': [   0.4466666666666666,\n",
      "                           -0.8933333333333332,\n",
      "                           -0.4466666666666666],\n",
      "    'ideal_x_statevector': None,\n",
      "    'post_processing': None,\n",
      "    'results_processed': 0.9488545869023296,\n",
      "    'rotation_angle_list': None,\n",
      "    'shots': None}\n"
     ]
    }
   ],
   "source": [
    "print(result)"
   ]
  },
  {
   "cell_type": "code",
   "execution_count": 60,
   "metadata": {},
   "outputs": [
    {
     "data": {
      "text/plain": [
       "{'0 0': 946, '1 0': 78}"
      ]
     },
     "execution_count": 60,
     "metadata": {},
     "output_type": "execute_result"
    }
   ],
   "source": [
    "test_result.get_counts()"
   ]
  },
  {
   "cell_type": "code",
   "execution_count": null,
   "metadata": {},
   "outputs": [],
   "source": []
  }
 ],
 "metadata": {
  "kernelspec": {
   "display_name": "Python 3",
   "language": "python",
   "name": "python3"
  },
  "language_info": {
   "codemirror_mode": {
    "name": "ipython",
    "version": 3
   },
   "file_extension": ".py",
   "mimetype": "text/x-python",
   "name": "python",
   "nbconvert_exporter": "python",
   "pygments_lexer": "ipython3",
   "version": "3.9.18"
  }
 },
 "nbformat": 4,
 "nbformat_minor": 2
}
