{
 "cells": [
  {
   "cell_type": "code",
   "execution_count": 1,
   "metadata": {},
   "outputs": [],
   "source": [
    "import numpy as np\n",
    "from enhanced_hybrid_hhl import (HHL, \n",
    "                                 Lee_preprocessing,  \n",
    "                                 HybridInversion, \n",
    "                                 QuantumLinearSystemProblem, \n",
    "                                 QuantumLinearSystemSolver,\n",
    "                                 EnhancedHybridInversion)"
   ]
  },
  {
   "cell_type": "code",
   "execution_count": 2,
   "metadata": {},
   "outputs": [],
   "source": [
    "from qiskit_aer import AerSimulator\n",
    "\n",
    "# define the backend to run the circuits on\n",
    "simulator = AerSimulator()"
   ]
  },
  {
   "cell_type": "code",
   "execution_count": 3,
   "metadata": {},
   "outputs": [],
   "source": [
    "# Define quantum linear system problem to be solved with HHL\n",
    "A_matrix = np.array([[ 0.5 , -0.25],\n",
    "        [-0.25,  0.5 ]])\n",
    "b_vector = np.array([[1.], [0.]])\n",
    "problem = QuantumLinearSystemProblem(A_matrix=A_matrix,\n",
    "                                     b_vector=b_vector)\n",
    "\n",
    "# Define Parameters\n",
    "k = 3 # clock qubits for hhl.\n",
    "l = k+2 # clock qubits for enhanced preprocessing.\n",
    "min_prob = 2**-k # hybrid preprocessing relevance threshold.\n",
    "relevance_threshold = 2**-l # enhanced hybrid preprocessing relevance threshold.\n",
    "maximum_eigenvalue = 1 # Over estimate of largest eigenvalue in the system.\n",
    "\n",
    "get_result_type = 'get_swap_test_result'\n",
    "ideal_x_statevector = QuantumLinearSystemSolver(problem=problem).ideal_x_statevector"
   ]
  },
  {
   "cell_type": "code",
   "execution_count": 4,
   "metadata": {},
   "outputs": [
    {
     "ename": "KeyError",
     "evalue": "'01'",
     "output_type": "error",
     "traceback": [
      "\u001b[1;31m---------------------------------------------------------------------------\u001b[0m",
      "\u001b[1;31mKeyError\u001b[0m                                  Traceback (most recent call last)",
      "Cell \u001b[1;32mIn[4], line 14\u001b[0m\n\u001b[0;32m      6\u001b[0m enhanced_eigenvalue_inversion \u001b[38;5;241m=\u001b[39m EnhancedHybridInversion\n\u001b[0;32m      8\u001b[0m enhanced_hybrid_hhl \u001b[38;5;241m=\u001b[39m HHL(get_result_function\u001b[38;5;241m=\u001b[39m get_result_type,\n\u001b[0;32m      9\u001b[0m           preprocessing\u001b[38;5;241m=\u001b[39m enhanced_preprocessing,\n\u001b[0;32m     10\u001b[0m           eigenvalue_inversion\u001b[38;5;241m=\u001b[39m enhanced_eigenvalue_inversion,\n\u001b[0;32m     11\u001b[0m           backend\u001b[38;5;241m=\u001b[39msimulator,\n\u001b[0;32m     12\u001b[0m           statevector\u001b[38;5;241m=\u001b[39mideal_x_statevector)\n\u001b[1;32m---> 14\u001b[0m enhanced_hybrid_hhl_result \u001b[38;5;241m=\u001b[39m \u001b[43menhanced_hybrid_hhl\u001b[49m\u001b[38;5;241;43m.\u001b[39;49m\u001b[43mestimate\u001b[49m\u001b[43m(\u001b[49m\u001b[43mproblem\u001b[49m\u001b[38;5;241;43m=\u001b[39;49m\u001b[43mproblem\u001b[49m\u001b[43m,\u001b[49m\n\u001b[0;32m     15\u001b[0m \u001b[43m                                                          \u001b[49m\u001b[43mnum_clock_qubits\u001b[49m\u001b[38;5;241;43m=\u001b[39;49m\u001b[43mk\u001b[49m\u001b[43m,\u001b[49m\n\u001b[0;32m     16\u001b[0m \u001b[43m                                                          \u001b[49m\u001b[43mmax_eigenvalue\u001b[49m\u001b[38;5;241;43m=\u001b[39;49m\u001b[38;5;241;43m1\u001b[39;49m\u001b[43m)\u001b[49m\n\u001b[0;32m     18\u001b[0m \u001b[38;5;28mprint\u001b[39m(enhanced_hybrid_hhl_result)\n",
      "File \u001b[1;32mc:\\Users\\19899\\Documents\\HHL\\HybridInversion\\Enhanced-Hybrid-HHL\\enhanced_hybrid_hhl\\HHL.py:298\u001b[0m, in \u001b[0;36mHHL.estimate\u001b[1;34m(self, problem, num_clock_qubits, max_eigenvalue, quantum_conditional_logic, **kwargs)\u001b[0m\n\u001b[0;32m    291\u001b[0m circuit \u001b[38;5;241m=\u001b[39m \u001b[38;5;28mself\u001b[39m\u001b[38;5;241m.\u001b[39mconstruct_circuit(num_clock_qubits, \n\u001b[0;32m    292\u001b[0m                                  inversion_circuit, \n\u001b[0;32m    293\u001b[0m                                  state_preparation, \n\u001b[0;32m    294\u001b[0m                                  hamiltonian_simulation, \n\u001b[0;32m    295\u001b[0m                                  quantum_conditional_logic,\n\u001b[0;32m    296\u001b[0m                                  )\n\u001b[0;32m    297\u001b[0m \u001b[38;5;66;03m# get result\u001b[39;00m\n\u001b[1;32m--> 298\u001b[0m result \u001b[38;5;241m=\u001b[39m \u001b[38;5;28;43mself\u001b[39;49m\u001b[38;5;241;43m.\u001b[39;49m\u001b[43mget_result\u001b[49m\u001b[43m(\u001b[49m\u001b[43mcircuit\u001b[49m\u001b[43m,\u001b[49m\u001b[43m \u001b[49m\u001b[43mproblem\u001b[49m\u001b[43m)\u001b[49m\n\u001b[0;32m    300\u001b[0m \u001b[38;5;66;03m# Add preprocessing data to result\u001b[39;00m\n\u001b[0;32m    301\u001b[0m result\u001b[38;5;241m.\u001b[39meigenvalue_list \u001b[38;5;241m=\u001b[39m eigenvalue_list\n",
      "File \u001b[1;32mc:\\Users\\19899\\Documents\\HHL\\HybridInversion\\Enhanced-Hybrid-HHL\\enhanced_hybrid_hhl\\get_result.py:284\u001b[0m, in \u001b[0;36mget_swap_test_result.<locals>.get_result\u001b[1;34m(hhl_circ, problem)\u001b[0m\n\u001b[0;32m    281\u001b[0m circuit \u001b[38;5;241m=\u001b[39m transpile(hhl_circ, backend)\n\u001b[0;32m    283\u001b[0m circuit_result \u001b[38;5;241m=\u001b[39m backend\u001b[38;5;241m.\u001b[39mrun(circuit)\n\u001b[1;32m--> 284\u001b[0m result_processed \u001b[38;5;241m=\u001b[39m \u001b[43mst_post_processing\u001b[49m\u001b[43m(\u001b[49m\u001b[43mcircuit_result\u001b[49m\u001b[38;5;241;43m.\u001b[39;49m\u001b[43mresult\u001b[49m\u001b[43m(\u001b[49m\u001b[43m)\u001b[49m\u001b[38;5;241;43m.\u001b[39;49m\u001b[43mget_counts\u001b[49m\u001b[43m(\u001b[49m\u001b[43m)\u001b[49m\u001b[43m)\u001b[49m\n\u001b[0;32m    286\u001b[0m result \u001b[38;5;241m=\u001b[39m HHL_Result()\n\u001b[0;32m    287\u001b[0m result\u001b[38;5;241m.\u001b[39mcircuit_results \u001b[38;5;241m=\u001b[39m circuit_result\n",
      "File \u001b[1;32mc:\\Users\\19899\\Documents\\HHL\\HybridInversion\\Enhanced-Hybrid-HHL\\enhanced_hybrid_hhl\\get_result.py:261\u001b[0m, in \u001b[0;36mget_swap_test_result.<locals>.st_post_processing\u001b[1;34m(result, counts_01, counts_11)\u001b[0m\n\u001b[0;32m    259\u001b[0m \u001b[38;5;28;01mdef\u001b[39;00m \u001b[38;5;21mst_post_processing\u001b[39m(result \u001b[38;5;241m=\u001b[39m \u001b[38;5;28;01mNone\u001b[39;00m, counts_01\u001b[38;5;241m=\u001b[39m\u001b[38;5;28;01mNone\u001b[39;00m, counts_11\u001b[38;5;241m=\u001b[39m\u001b[38;5;28;01mNone\u001b[39;00m):\n\u001b[0;32m    260\u001b[0m     \u001b[38;5;28;01mif\u001b[39;00m \u001b[38;5;129;01mnot\u001b[39;00m result\u001b[38;5;241m==\u001b[39m\u001b[38;5;28;01mNone\u001b[39;00m:\n\u001b[1;32m--> 261\u001b[0m         counts_01 \u001b[38;5;241m=\u001b[39m \u001b[43mresult\u001b[49m\u001b[43m[\u001b[49m\u001b[38;5;124;43m'\u001b[39;49m\u001b[38;5;124;43m01\u001b[39;49m\u001b[38;5;124;43m'\u001b[39;49m\u001b[43m]\u001b[49m\n\u001b[0;32m    262\u001b[0m         counts_11 \u001b[38;5;241m=\u001b[39m result[\u001b[38;5;124m'\u001b[39m\u001b[38;5;124m11\u001b[39m\u001b[38;5;124m'\u001b[39m]\n\u001b[0;32m    263\u001b[0m     prob_0 \u001b[38;5;241m=\u001b[39m counts_01\u001b[38;5;241m/\u001b[39m(counts_01\u001b[38;5;241m+\u001b[39mcounts_11)\n",
      "\u001b[1;31mKeyError\u001b[0m: '01'"
     ]
    }
   ],
   "source": [
    "# Define a preprocessing function. In this example, we use the standard QPEA used by Lee et al.\n",
    "enhanced_preprocessing = Lee_preprocessing(num_eval_qubits=l,\n",
    "                                  max_eigenvalue= maximum_eigenvalue, \n",
    "                                  backend=simulator).estimate\n",
    "\n",
    "enhanced_eigenvalue_inversion = EnhancedHybridInversion\n",
    "\n",
    "enhanced_hybrid_hhl = HHL(get_result_function= get_result_type,\n",
    "          preprocessing= enhanced_preprocessing,\n",
    "          eigenvalue_inversion= enhanced_eigenvalue_inversion,\n",
    "          backend=simulator,\n",
    "          statevector=ideal_x_statevector)\n",
    "\n",
    "enhanced_hybrid_hhl_result = enhanced_hybrid_hhl.estimate(problem=problem,\n",
    "                                                          num_clock_qubits=k,\n",
    "                                                          max_eigenvalue=1)\n",
    "\n",
    "print(enhanced_hybrid_hhl_result)"
   ]
  },
  {
   "cell_type": "code",
   "execution_count": null,
   "metadata": {},
   "outputs": [],
   "source": []
  },
  {
   "cell_type": "code",
   "execution_count": null,
   "metadata": {},
   "outputs": [],
   "source": []
  },
  {
   "cell_type": "code",
   "execution_count": null,
   "metadata": {},
   "outputs": [],
   "source": []
  }
 ],
 "metadata": {
  "kernelspec": {
   "display_name": "Python 3",
   "language": "python",
   "name": "python3"
  },
  "language_info": {
   "codemirror_mode": {
    "name": "ipython",
    "version": 3
   },
   "file_extension": ".py",
   "mimetype": "text/x-python",
   "name": "python",
   "nbconvert_exporter": "python",
   "pygments_lexer": "ipython3",
   "version": "3.9.18"
  }
 },
 "nbformat": 4,
 "nbformat_minor": 2
}
