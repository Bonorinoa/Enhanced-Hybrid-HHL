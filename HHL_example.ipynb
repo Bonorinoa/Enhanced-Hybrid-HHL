{
 "cells": [
  {
   "cell_type": "code",
   "execution_count": 1,
   "metadata": {},
   "outputs": [],
   "source": [
    "import numpy as np\n",
    "from enhanced_hybrid_hhl import (HHL, \n",
    "                                 Lee_preprocessing,  \n",
    "                                 HybridInversion, \n",
    "                                 QuantumLinearSystemProblem, \n",
    "                                 QuantumLinearSystemSolver,\n",
    "                                 EnhancedHybridInversion)"
   ]
  },
  {
   "cell_type": "code",
   "execution_count": 2,
   "metadata": {},
   "outputs": [],
   "source": [
    "from qiskit_aer import AerSimulator\n",
    "\n",
    "# define the backend to run the circuits on\n",
    "simulator = AerSimulator()"
   ]
  },
  {
   "cell_type": "code",
   "execution_count": 3,
   "metadata": {},
   "outputs": [],
   "source": [
    "# Define quantum linear system problem to be solved with HHL\n",
    "A_matrix = np.array([[ 0.5 , -0.25],\n",
    "        [-0.25,  0.5 ]])\n",
    "b_vector = np.array([[1.], [0.]])\n",
    "problem = QuantumLinearSystemProblem(A_matrix=A_matrix,\n",
    "                                     b_vector=b_vector)\n",
    "\n",
    "# Define Parameters\n",
    "k = 3 # clock qubits for hhl.\n",
    "l = k+2 # clock qubits for enhanced preprocessing.\n",
    "min_prob = 2**-k # hybrid preprocessing relevance threshold.\n",
    "relevance_threshold = 2**-l # enhanced hybrid preprocessing relevance threshold.\n",
    "maximum_eigenvalue = 1 # Over estimate of largest eigenvalue in the system.\n",
    "\n",
    "get_result_type = 'get_swap_test_result'\n",
    "ideal_x_statevector = QuantumLinearSystemSolver(problem=problem).ideal_x_statevector"
   ]
  },
  {
   "cell_type": "code",
   "execution_count": 4,
   "metadata": {},
   "outputs": [
    {
     "name": "stdout",
     "output_type": "stream",
     "text": [
      "{   'circuit_results': <qiskit_aer.jobs.aerjob.AerJob object at 0x00000258FEC60A60>,\n",
      "    'control_state_list': None,\n",
      "    'eigenbasis_projection_list': [0.051, 0.048, 0.3965, 0.40825, 0],\n",
      "    'eigenvalue_list': [0.2, 0.8, 0.7333333333333333, 0.26666666666666666, 1],\n",
      "    'ideal_x_statevector': None,\n",
      "    'post_processing': None,\n",
      "    'results_processed': 0.9664474215169189,\n",
      "    'rotation_angle_list': None,\n",
      "    'shots': None}\n"
     ]
    }
   ],
   "source": [
    "# Define a preprocessing function. In this example, we use the standard QPEA used by Lee et al.\n",
    "enhanced_preprocessing = Lee_preprocessing(num_eval_qubits=l,\n",
    "                                  max_eigenvalue= maximum_eigenvalue, \n",
    "                                  backend=simulator).estimate\n",
    "\n",
    "enhanced_eigenvalue_inversion = EnhancedHybridInversion\n",
    "\n",
    "enhanced_hybrid_hhl = HHL(get_result_function= get_result_type,\n",
    "          preprocessing= enhanced_preprocessing,\n",
    "          eigenvalue_inversion= enhanced_eigenvalue_inversion,\n",
    "          backend=simulator,\n",
    "          statevector=ideal_x_statevector)\n",
    "\n",
    "enhanced_hybrid_hhl_result = enhanced_hybrid_hhl.estimate(problem=problem,\n",
    "                                                          num_clock_qubits=k,\n",
    "                                                          max_eigenvalue=1)\n",
    "\n",
    "print(enhanced_hybrid_hhl_result)"
   ]
  },
  {
   "cell_type": "code",
   "execution_count": null,
   "metadata": {},
   "outputs": [],
   "source": []
  },
  {
   "cell_type": "code",
   "execution_count": null,
   "metadata": {},
   "outputs": [],
   "source": []
  },
  {
   "cell_type": "code",
   "execution_count": null,
   "metadata": {},
   "outputs": [],
   "source": []
  }
 ],
 "metadata": {
  "kernelspec": {
   "display_name": "Python 3",
   "language": "python",
   "name": "python3"
  },
  "language_info": {
   "codemirror_mode": {
    "name": "ipython",
    "version": 3
   },
   "file_extension": ".py",
   "mimetype": "text/x-python",
   "name": "python",
   "nbconvert_exporter": "python",
   "pygments_lexer": "ipython3",
   "version": "3.9.18"
  }
 },
 "nbformat": 4,
 "nbformat_minor": 2
}
